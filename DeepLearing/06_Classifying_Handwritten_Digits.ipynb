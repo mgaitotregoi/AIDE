{
  "nbformat": 4,
  "nbformat_minor": 0,
  "metadata": {
    "colab": {
      "provenance": [],
      "collapsed_sections": [],
      "include_colab_link": true
    },
    "kernelspec": {
      "name": "python3",
      "display_name": "Python 3"
    },
    "language_info": {
      "name": "python"
    }
  },
  "cells": [
    {
      "cell_type": "markdown",
      "metadata": {
        "id": "view-in-github",
        "colab_type": "text"
      },
      "source": [
        "<a href=\"https://colab.research.google.com/github/Salvoaf/labDeepLearning/blob/main/06_Classifying_Handwritten_Digits.ipynb\" target=\"_parent\"><img src=\"https://colab.research.google.com/assets/colab-badge.svg\" alt=\"Open In Colab\"/></a>"
      ]
    },
    {
      "cell_type": "markdown",
      "source": [
        "# MNIST dataset\n",
        "- Chapter 2, Section 1 of [Deep Learning with Python](https://www.manning.com/books/deep-learning-with-python?a_aid=keras&a_bid=76564dff). \n",
        "\n"
      ],
      "metadata": {
        "id": "Y-hT7SOfqPjv"
      }
    },
    {
      "cell_type": "markdown",
      "metadata": {
        "id": "7kfk91wrvAt4"
      },
      "source": [
        "\n",
        "![img](https://upload.wikimedia.org/wikipedia/commons/2/27/MnistExamples.png) \n",
        "\n",
        "The problem is well-known: which digit is depicted in each image?\n",
        "\n",
        "- MNIST: Modified National Institute of Standards and Technology;\n",
        "- images of handwritten digits (28 pixels by 28 pixels);\n",
        "- 10-way classification problem (0 to 9);\n",
        "- 60,000 training images, plus 10.000 test images;\n"
      ]
    },
    {
      "cell_type": "markdown",
      "metadata": {
        "id": "7bNUpjwjfrXQ"
      },
      "source": [
        "## Are the results stable?"
      ]
    },
    {
      "cell_type": "markdown",
      "metadata": {
        "id": "_shjdKE7pD88"
      },
      "source": [
        "Training in Neural Networks is a stochastic procedure: it involves a number of random operations, such as random initialization of weights.\n",
        "\n",
        "As a consequence, if we train the same model twice, we will get different results.\n",
        "\n",
        "Consider this example:"
      ]
    },
    {
      "cell_type": "code",
      "metadata": {
        "id": "xoGXhZIdrRXk",
        "colab": {
          "base_uri": "https://localhost:8080/"
        },
        "outputId": "8dd4b182-147b-454b-f0a7-34b90a47d84a"
      },
      "source": [
        "import numpy as np\n",
        "print(np.random.randint(0,10,5))\n",
        "print(np.random.randint(0,10,5))"
      ],
      "execution_count": null,
      "outputs": [
        {
          "output_type": "stream",
          "name": "stdout",
          "text": [
            "[3 6 4 9 8]\n",
            "[1 5 5 7 9]\n"
          ]
        }
      ]
    },
    {
      "cell_type": "markdown",
      "metadata": {
        "id": "yoc_Sp0Prib2"
      },
      "source": [
        "However, we can get reproducible results by setting the *seed*, i.e. a number used to initialize the pseudorandom number generator."
      ]
    },
    {
      "cell_type": "code",
      "metadata": {
        "id": "lCk7nIxnr8bx",
        "colab": {
          "base_uri": "https://localhost:8080/"
        },
        "outputId": "fb7a9697-3327-49c5-a432-09fc9580541b"
      },
      "source": [
        "np.random.seed(13)\n",
        "print(np.random.randint(0,10,5))\n",
        "print(np.random.randint(0,10,5))\n",
        "print()\n",
        "np.random.seed(13)\n",
        "print(np.random.randint(0,10,5))\n",
        "print(np.random.randint(0,10,5))\n",
        "print()\n",
        "np.random.seed(13)\n",
        "print(np.random.randint(0,10,10))\n",
        "print(np.random.randint(0,10,5))"
      ],
      "execution_count": null,
      "outputs": [
        {
          "output_type": "stream",
          "name": "stdout",
          "text": [
            "[2 0 0 6 2]\n",
            "[4 9 3 4 2]\n",
            "\n",
            "[2 0 0 6 2]\n",
            "[4 9 3 4 2]\n",
            "\n",
            "[2 0 0 6 2 4 9 3 4 2]\n",
            "[6 5 9 4 2]\n"
          ]
        }
      ]
    },
    {
      "cell_type": "markdown",
      "metadata": {
        "id": "yLcwHW9GswmK"
      },
      "source": [
        "Nevertheless, fixing the numpy source of randomness does not ensure reproducible behavior: we can still get different results because of randomness introduced by third-part libraries or by the usage of GPU."
      ]
    },
    {
      "cell_type": "markdown",
      "metadata": {
        "id": "f_Qjh1ru24t4"
      },
      "source": [
        "### Long Story Short\n",
        "- getting reproducible results using Keras with Tensorflow as Backend is arduous\n",
        "- currently, exact reproducibility:\n",
        "  - is not guaranteed on GPU\n",
        "  - requires a bit of coding effort and increased runtime on CPU\n",
        "\n"
      ]
    },
    {
      "cell_type": "markdown",
      "metadata": {
        "id": "YufPSA_dsNv-"
      },
      "source": [
        "## Setup the Environment"
      ]
    },
    {
      "cell_type": "code",
      "metadata": {
        "id": "Z1rEDdD3qEhm"
      },
      "source": [
        "import os\n",
        "dir_name = \"my_models\"\n",
        "if not os.path.exists(dir_name):\n",
        "  os.makedirs(dir_name)"
      ],
      "execution_count": null,
      "outputs": []
    },
    {
      "cell_type": "markdown",
      "metadata": {
        "id": "hFeIqgy33Yxn"
      },
      "source": [
        "**Pay attention** ❗\n",
        "\n",
        "The `my_models` folder will be lost when the lifetime of your google VM will expire.\n",
        "\n",
        "If you want to store something in a **persistent manner**, you can consider [mounting Google drive](https://colab.research.google.com/notebooks/io.ipynb)"
      ]
    },
    {
      "cell_type": "markdown",
      "metadata": {
        "id": "p3Uf949h2LlU"
      },
      "source": [
        "Snippet from [how can i obtain reproducible results using keras during development?](https://keras.io/getting-started/faq/#how-can-i-obtain-reproducible-results-using-keras-during-development)"
      ]
    },
    {
      "cell_type": "code",
      "metadata": {
        "id": "rHRHdroNshfh"
      },
      "source": [
        "import os\n",
        "import numpy as np\n",
        "import tensorflow as tf\n",
        "import matplotlib.pyplot as plt\n",
        "from tensorflow import keras\n",
        "import random as rn\n",
        "\n",
        "# The below is necessary for reproducible results of certain Python hash-based operations.\n",
        "os.environ[\"PYTHONHASHSEED\"]=\"0\"\n",
        "\n",
        "# The below is necessary for starting Numpy generated random numbers in a well-defined initial state.\n",
        "np.random.seed(31)\n",
        "\n",
        "# The below is necessary for starting core Python generated random numbers in a well-defined state.\n",
        "rn.seed(14)\n",
        "\n",
        "# The below tf.random.set_seed will make random number generation in TensorFlow have a well-defined initial state.\n",
        "tf.random.set_seed(1234)"
      ],
      "execution_count": null,
      "outputs": []
    },
    {
      "cell_type": "markdown",
      "metadata": {
        "id": "YQUcp_Iqjd8P"
      },
      "source": [
        "However:\n",
        "> *when running on a GPU, some operations have non-deterministic outputs, in particular tf.reduce_sum(). This is due to the fact that GPUs run many operations in parallel, so the order of execution is not always guaranteed. Due to the limited precision of floats, even adding several numbers together may give slightly different results depending on the order in which you add them.*\n",
        "\n",
        "The above mentioned tricks reduce the impact of most non-deterministic operations, but some others may be created automatically by TensorFlow to compute the gradients when using GPU.\n",
        "To date, the only safe way to get exactly reproducible results is to set the random seeds AND run the code on the CPU. For this, you can set the `CUDA_VISIBLE_DEVICES` environment variable to an empty string, or disable the GPU in colab environment.\n",
        "\n",
        "\n"
      ]
    },
    {
      "cell_type": "markdown",
      "metadata": {
        "id": "6ZOwekDVvxxd"
      },
      "source": [
        "## Download the Dataset"
      ]
    },
    {
      "cell_type": "code",
      "metadata": {
        "id": "jNOlhoOpgd1h",
        "colab": {
          "base_uri": "https://localhost:8080/"
        },
        "outputId": "5df96efd-7491-4515-bce9-2ca0946eb905"
      },
      "source": [
        "from tensorflow.keras import datasets\n",
        "(train_images, train_labels), (test_images, test_labels) = datasets.mnist.load_data()"
      ],
      "execution_count": null,
      "outputs": [
        {
          "output_type": "stream",
          "name": "stdout",
          "text": [
            "Downloading data from https://storage.googleapis.com/tensorflow/tf-keras-datasets/mnist.npz\n",
            "11490434/11490434 [==============================] - 0s 0us/step\n"
          ]
        }
      ]
    },
    {
      "cell_type": "code",
      "metadata": {
        "id": "Hu6Lya5uhqnu",
        "colab": {
          "base_uri": "https://localhost:8080/"
        },
        "outputId": "50d94dc5-8d1c-4072-bac5-17d420639a2f"
      },
      "source": [
        "print(train_images.shape, train_labels.shape)\n",
        "print(test_images.shape, test_labels.shape)"
      ],
      "execution_count": null,
      "outputs": [
        {
          "output_type": "stream",
          "name": "stdout",
          "text": [
            "(60000, 28, 28) (60000,)\n",
            "(10000, 28, 28) (10000,)\n"
          ]
        }
      ]
    },
    {
      "cell_type": "code",
      "metadata": {
        "colab": {
          "base_uri": "https://localhost:8080/"
        },
        "id": "I1645wx0zSIE",
        "outputId": "a7743b4c-b2eb-45b0-90cc-051ef93afd73"
      },
      "source": [
        "print(train_images.ndim)\n",
        "print(train_labels.ndim)"
      ],
      "execution_count": null,
      "outputs": [
        {
          "output_type": "stream",
          "name": "stdout",
          "text": [
            "3\n",
            "1\n"
          ]
        }
      ]
    },
    {
      "cell_type": "code",
      "metadata": {
        "colab": {
          "base_uri": "https://localhost:8080/"
        },
        "id": "Z6MVNCvyzVEQ",
        "outputId": "4fad8296-e338-46f0-c6a3-f75019858831"
      },
      "source": [
        "print(train_images.dtype)\n",
        "print(test_images.dtype)"
      ],
      "execution_count": null,
      "outputs": [
        {
          "output_type": "stream",
          "name": "stdout",
          "text": [
            "uint8\n",
            "uint8\n"
          ]
        }
      ]
    },
    {
      "cell_type": "code",
      "metadata": {
        "id": "eDm_9wDU6Zxb",
        "colab": {
          "base_uri": "https://localhost:8080/"
        },
        "outputId": "06ec0b51-4d65-4237-cb32-254e77ac163b"
      },
      "source": [
        "train_labels[:10]"
      ],
      "execution_count": null,
      "outputs": [
        {
          "output_type": "execute_result",
          "data": {
            "text/plain": [
              "array([5, 0, 4, 1, 9, 2, 1, 3, 1, 4], dtype=uint8)"
            ]
          },
          "metadata": {},
          "execution_count": 9
        }
      ]
    },
    {
      "cell_type": "code",
      "metadata": {
        "id": "0wJXuiAEkk48",
        "colab": {
          "base_uri": "https://localhost:8080/",
          "height": 267
        },
        "outputId": "7a1504bd-7d5b-466b-d892-fc3fac701a7b"
      },
      "source": [
        "plt.hist(train_labels)\n",
        "plt.show()"
      ],
      "execution_count": null,
      "outputs": [
        {
          "output_type": "display_data",
          "data": {
            "text/plain": [
              "<Figure size 432x288 with 1 Axes>"
            ],
            "image/png": "[encoded data removed]"
          },
          "metadata": {
            "needs_background": "light"
          }
        }
      ]
    },
    {
      "cell_type": "code",
      "metadata": {
        "colab": {
          "base_uri": "https://localhost:8080/"
        },
        "id": "3fAQQEjsU1Xv",
        "outputId": "4fbdc097-806a-4c2b-94b4-41289dda5283"
      },
      "source": [
        "index_selection = 19\n",
        "train_images[index_selection].shape, train_images[index_selection,:,:].shape"
      ],
      "execution_count": null,
      "outputs": [
        {
          "output_type": "execute_result",
          "data": {
            "text/plain": [
              "((28, 28), (28, 28))"
            ]
          },
          "metadata": {},
          "execution_count": 11
        }
      ]
    },
    {
      "cell_type": "code",
      "metadata": {
        "id": "yAZ0g5_9h6pv",
        "colab": {
          "base_uri": "https://localhost:8080/"
        },
        "outputId": "0c191ba5-574e-401f-e0dd-cbbabc15e705"
      },
      "source": [
        "# use matplotlib to plot the first training sample\n",
        "print('True Label is',train_labels[index_selection])\n",
        "plt.imshow(train_images[index_selection,:,:], cmap = 'gray')\n",
        "plt.title('first sample')\n",
        "plt.show()\n",
        "print(train_images[index_selection,:,:])"
      ],
      "execution_count": null,
      "outputs": [
        {
          "output_type": "stream",
          "name": "stdout",
          "text": [
            "True Label is 9\n"
          ]
        },
        {
          "output_type": "display_data",
          "data": {
            "text/plain": [
              "<Figure size 432x288 with 1 Axes>"
            ],
            "image/png": "[encoded data removed]"
          },
          "metadata": {
            "needs_background": "light"
          }
        },
        {
          "output_type": "stream",
          "name": "stdout",
          "text": [
            "[[  0   0   0   0   0   0   0   0   0   0   0   0   0   0   0   0   0   0\n",
            "    0   0   0   0   0   0   0   0   0   0]\n",
            " [  0   0   0   0   0   0   0   0   0   0   0   0   0   0   0   0   0   0\n",
            "    0   0   0   0   0   0   0   0   0   0]\n",
            " [  0   0   0   0   0   0   0   0   0   0   0   0   0   0   0   0   0   0\n",
            "    0   0   0   0   0   0   0   0   0   0]\n",
            " [  0   0   0   0   0   0   0   0   0   0   0   0   0   0   0   0   0   0\n",
            "    0   0   0   0   0   0   0   0   0   0]\n",
            " [  0   0   0   0   0   0   0   0   0   0   0   0   0   0   0   0   0   0\n",
            "    0   0   0   0   0   0   0   0   0   0]\n",
            " [  0   0   0   0   0   0   0   0   0   0   0   0   0   0   0   0   0   0\n",
            "    0   0   0   0   0   0   0   0   0   0]\n",
            " [  0   0   0   0   0   0   0   0   0   0   0   0   0   0   0   0   0   0\n",
            "    0   0   0   0   0   0   0   0   0   0]\n",
            " [  0   0   0   0   0   0   0   0   0   0   0   0   0  18 105 227 253 253\n",
            "  122   0   0   0   0   0   0   0   0   0]\n",
            " [  0   0   0   0   0   0   0   0   0   0   0   0  57 199 253 252 252 252\n",
            "  252 159   0   0   0   0   0   0   0   0]\n",
            " [  0   0   0   0   0   0   0   0   0   0   0  20 211 252 232 152  73 167\n",
            "  252 215   6   0   0   0   0   0   0   0]\n",
            " [  0   0   0   0   0   0   0   0   0   0   0 197 252 182   0   0   0  37\n",
            "  235 243  47   0   0   0   0   0   0   0]\n",
            " [  0   0   0   0   0   0   0   0   0   0   0 188 252 103   0   0   0  37\n",
            "  235 229  27   0   0   0   0   0   0   0]\n",
            " [  0   0   0   0   0   0   0   0   0   0   0 189 253  86   8  43 139 190\n",
            "  211  45   0   0   0   0   0   0   0   0]\n",
            " [  0   0   0   0   0   0   0   0   0   0   0 232 252 200 201 252 252  84\n",
            "    0   0   0   0   0   0   0   0   0   0]\n",
            " [  0   0   0   0   0   0   0   0   0   0   0 213 245 252 253 252 242  42\n",
            "    0   0   0   0   0   0   0   0   0   0]\n",
            " [  0   0   0   0   0   0   0   0   0   0   0   0  56  84 253 252 160   0\n",
            "    0   0   0   0   0   0   0   0   0   0]\n",
            " [  0   0   0   0   0   0   0   0   0   0   0   0   0  45 253 252  38   0\n",
            "    0   0   0   0   0   0   0   0   0   0]\n",
            " [  0   0   0   0   0   0   0   0   0   0   0   0   0  89 255 253  38   0\n",
            "    0   0   0   0   0   0   0   0   0   0]\n",
            " [  0   0   0   0   0   0   0   0   0   0   0   0   0  80 253 189  32   0\n",
            "    0   0   0   0   0   0   0   0   0   0]\n",
            " [  0   0   0   0   0   0   0   0   0   0   0   0  41 179 232  84   0   0\n",
            "    0   0   0   0   0   0   0   0   0   0]\n",
            " [  0   0   0   0   0   0   0   0   0   0   0  15 225 252 115   0   0   0\n",
            "    0   0   0   0   0   0   0   0   0   0]\n",
            " [  0   0   0   0   0   0   0   0   0   0   0 153 252 164   0   0   0   0\n",
            "    0   0   0   0   0   0   0   0   0   0]\n",
            " [  0   0   0   0   0   0   0   0   0   0  68 245 243  79   0   0   0   0\n",
            "    0   0   0   0   0   0   0   0   0   0]\n",
            " [  0   0   0   0   0   0   0   0   0  32 237 245  82   0   0   0   0   0\n",
            "    0   0   0   0   0   0   0   0   0   0]\n",
            " [  0   0   0   0   0   0   0   0   9 148 252 169   0   0   0   0   0   0\n",
            "    0   0   0   0   0   0   0   0   0   0]\n",
            " [  0   0   0   0   0   0   0   0 106 253 196   7   0   0   0   0   0   0\n",
            "    0   0   0   0   0   0   0   0   0   0]\n",
            " [  0   0   0   0   0   0   0  54 228 129  28   0   0   0   0   0   0   0\n",
            "    0   0   0   0   0   0   0   0   0   0]\n",
            " [  0   0   0   0   0   0   0   0   0   0   0   0   0   0   0   0   0   0\n",
            "    0   0   0   0   0   0   0   0   0   0]]\n"
          ]
        }
      ]
    },
    {
      "cell_type": "markdown",
      "metadata": {
        "id": "LNxVRf27uwRx"
      },
      "source": [
        "## Building the model"
      ]
    },
    {
      "cell_type": "markdown",
      "metadata": {
        "id": "s_8DxNIzhTL6"
      },
      "source": [
        "### HyperParameters vs Parameters"
      ]
    },
    {
      "cell_type": "markdown",
      "metadata": {
        "id": "vkhgGuLRwXqm"
      },
      "source": [
        "When we want to build a model we have to carefully design its components: how many hidden layers? how many units per layer? Which optimizer and learning rate value?\n",
        "\n",
        "Indeed, the behaviour of an algorithm for training a neural network is affected\n",
        "by a set of **hyperparameters**. Examples of hyperparameters are:\n",
        "- Number of layers and hidden units: affects the capacity of the model;\n",
        "- Learning rate: determines the step size in learning procedure;\n",
        "- Learning rate decay strategy;\n",
        "- Mini-batch size;\n",
        "- Number of epochs of training and stop criterion;\n",
        "- Weights initialization strategy;\n",
        "- Preprocessing strategy;\n",
        "- and possibly many others\n",
        "\n",
        "They are defined *hyperparameters*, as opposed to the *parameters* of a network, i.e. weights and biases that define the behaviour of neurons and are adjusted by the training procedure. That is why *parameters* are referred to as *trainable parameters*.\n",
        "\n",
        "Defining the correct hyperparameter configuration is of the utmost importance, and it may take days or weeks of tuning. Indeed, an active area of research is *hyperparameter optimization*."
      ]
    },
    {
      "cell_type": "code",
      "metadata": {
        "id": "9pGm6mVNzthS"
      },
      "source": [
        "# the number of output units and their activation is determined by our problem: ten digits\n",
        "output_units = 10\n",
        "output_activation = 'softmax'\n",
        "\n",
        "# Hyperparameters\n",
        "hidden_units = 512\n",
        "hidden_activation = 'relu'"
      ],
      "execution_count": null,
      "outputs": []
    },
    {
      "cell_type": "code",
      "metadata": {
        "id": "XJWS9nQ7ui6-"
      },
      "source": [
        "from tensorflow.keras import models\n",
        "from tensorflow.keras import layers\n",
        "\n",
        "network = models.Sequential()\n",
        "network.add(layers.Dense(hidden_units, activation=hidden_activation, input_shape=(28 * 28,)))\n",
        "network.add(layers.Dense(output_units, activation=output_activation))"
      ],
      "execution_count": null,
      "outputs": []
    },
    {
      "cell_type": "markdown",
      "metadata": {
        "id": "5b8elfkW0vLw"
      },
      "source": [
        "A more compact syntax can be used:\n",
        "```python\n",
        "model = keras.Sequential([\n",
        "    layers.Dense(hidden_units, activation=hidden_activation, input_shape = (28*28,)),\n",
        "    layers.Dense(output_units, activation=output_activation)\n",
        "])\n",
        "```\n",
        "\n"
      ]
    },
    {
      "cell_type": "code",
      "metadata": {
        "colab": {
          "base_uri": "https://localhost:8080/"
        },
        "id": "ZeFQxLg60tg3",
        "outputId": "a44b7adf-12b9-4993-b658-84cc646118c1"
      },
      "source": [
        "network.summary() # pay attention to the number of parameters. where do they come from?"
      ],
      "execution_count": null,
      "outputs": [
        {
          "output_type": "stream",
          "name": "stdout",
          "text": [
            "Model: \"sequential\"\n",
            "_________________________________________________________________\n",
            " Layer (type)                Output Shape              Param #   \n",
            "=================================================================\n",
            " dense (Dense)               (None, 512)               401920    \n",
            "                                                                 \n",
            " dense_1 (Dense)             (None, 10)                5130      \n",
            "                                                                 \n",
            "=================================================================\n",
            "Total params: 407,050\n",
            "Trainable params: 407,050\n",
            "Non-trainable params: 0\n",
            "_________________________________________________________________\n"
          ]
        }
      ]
    },
    {
      "cell_type": "code",
      "metadata": {
        "id": "zo3r5Hk2hpDT",
        "colab": {
          "base_uri": "https://localhost:8080/"
        },
        "outputId": "51324665-c9d2-4a23-cd97-b266cfd9e2e9"
      },
      "source": [
        "# Let's evaluate the number of parameters\n",
        "first_layer = 28*28*512+512\n",
        "first_layer"
      ],
      "execution_count": null,
      "outputs": [
        {
          "output_type": "execute_result",
          "data": {
            "text/plain": [
              "401920"
            ]
          },
          "metadata": {},
          "execution_count": 16
        }
      ]
    },
    {
      "cell_type": "markdown",
      "metadata": {
        "id": "oDbppvJE_NqA"
      },
      "source": [
        "To make our network ready for training, we need to set three more things:\n",
        "\n",
        "* a loss function;\n",
        "* an optimizer;\n",
        "* metrics to monitor during training and testing."
      ]
    },
    {
      "cell_type": "code",
      "metadata": {
        "id": "tGp1gYRTASW3"
      },
      "source": [
        "network.compile?"
      ],
      "execution_count": null,
      "outputs": []
    },
    {
      "cell_type": "code",
      "metadata": {
        "id": "x_gbiRORAB8X"
      },
      "source": [
        "network.compile(optimizer='rmsprop', # rmsprop (Root Mean Square Propagation) is a good choice for the optimizer\n",
        "                loss='categorical_crossentropy', # categorical crossentropy for a multi-class clasification problem\n",
        "                metrics=['accuracy']) # accuracy = number of correctly labeled samples / number of samples"
      ],
      "execution_count": null,
      "outputs": []
    },
    {
      "cell_type": "markdown",
      "metadata": {
        "id": "GWm0xQN1Bc6f"
      },
      "source": [
        "Sometimes you may want to configure your optimizer. This can be done by passing an optimizer class instance as the `optimizer` argument.\n",
        "\n",
        "\n",
        "```python\n",
        "from tensorflow.keras import optimizers\n",
        "\n",
        "model.compile(optimizer=optimizers.RMSprop(lr=0.001),\n",
        "              loss='categorical_crossentropy',\n",
        "              metrics=['accuracy'])\n",
        "```\n",
        "\n",
        "Similarly, you can pass custom loss or metric functions as arguments of `compile`."
      ]
    },
    {
      "cell_type": "markdown",
      "metadata": {
        "id": "etBSPotxA1Ci"
      },
      "source": [
        "## Preparing the dataset\n",
        "Our network is a MLP: we need to reshape images into a vector of input units.\n",
        "\n",
        "Remember that our network expects a 2D tensor of input shape of (Batch_size, 28*28=784) "
      ]
    },
    {
      "cell_type": "code",
      "metadata": {
        "id": "KT2FbQ9dAeor"
      },
      "source": [
        "train_images = train_images.reshape((60000, 28 * 28))\n",
        "test_images = test_images.reshape((10000, 28 * 28))"
      ],
      "execution_count": null,
      "outputs": []
    },
    {
      "cell_type": "code",
      "metadata": {
        "id": "K5esgT6ODtQs",
        "colab": {
          "base_uri": "https://localhost:8080/"
        },
        "outputId": "6b7c4e1b-6dd6-485f-d252-4c76a2c678a5"
      },
      "source": [
        "train_images.shape # check the shape!"
      ],
      "execution_count": null,
      "outputs": [
        {
          "output_type": "execute_result",
          "data": {
            "text/plain": [
              "(60000, 784)"
            ]
          },
          "metadata": {},
          "execution_count": 20
        }
      ]
    },
    {
      "cell_type": "code",
      "metadata": {
        "id": "LX4rjaG4Dwsr",
        "colab": {
          "base_uri": "https://localhost:8080/"
        },
        "outputId": "9753e901-3e63-4b0f-97b7-4b6d24dc0f4d"
      },
      "source": [
        "print(train_images[0].dtype) # check the type\n",
        "plt.hist(train_images[0]) # check the value range and the distribution\n",
        "plt.show()"
      ],
      "execution_count": null,
      "outputs": [
        {
          "output_type": "stream",
          "name": "stdout",
          "text": [
            "uint8\n"
          ]
        },
        {
          "output_type": "display_data",
          "data": {
            "text/plain": [
              "<Figure size 432x288 with 1 Axes>"
            ],
            "image/png": "[encoded data removed]"
          },
          "metadata": {
            "needs_background": "light"
          }
        }
      ]
    },
    {
      "cell_type": "markdown",
      "metadata": {
        "id": "NXt8KlfNDSGm"
      },
      "source": [
        "Original tensor are of type 'uint8' with values in the range [0,255]. \n",
        "\n",
        "We transform it into a `float32` array of shape `(60000, 28 * 28)` with values between 0 and 1"
      ]
    },
    {
      "cell_type": "code",
      "metadata": {
        "id": "V5TqAjZADC4x",
        "colab": {
          "base_uri": "https://localhost:8080/"
        },
        "outputId": "b9a5ccf4-75fa-4131-84e0-1cf7eb3a3be2"
      },
      "source": [
        "train_images = train_images.astype('float32') / 255\n",
        "test_images = test_images.astype('float32') / 255\n",
        "print(train_images[0].dtype)\n",
        "plt.hist(train_images[0])\n",
        "plt.show()"
      ],
      "execution_count": null,
      "outputs": [
        {
          "output_type": "stream",
          "name": "stdout",
          "text": [
            "float32\n"
          ]
        },
        {
          "output_type": "display_data",
          "data": {
            "text/plain": [
              "<Figure size 432x288 with 1 Axes>"
            ],
            "image/png": "[encoded data removed]"
          },
          "metadata": {
            "needs_background": "light"
          }
        }
      ]
    },
    {
      "cell_type": "markdown",
      "metadata": {
        "id": "mehTq3QHFpzD"
      },
      "source": [
        "When using the **categorical_crossentropy** loss, your targets should be in categorical (one-hot encoding) format: e.g. if you have 10 classes, the target for each sample should be a 10-dimensional vector that is all-zeros except for a 1 at the index corresponding to the class of the sample. In order to convert integer targets into categorical targets, you can use the Keras utility to_categorical:"
      ]
    },
    {
      "cell_type": "code",
      "metadata": {
        "id": "pEnFfcrlGwJl"
      },
      "source": [
        "from tensorflow.keras.utils import to_categorical\n",
        "\n",
        "train_labels = to_categorical(train_labels)\n",
        "test_labels = to_categorical(test_labels)"
      ],
      "execution_count": null,
      "outputs": []
    },
    {
      "cell_type": "code",
      "metadata": {
        "id": "et1pqp_T_wIR",
        "colab": {
          "base_uri": "https://localhost:8080/"
        },
        "outputId": "1573127f-cb5a-4aca-9f2c-ac287048314a"
      },
      "source": [
        "train_labels[0]"
      ],
      "execution_count": null,
      "outputs": [
        {
          "output_type": "execute_result",
          "data": {
            "text/plain": [
              "array([0., 0., 0., 0., 0., 1., 0., 0., 0., 0.], dtype=float32)"
            ]
          },
          "metadata": {},
          "execution_count": 24
        }
      ]
    },
    {
      "cell_type": "markdown",
      "metadata": {
        "id": "Yc7P9T6N1u4J"
      },
      "source": [
        "You can also use the original **integer** labels coupled with an ad-hoc loss function, namely **sparse_categorical_crossentropy**.\n",
        "\n",
        "To sum up (loss function and labels encoding)\n",
        "*   use `categorical_crossentropy` with **one-hot encoding** (e.g., after applying `to_categorical` utility function)\n",
        "*   use `sparse_categorical_crossentropy` with **integer encoding**\n",
        "\n",
        "\n"
      ]
    },
    {
      "cell_type": "markdown",
      "metadata": {
        "id": "WSLJfshbGyp0"
      },
      "source": [
        "## Training the model\n"
      ]
    },
    {
      "cell_type": "code",
      "metadata": {
        "id": "oKK6N9l2G9YR"
      },
      "source": [
        "network.fit?"
      ],
      "execution_count": null,
      "outputs": []
    },
    {
      "cell_type": "code",
      "metadata": {
        "id": "-xCPWbyQHDG-"
      },
      "source": [
        "# other hyperparameters\n",
        "epochs = 10 # how many times the network experiments the whole training set\n",
        "batch_size = 128 #how many examples the network exmperiments at every step"
      ],
      "execution_count": null,
      "outputs": []
    },
    {
      "cell_type": "code",
      "metadata": {
        "id": "80zmJ0DFG5bk",
        "colab": {
          "base_uri": "https://localhost:8080/"
        },
        "outputId": "af5bad22-86f5-4976-d00d-384414ea1d5f"
      },
      "source": [
        "history = network.fit(train_images, \n",
        "                      train_labels, \n",
        "                      epochs=epochs, \n",
        "                      batch_size=batch_size,\n",
        "                      shuffle = True)"
      ],
      "execution_count": null,
      "outputs": [
        {
          "output_type": "stream",
          "name": "stdout",
          "text": [
            "Epoch 1/10\n",
            "469/469 [==============================] - 11s 21ms/step - loss: 0.2539 - accuracy: 0.9260\n",
            "Epoch 2/10\n",
            "469/469 [==============================] - 6s 12ms/step - loss: 0.1029 - accuracy: 0.9695\n",
            "Epoch 3/10\n",
            "469/469 [==============================] - 5s 11ms/step - loss: 0.0678 - accuracy: 0.9799\n",
            "Epoch 4/10\n",
            "469/469 [==============================] - 5s 11ms/step - loss: 0.0501 - accuracy: 0.9849\n",
            "Epoch 5/10\n",
            "469/469 [==============================] - 5s 11ms/step - loss: 0.0379 - accuracy: 0.9883\n",
            "Epoch 6/10\n",
            "469/469 [==============================] - 5s 11ms/step - loss: 0.0288 - accuracy: 0.9912\n",
            "Epoch 7/10\n",
            "469/469 [==============================] - 5s 11ms/step - loss: 0.0221 - accuracy: 0.9936\n",
            "Epoch 8/10\n",
            "469/469 [==============================] - 5s 11ms/step - loss: 0.0167 - accuracy: 0.9951\n",
            "Epoch 9/10\n",
            "469/469 [==============================] - 5s 11ms/step - loss: 0.0125 - accuracy: 0.9965\n",
            "Epoch 10/10\n",
            "469/469 [==============================] - 5s 11ms/step - loss: 0.0100 - accuracy: 0.9971\n"
          ]
        }
      ]
    },
    {
      "cell_type": "code",
      "metadata": {
        "id": "CopwH3rFNcn5",
        "colab": {
          "base_uri": "https://localhost:8080/"
        },
        "outputId": "28d0722e-efdc-42a3-9f42-e70223deca38"
      },
      "source": [
        "history?\n",
        "history.__dict__"
      ],
      "execution_count": null,
      "outputs": [
        {
          "output_type": "execute_result",
          "data": {
            "text/plain": [
              "{'validation_data': None,\n",
              " 'model': <keras.engine.sequential.Sequential at 0x7f301231d090>,\n",
              " '_chief_worker_only': None,\n",
              " '_supports_tf_logs': False,\n",
              " 'history': {'loss': [0.25386613607406616,\n",
              "   0.10292712599039078,\n",
              "   0.06775671243667603,\n",
              "   0.05010628327727318,\n",
              "   0.03788979351520538,\n",
              "   0.028765065595507622,\n",
              "   0.02206891030073166,\n",
              "   0.016708333045244217,\n",
              "   0.012453901581466198,\n",
              "   0.01000402495265007],\n",
              "  'accuracy': [0.9259666800498962,\n",
              "   0.9695000052452087,\n",
              "   0.9799333214759827,\n",
              "   0.9848999977111816,\n",
              "   0.9882500171661377,\n",
              "   0.9912333488464355,\n",
              "   0.9935500025749207,\n",
              "   0.9950833320617676,\n",
              "   0.9965166449546814,\n",
              "   0.9971166849136353]},\n",
              " 'params': {'verbose': 1, 'epochs': 10, 'steps': 469},\n",
              " 'epoch': [0, 1, 2, 3, 4, 5, 6, 7, 8, 9]}"
            ]
          },
          "metadata": {},
          "execution_count": 28
        }
      ]
    },
    {
      "cell_type": "code",
      "metadata": {
        "id": "AGPPI6tQPJZ-",
        "colab": {
          "base_uri": "https://localhost:8080/"
        },
        "outputId": "938d2d6f-abfe-4744-a26c-4a0f6bd21c2f"
      },
      "source": [
        "# history.history is a dictionary\n",
        "loss = history.history[\"loss\"]\n",
        "acc = history.history[\"accuracy\"]\n",
        "print('loss',loss)\n",
        "print('acc',acc)\n",
        "plt.figure()\n",
        "plt.plot(loss,'o-b')\n",
        "plt.title('Loss')\n",
        "plt.show()\n",
        "plt.figure()\n",
        "plt.plot(acc,'o-b')\n",
        "plt.title('Accuracy')\n",
        "plt.show()"
      ],
      "execution_count": null,
      "outputs": [
        {
          "output_type": "stream",
          "name": "stdout",
          "text": [
            "loss [0.25386613607406616, 0.10292712599039078, 0.06775671243667603, 0.05010628327727318, 0.03788979351520538, 0.028765065595507622, 0.02206891030073166, 0.016708333045244217, 0.012453901581466198, 0.01000402495265007]\n",
            "acc [0.9259666800498962, 0.9695000052452087, 0.9799333214759827, 0.9848999977111816, 0.9882500171661377, 0.9912333488464355, 0.9935500025749207, 0.9950833320617676, 0.9965166449546814, 0.9971166849136353]\n"
          ]
        },
        {
          "output_type": "display_data",
          "data": {
            "text/plain": [
              "<Figure size 432x288 with 1 Axes>"
            ],
            "image/png": "[encoded data removed]"
          },
          "metadata": {
            "needs_background": "light"
          }
        },
        {
          "output_type": "display_data",
          "data": {
            "text/plain": [
              "<Figure size 432x288 with 1 Axes>"
            ],
            "image/png": "[encoded data removed]"
          },
          "metadata": {
            "needs_background": "light"
          }
        }
      ]
    },
    {
      "cell_type": "markdown",
      "metadata": {
        "id": "r9uvaGIzN9dP"
      },
      "source": [
        "## Evaluate the model on the Test Set\n",
        "\n"
      ]
    },
    {
      "cell_type": "markdown",
      "metadata": {
        "id": "WQCvVMlLQJUF"
      },
      "source": [
        "Let's check that our model performs well on the test set too:"
      ]
    },
    {
      "cell_type": "code",
      "metadata": {
        "id": "32vY2chxQICD",
        "colab": {
          "base_uri": "https://localhost:8080/"
        },
        "outputId": "fe3a2e1a-4351-4239-c6c1-e79917fe6dd9"
      },
      "source": [
        "test_loss, test_acc = network.evaluate(test_images, test_labels)\n",
        "print('test_acc:', test_acc)"
      ],
      "execution_count": null,
      "outputs": [
        {
          "output_type": "stream",
          "name": "stdout",
          "text": [
            "313/313 [==============================] - 1s 4ms/step - loss: 0.0752 - accuracy: 0.9808\n",
            "test_acc: 0.9807999730110168\n"
          ]
        }
      ]
    },
    {
      "cell_type": "markdown",
      "metadata": {
        "id": "28aRxRcMQKh8"
      },
      "source": [
        "What's happening here? We will obtain test accuracy step by step."
      ]
    },
    {
      "cell_type": "code",
      "metadata": {
        "id": "lpA4hFEcQmoO",
        "colab": {
          "base_uri": "https://localhost:8080/"
        },
        "outputId": "bb5dd396-8fab-4e77-fd5e-b202b95586f9"
      },
      "source": [
        "predictions = network.predict(test_images) # get the output for each sample\n",
        "predictions[0]"
      ],
      "execution_count": null,
      "outputs": [
        {
          "output_type": "stream",
          "name": "stdout",
          "text": [
            "313/313 [==============================] - 1s 3ms/step\n"
          ]
        },
        {
          "output_type": "execute_result",
          "data": {
            "text/plain": [
              "array([1.1523343e-12, 5.3685425e-16, 1.0958965e-09, 2.2395443e-07,\n",
              "       4.9834199e-16, 1.0500917e-11, 2.8434098e-18, 9.9999970e-01,\n",
              "       4.8141879e-11, 4.6440449e-10], dtype=float32)"
            ]
          },
          "metadata": {},
          "execution_count": 31
        }
      ]
    },
    {
      "cell_type": "code",
      "metadata": {
        "colab": {
          "base_uri": "https://localhost:8080/"
        },
        "id": "QgiEqkln5H1n",
        "outputId": "12c54ec5-f2a6-4a5d-8927-196c75e9b033"
      },
      "source": [
        "np.argmax(predictions[0]) # from one-hot encoding to integer"
      ],
      "execution_count": null,
      "outputs": [
        {
          "output_type": "execute_result",
          "data": {
            "text/plain": [
              "7"
            ]
          },
          "metadata": {},
          "execution_count": 32
        }
      ]
    },
    {
      "cell_type": "code",
      "metadata": {
        "colab": {
          "base_uri": "https://localhost:8080/"
        },
        "id": "ZEVVtSmU5pNK",
        "outputId": "120b943a-c626-4647-abea-9b177bf0b1e7"
      },
      "source": [
        "np.argmax(test_labels[0]) # check if the predicted label agrees with the ground-truth"
      ],
      "execution_count": null,
      "outputs": [
        {
          "output_type": "execute_result",
          "data": {
            "text/plain": [
              "7"
            ]
          },
          "metadata": {},
          "execution_count": 33
        }
      ]
    },
    {
      "cell_type": "code",
      "metadata": {
        "id": "vuD8EfN7QvLr",
        "colab": {
          "base_uri": "https://localhost:8080/"
        },
        "outputId": "d4114f36-ea05-4404-f375-8497f8cc0988"
      },
      "source": [
        "predicted_lab = np.argmax(predictions,axis=1) # from one-hot encoding to integer\n",
        "test_lab = np.argmax(test_labels,axis=1) # from one-hot encoding to integer\n",
        "predicted_lab.shape,test_lab.shape"
      ],
      "execution_count": null,
      "outputs": [
        {
          "output_type": "execute_result",
          "data": {
            "text/plain": [
              "((10000,), (10000,))"
            ]
          },
          "metadata": {},
          "execution_count": 34
        }
      ]
    },
    {
      "cell_type": "code",
      "metadata": {
        "id": "iqrS5mUSQ67V",
        "colab": {
          "base_uri": "https://localhost:8080/"
        },
        "outputId": "266bc3e8-4001-48ef-bfb8-7ec92757e561"
      },
      "source": [
        "correct_predictions = np.sum(np.equal(predicted_lab,test_lab))\n",
        "accuracy = correct_predictions/len(test_lab)\n",
        "print(accuracy)"
      ],
      "execution_count": null,
      "outputs": [
        {
          "output_type": "stream",
          "name": "stdout",
          "text": [
            "0.9808\n"
          ]
        }
      ]
    },
    {
      "cell_type": "code",
      "metadata": {
        "id": "B6ilrQRWSZLQ"
      },
      "source": [
        "#save the trained model, we will compare its performance with another, more sofisticated, model\n",
        "network.save(os.path.join(dir_name,\"MNIST_MLP.h5\"))  # creates a HDF5 file 'my_model.h5'\n",
        "del network"
      ],
      "execution_count": null,
      "outputs": []
    },
    {
      "cell_type": "code",
      "metadata": {
        "id": "nZG4fR7CTu9n",
        "colab": {
          "base_uri": "https://localhost:8080/"
        },
        "outputId": "5ffa5aef-d173-47d4-9c13-6c774335bb49"
      },
      "source": [
        "try:\n",
        "  predictions = network.predict(test_images) # get the output for each sample\n",
        "except NameError as exc:\n",
        "  print(exc)"
      ],
      "execution_count": null,
      "outputs": [
        {
          "output_type": "stream",
          "name": "stdout",
          "text": [
            "name 'network' is not defined\n"
          ]
        }
      ]
    },
    {
      "cell_type": "code",
      "metadata": {
        "id": "V-lKtTtWT97P",
        "colab": {
          "base_uri": "https://localhost:8080/"
        },
        "outputId": "be39b5b2-f2a2-4121-c5ad-641e5edd3d21"
      },
      "source": [
        "# try to load the model again\n",
        "from tensorflow.keras.models import load_model\n",
        "\n",
        "model = load_model(os.path.join(dir_name, \"MNIST_MLP.h5\"))\n",
        "test_loss, test_acc = model.evaluate(test_images, test_labels)\n",
        "\n",
        "print('test_acc:', test_acc)"
      ],
      "execution_count": null,
      "outputs": [
        {
          "output_type": "stream",
          "name": "stdout",
          "text": [
            "313/313 [==============================] - 1s 4ms/step - loss: 0.0752 - accuracy: 0.9808\n",
            "test_acc: 0.9807999730110168\n"
          ]
        }
      ]
    },
    {
      "cell_type": "code",
      "metadata": {
        "id": "Bd7urzTUBF32"
      },
      "source": [
        "# useful to free GPU and memory\n",
        "from tensorflow.keras import backend as K\n",
        "del model\n",
        "K.clear_session() "
      ],
      "execution_count": null,
      "outputs": []
    }
  ]
}