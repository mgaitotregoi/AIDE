{
  "nbformat": 4,
  "nbformat_minor": 0,
  "metadata": {
    "colab": {
      "provenance": [],
      "collapsed_sections": [],
      "include_colab_link": true
    },
    "kernelspec": {
      "name": "python3",
      "display_name": "Python 3"
    },
    "language_info": {
      "name": "python"
    }
  },
  "cells": [
    {
      "cell_type": "markdown",
      "metadata": {
        "id": "view-in-github",
        "colab_type": "text"
      },
      "source": [
        "<a href=\"https://colab.research.google.com/github/Salvoaf/labDeepLearning/blob/main/07_Evaluation_and_performance.ipynb\" target=\"_parent\"><img src=\"https://colab.research.google.com/assets/colab-badge.svg\" alt=\"Open In Colab\"/></a>"
      ]
    },
    {
      "cell_type": "markdown",
      "metadata": {
        "id": "UgLijxE1E9XR"
      },
      "source": [
        "# Evaluating Machine Learning models\n",
        "\n",
        "-  Chapter 4, Section 3 of [Deep Learning with Python, v2](https://www.manning.com/books/deep-learning-with-python?a_aid=keras&a_bid=76564dff)\n",
        "\n",
        "-  Chapter 5, Section 3 of [Deep Learning Book](https://www.deeplearningbook.org/contents/ml.html)\n"
      ]
    },
    {
      "cell_type": "markdown",
      "metadata": {
        "id": "t22PGj08FhHj"
      },
      "source": [
        "In the previous notebooks, we have underlined that the goal of a machine learning model is to generalize well on previously unseen examples. Overfitting indeed represents a central issue in the training process. \n",
        "\n",
        "Relying on a **validation set** allows us to measure the generalization capability during training, and to take strategic countermeasures to mitigate overfitting. \n",
        "\n",
        "**It is of the utmost importance that the test set is not used to make choices about the model and the selection of its hyperparameters**: the examples of the test set must not be used in the validation set. Therefore, we must construct the validation set using examples from training data. \n",
        "\n",
        "Let's recap the most common approaches for a fair evaluation of the generalization capability of our model during training."
      ]
    },
    {
      "cell_type": "markdown",
      "metadata": {
        "id": "mQcr5WHvHm7M"
      },
      "source": [
        "## Simple hold-out validation \n",
        "In the simple hold-out validation we split the training data into two disjoint subsets. \n",
        "- The training subset is used to learn the parameters. \n",
        "- The validation subset is used to estimate the generalization capability during training: we are allowed to tune the hyperparameters accordingly to the performance on this subset.\n",
        "\n",
        "A typical split is 80/20: 80 percent of the training data are used for training while the remaining 20 percent are used for validation. \n",
        "\n",
        "Since the validation set is used to tune the hyperparameters, we may encounter again a slighter overfitting: the validation set error will underestimate the real generalization error (measured on the test set). \n",
        "\n",
        "At the end of the hyperparameter optimization procedure, the performance of our model may be estimated using the test set.\n",
        "\n"
      ]
    },
    {
      "cell_type": "markdown",
      "metadata": {
        "id": "nF5A49K-aBTf"
      },
      "source": [
        "```python\n",
        "num_validation_samples = len(data)*0.2\n",
        "np.random.shuffle(data) # Shuffling the data is usually appropriate.\n",
        "\n",
        "validation_data = data[:num_validation_samples]\n",
        "data = data[num_validation_samples:]\n",
        "training_data = data[:]\n",
        "# Note: labels must be split accordingly\n",
        "\n",
        "model = get_model()\n",
        "model.train(training_data)\n",
        "validation_score = model.evaluate(validation_data)\n",
        "\n",
        "# At this point you can tune your model,\n",
        "# retrain it, evaluate it, tune it again...\n",
        "\n",
        "# Then, finally:\n",
        "model = get_model()\n",
        "model.train(np.concatenate([training_data, validation_data]))\n",
        "test_score = model.evaluate(test_data)\n",
        "```\n"
      ]
    },
    {
      "cell_type": "markdown",
      "metadata": {
        "id": "pf5I7WgkKqaH"
      },
      "source": [
        "## K-fold cross-validation\n",
        "\n",
        "The **simple hold-out validation approach can be problematic if the resulting validation set is small**: the sampled validation examples may not be representative of the actual distribution of our dataset. Training (and validating) our model on different random splits would results in different values of model performance. In other words, we may observe statistical uncertainty around the estimated average test error.\n",
        "\n",
        "To address this issue, *k*-fold cross validation is commonly adopted.\n",
        "The procedure consists in the following steps:\n",
        "- the dataset is split in *k* non-overlapping subset\n",
        "- for each subset *i* the model is tested on the *i-th* subset itself and trained on the union of the remaining *k-1* subsets,\n",
        "- after *k* iteration, we can rely on *k* values of model performance: the final score is obtained averaging the scores across the *k* trials.\n",
        "\n",
        "Using k-fold cross-validation allows to estimate the average test error using all the examples, at the price of an increased runtime (k training procedures)\n",
        "\n",
        "![alt text](https://upload.wikimedia.org/wikipedia/commons/1/1c/K-fold_cross_validation_EN.jpg)\n",
        "\n"
      ]
    },
    {
      "cell_type": "markdown",
      "metadata": {
        "id": "lIjzL5psepoC"
      },
      "source": [
        "```python\n",
        "k = 4\n",
        "np.random.shuffle(data) # Shuffling the data is usually appropriate.\n",
        "num_val_samples = len(data) // k\n",
        "validation_scores = []\n",
        "\n",
        "for fold in range(k):\n",
        "    # validation data: data from partition k\n",
        "    val_data = data[fold * num_val_samples: (fold + 1) * num_val_samples]\n",
        "    # training data: data from all other partitions\n",
        "    train_data = np.concatenate([data[:fold * num_val_samples],  data[(fold+ 1) * num_val_samples:]], axis=0)\n",
        "    # Note: labels must be split accordingly\n",
        "\n",
        "    # Build the Keras model\n",
        "    model = get_model() # create a brand new instance of the model at each iteration\n",
        "    model.train(training_data)\n",
        "    # Evaluate the model on the validation data\n",
        "    validation_score = model.evaluate(validation_data)\n",
        "    validation_scores.append(validation_score)    \n",
        "    # it is better to delete the model and clear session to free memory\n",
        "    \n",
        "# validation score: average of the validation scores of the k folds\n",
        "validation_score = np.average(validation_scores)\n",
        "model = get_model()\n",
        "\n",
        "# train the final model on all non-test data available\n",
        "model.train(data)\n",
        "test_score = model.evaluate(test_data)\n",
        "```"
      ]
    },
    {
      "cell_type": "markdown",
      "metadata": {
        "id": "ACqUNTpucqTk"
      },
      "source": [
        "For both *single hold-out validation* and *k-fold cross-validation* we can resort to the implementation provided in the `model_selection` module provided in the `scikit-learn` (sklearn) library.\n",
        "\n",
        "- `train_test_split`: [link to the docs](https://scikit-learn.org/stable/modules/generated/sklearn.model_selection.train_test_split.html)\n",
        "- `StratifiedKFold` [link to the docs](https://scikit-learn.org/stable/modules/generated/sklearn.model_selection.StratifiedKFold.html?highlight=stratified#sklearn.model_selection.StratifiedKFold)\n",
        "\n",
        "`scikit-learn` is a Python package designed to give access to well-known machine learning algorithms within Python code, through a clean, well-thought-out API. It has been built by hundreds of contributors from around the world, and is used across industry and academia. It is built upon Python's `numpy` (Numerical Python) and `scipy` (Scientific Python) libraries. "
      ]
    },
    {
      "cell_type": "markdown",
      "metadata": {
        "id": "Y1kIZavahyNs"
      },
      "source": [
        "## Classification Evaluation Metrics"
      ]
    },
    {
      "cell_type": "markdown",
      "metadata": {
        "id": "OI6X07NpiEoB"
      },
      "source": [
        "Suppose we are tackling a 2 classes classification problem.\n",
        "Let `y_true` be the true labels of our test samples and `y_pred` be the labels predicted by our classification model.\n"
      ]
    },
    {
      "cell_type": "code",
      "metadata": {
        "id": "PFg1sK8oiD1h",
        "colab": {
          "base_uri": "https://localhost:8080/",
          "height": 1000
        },
        "outputId": "2e8d013a-6e86-4788-9bcb-e8f2b18a6c4b"
      },
      "source": [
        "import numpy as np\n",
        "import pandas as pd\n",
        "import matplotlib.pyplot as plt\n",
        "\n",
        "from sklearn import datasets\n",
        "from sklearn.model_selection import train_test_split\n",
        "from sklearn.metrics import RocCurveDisplay, confusion_matrix, ConfusionMatrixDisplay\n",
        "\n",
        "import tensorflow as tf\n",
        "\n",
        "# Import data\n",
        "iris = datasets.load_iris()\n",
        "X = iris.data\n",
        "y = iris.target\n",
        "\n",
        "# Binary classification\n",
        "X = X[(y == 0) | (y == 1)]\n",
        "y = y[(y == 0) | (y == 1)]\n",
        "\n",
        "num_classes = len(np.unique(y))\n",
        "print(f'Classes: {np.unique(y)}')\n",
        "\n",
        "# Add noisy features to make the problem harder\n",
        "random_state = np.random.RandomState(0)\n",
        "n_samples, n_features = X.shape\n",
        "X = np.concatenate((X, random_state.randn(n_samples, n_features)), axis=1)\n",
        "n_samples, n_features = X.shape\n",
        "\n",
        "# Shuffle and split training and test sets\n",
        "X_train, X_test, y_train, y_test = train_test_split(X, y, random_state=0)\n",
        "\n",
        "# Create the model\n",
        "model = tf.keras.Sequential()\n",
        "model.add(tf.keras.layers.Dense(10, input_shape=(n_features,), activation='relu'))\n",
        "model.add(tf.keras.layers.Dense(num_classes, activation='softmax'))\n",
        "\n",
        "# Configure the model and start training\n",
        "model.compile(loss='binary_crossentropy', optimizer='adam', metrics=['accuracy'])\n",
        "model.fit(X_train, pd.get_dummies(y_train), epochs=60, batch_size=X_train.shape[0], validation_split=0.2)\n",
        "\n",
        "# Test the model after training\n",
        "test_results = model.evaluate(X_test, pd.get_dummies(y_test), verbose=1)\n",
        "print(f'Test results - Loss: {test_results[0]} - Accuracy: {test_results[1]}%')\n",
        "\n",
        "y_score = model.predict(X_test)\n",
        "y_pred = np.argmax(y_score, axis=1)\n",
        "\n",
        "RocCurveDisplay.from_predictions(y_test, y_pred)\n",
        "plt.plot([0, 1], [0, 1], color='navy', lw=2, linestyle='--')\n",
        "plt.xlim([0.0, 1.0])\n",
        "plt.ylim([0.0, 1.05])\n",
        "plt.show()\n",
        "\n",
        "cm = confusion_matrix(y_test, y_pred)\n",
        "disp = ConfusionMatrixDisplay(confusion_matrix=cm, display_labels=['0', '1'])\n",
        "disp.plot()\n",
        "plt.show()"
      ],
      "execution_count": null,
      "outputs": [
        {
          "output_type": "stream",
          "name": "stdout",
          "text": [
            "Classes: [0 1]\n",
            "Epoch 1/60\n",
            "1/1 [==============================] - 3s 3s/step - loss: 1.0739 - accuracy: 0.4667 - val_loss: 1.0723 - val_accuracy: 0.4000\n",
            "Epoch 2/60\n",
            "1/1 [==============================] - 0s 55ms/step - loss: 1.0645 - accuracy: 0.4667 - val_loss: 1.0622 - val_accuracy: 0.4000\n",
            "Epoch 3/60\n",
            "1/1 [==============================] - 0s 126ms/step - loss: 1.0551 - accuracy: 0.4667 - val_loss: 1.0521 - val_accuracy: 0.4000\n",
            "Epoch 4/60\n",
            "1/1 [==============================] - 0s 79ms/step - loss: 1.0458 - accuracy: 0.4667 - val_loss: 1.0422 - val_accuracy: 0.4000\n",
            "Epoch 5/60\n",
            "1/1 [==============================] - 0s 57ms/step - loss: 1.0367 - accuracy: 0.4667 - val_loss: 1.0322 - val_accuracy: 0.4000\n",
            "Epoch 6/60\n",
            "1/1 [==============================] - 0s 131ms/step - loss: 1.0277 - accuracy: 0.4667 - val_loss: 1.0222 - val_accuracy: 0.4000\n",
            "Epoch 7/60\n",
            "1/1 [==============================] - 0s 96ms/step - loss: 1.0187 - accuracy: 0.4667 - val_loss: 1.0122 - val_accuracy: 0.4000\n",
            "Epoch 8/60\n",
            "1/1 [==============================] - 0s 64ms/step - loss: 1.0099 - accuracy: 0.4667 - val_loss: 1.0025 - val_accuracy: 0.4000\n",
            "Epoch 9/60\n",
            "1/1 [==============================] - 0s 119ms/step - loss: 1.0012 - accuracy: 0.4667 - val_loss: 0.9930 - val_accuracy: 0.4000\n",
            "Epoch 10/60\n",
            "1/1 [==============================] - 0s 73ms/step - loss: 0.9926 - accuracy: 0.4667 - val_loss: 0.9837 - val_accuracy: 0.4000\n",
            "Epoch 11/60\n",
            "1/1 [==============================] - 0s 44ms/step - loss: 0.9842 - accuracy: 0.4500 - val_loss: 0.9747 - val_accuracy: 0.4000\n",
            "Epoch 12/60\n",
            "1/1 [==============================] - 0s 51ms/step - loss: 0.9759 - accuracy: 0.4500 - val_loss: 0.9656 - val_accuracy: 0.4000\n",
            "Epoch 13/60\n",
            "1/1 [==============================] - 0s 78ms/step - loss: 0.9677 - accuracy: 0.4500 - val_loss: 0.9567 - val_accuracy: 0.4000\n",
            "Epoch 14/60\n",
            "1/1 [==============================] - 0s 139ms/step - loss: 0.9597 - accuracy: 0.4500 - val_loss: 0.9480 - val_accuracy: 0.4000\n",
            "Epoch 15/60\n",
            "1/1 [==============================] - 0s 80ms/step - loss: 0.9518 - accuracy: 0.4500 - val_loss: 0.9394 - val_accuracy: 0.4000\n",
            "Epoch 16/60\n",
            "1/1 [==============================] - 0s 145ms/step - loss: 0.9439 - accuracy: 0.4500 - val_loss: 0.9309 - val_accuracy: 0.4000\n",
            "Epoch 17/60\n",
            "1/1 [==============================] - 0s 109ms/step - loss: 0.9362 - accuracy: 0.4500 - val_loss: 0.9225 - val_accuracy: 0.4000\n",
            "Epoch 18/60\n",
            "1/1 [==============================] - 0s 49ms/step - loss: 0.9286 - accuracy: 0.4500 - val_loss: 0.9143 - val_accuracy: 0.4000\n",
            "Epoch 19/60\n",
            "1/1 [==============================] - 0s 43ms/step - loss: 0.9212 - accuracy: 0.4333 - val_loss: 0.9062 - val_accuracy: 0.4000\n",
            "Epoch 20/60\n",
            "1/1 [==============================] - 0s 113ms/step - loss: 0.9139 - accuracy: 0.4333 - val_loss: 0.8982 - val_accuracy: 0.4000\n",
            "Epoch 21/60\n",
            "1/1 [==============================] - 0s 245ms/step - loss: 0.9067 - accuracy: 0.4333 - val_loss: 0.8905 - val_accuracy: 0.4000\n",
            "Epoch 22/60\n",
            "1/1 [==============================] - 0s 109ms/step - loss: 0.8996 - accuracy: 0.4333 - val_loss: 0.8828 - val_accuracy: 0.4000\n",
            "Epoch 23/60\n",
            "1/1 [==============================] - 0s 120ms/step - loss: 0.8926 - accuracy: 0.4333 - val_loss: 0.8753 - val_accuracy: 0.4667\n",
            "Epoch 24/60\n",
            "1/1 [==============================] - 0s 190ms/step - loss: 0.8856 - accuracy: 0.4333 - val_loss: 0.8678 - val_accuracy: 0.4667\n",
            "Epoch 25/60\n",
            "1/1 [==============================] - 0s 132ms/step - loss: 0.8788 - accuracy: 0.4333 - val_loss: 0.8605 - val_accuracy: 0.4667\n",
            "Epoch 26/60\n",
            "1/1 [==============================] - 0s 119ms/step - loss: 0.8720 - accuracy: 0.4167 - val_loss: 0.8533 - val_accuracy: 0.5333\n",
            "Epoch 27/60\n",
            "1/1 [==============================] - 0s 103ms/step - loss: 0.8653 - accuracy: 0.4167 - val_loss: 0.8462 - val_accuracy: 0.5333\n",
            "Epoch 28/60\n",
            "1/1 [==============================] - 0s 106ms/step - loss: 0.8587 - accuracy: 0.4167 - val_loss: 0.8392 - val_accuracy: 0.5333\n",
            "Epoch 29/60\n",
            "1/1 [==============================] - 0s 80ms/step - loss: 0.8522 - accuracy: 0.4167 - val_loss: 0.8324 - val_accuracy: 0.5333\n",
            "Epoch 30/60\n",
            "1/1 [==============================] - 0s 149ms/step - loss: 0.8458 - accuracy: 0.4167 - val_loss: 0.8257 - val_accuracy: 0.5333\n",
            "Epoch 31/60\n",
            "1/1 [==============================] - 0s 97ms/step - loss: 0.8395 - accuracy: 0.4333 - val_loss: 0.8189 - val_accuracy: 0.6000\n",
            "Epoch 32/60\n",
            "1/1 [==============================] - 0s 119ms/step - loss: 0.8333 - accuracy: 0.4333 - val_loss: 0.8122 - val_accuracy: 0.6000\n",
            "Epoch 33/60\n",
            "1/1 [==============================] - 0s 189ms/step - loss: 0.8273 - accuracy: 0.4500 - val_loss: 0.8057 - val_accuracy: 0.6000\n",
            "Epoch 34/60\n",
            "1/1 [==============================] - 0s 170ms/step - loss: 0.8213 - accuracy: 0.4500 - val_loss: 0.7994 - val_accuracy: 0.6000\n",
            "Epoch 35/60\n",
            "1/1 [==============================] - 0s 106ms/step - loss: 0.8155 - accuracy: 0.4500 - val_loss: 0.7931 - val_accuracy: 0.6000\n",
            "Epoch 36/60\n",
            "1/1 [==============================] - 0s 125ms/step - loss: 0.8099 - accuracy: 0.4500 - val_loss: 0.7870 - val_accuracy: 0.6000\n",
            "Epoch 37/60\n",
            "1/1 [==============================] - 0s 259ms/step - loss: 0.8042 - accuracy: 0.4500 - val_loss: 0.7810 - val_accuracy: 0.6000\n",
            "Epoch 38/60\n",
            "1/1 [==============================] - 0s 142ms/step - loss: 0.7987 - accuracy: 0.4500 - val_loss: 0.7748 - val_accuracy: 0.6000\n",
            "Epoch 39/60\n",
            "1/1 [==============================] - 0s 239ms/step - loss: 0.7933 - accuracy: 0.4500 - val_loss: 0.7686 - val_accuracy: 0.6000\n",
            "Epoch 40/60\n",
            "1/1 [==============================] - 0s 169ms/step - loss: 0.7880 - accuracy: 0.4500 - val_loss: 0.7626 - val_accuracy: 0.6000\n",
            "Epoch 41/60\n",
            "1/1 [==============================] - 0s 118ms/step - loss: 0.7828 - accuracy: 0.4667 - val_loss: 0.7567 - val_accuracy: 0.6000\n",
            "Epoch 42/60\n",
            "1/1 [==============================] - 0s 105ms/step - loss: 0.7776 - accuracy: 0.4667 - val_loss: 0.7510 - val_accuracy: 0.6000\n",
            "Epoch 43/60\n",
            "1/1 [==============================] - 0s 109ms/step - loss: 0.7726 - accuracy: 0.4833 - val_loss: 0.7453 - val_accuracy: 0.6000\n",
            "Epoch 44/60\n",
            "1/1 [==============================] - 0s 116ms/step - loss: 0.7678 - accuracy: 0.4833 - val_loss: 0.7398 - val_accuracy: 0.6000\n",
            "Epoch 45/60\n",
            "1/1 [==============================] - 0s 187ms/step - loss: 0.7631 - accuracy: 0.4833 - val_loss: 0.7344 - val_accuracy: 0.6000\n",
            "Epoch 46/60\n",
            "1/1 [==============================] - 0s 164ms/step - loss: 0.7585 - accuracy: 0.4833 - val_loss: 0.7291 - val_accuracy: 0.6000\n",
            "Epoch 47/60\n",
            "1/1 [==============================] - 0s 185ms/step - loss: 0.7538 - accuracy: 0.4833 - val_loss: 0.7238 - val_accuracy: 0.6667\n",
            "Epoch 48/60\n",
            "1/1 [==============================] - 0s 329ms/step - loss: 0.7492 - accuracy: 0.4833 - val_loss: 0.7188 - val_accuracy: 0.6667\n",
            "Epoch 49/60\n",
            "1/1 [==============================] - 0s 139ms/step - loss: 0.7448 - accuracy: 0.4833 - val_loss: 0.7139 - val_accuracy: 0.6667\n",
            "Epoch 50/60\n",
            "1/1 [==============================] - 0s 108ms/step - loss: 0.7403 - accuracy: 0.4833 - val_loss: 0.7091 - val_accuracy: 0.6667\n",
            "Epoch 51/60\n",
            "1/1 [==============================] - 0s 235ms/step - loss: 0.7360 - accuracy: 0.4833 - val_loss: 0.7043 - val_accuracy: 0.6667\n",
            "Epoch 52/60\n",
            "1/1 [==============================] - 0s 115ms/step - loss: 0.7317 - accuracy: 0.4833 - val_loss: 0.6997 - val_accuracy: 0.6667\n",
            "Epoch 53/60\n",
            "1/1 [==============================] - 0s 480ms/step - loss: 0.7275 - accuracy: 0.4833 - val_loss: 0.6951 - val_accuracy: 0.6667\n",
            "Epoch 54/60\n",
            "1/1 [==============================] - 0s 402ms/step - loss: 0.7233 - accuracy: 0.5000 - val_loss: 0.6907 - val_accuracy: 0.6667\n",
            "Epoch 55/60\n",
            "1/1 [==============================] - 0s 234ms/step - loss: 0.7192 - accuracy: 0.5333 - val_loss: 0.6864 - val_accuracy: 0.6667\n",
            "Epoch 56/60\n",
            "1/1 [==============================] - 0s 170ms/step - loss: 0.7151 - accuracy: 0.5333 - val_loss: 0.6822 - val_accuracy: 0.6667\n",
            "Epoch 57/60\n",
            "1/1 [==============================] - 0s 207ms/step - loss: 0.7110 - accuracy: 0.5500 - val_loss: 0.6779 - val_accuracy: 0.6667\n",
            "Epoch 58/60\n",
            "1/1 [==============================] - 0s 283ms/step - loss: 0.7070 - accuracy: 0.5500 - val_loss: 0.6737 - val_accuracy: 0.6667\n",
            "Epoch 59/60\n",
            "1/1 [==============================] - 0s 304ms/step - loss: 0.7030 - accuracy: 0.5667 - val_loss: 0.6696 - val_accuracy: 0.6667\n",
            "Epoch 60/60\n",
            "1/1 [==============================] - 0s 89ms/step - loss: 0.6991 - accuracy: 0.5667 - val_loss: 0.6656 - val_accuracy: 0.6667\n",
            "1/1 [==============================] - 0s 49ms/step - loss: 0.7286 - accuracy: 0.4800\n",
            "Test results - Loss: 0.728647768497467 - Accuracy: 0.47999998927116394%\n",
            "1/1 [==============================] - 1s 700ms/step\n"
          ]
        },
        {
          "output_type": "display_data",
          "data": {
            "text/plain": [
              "<Figure size 432x288 with 1 Axes>"
            ],
            "image/png": "[encoded data removed]"
          },
          "metadata": {
            "needs_background": "light"
          }
        },
        {
          "output_type": "display_data",
          "data": {
            "text/plain": [
              "<Figure size 432x288 with 2 Axes>"
            ],
            "image/png": "[encoded data removed]"
          },
          "metadata": {
            "needs_background": "light"
          }
        }
      ]
    },
    {
      "cell_type": "markdown",
      "metadata": {
        "id": "sI9K4Q6ljc7W"
      },
      "source": [
        "**[scikit-learn](https://scikit-learn.org/stable/modules/classes.html#module-sklearn.metrics)** offers utilities for metrics evaluation. Let's see the most relevant ones."
      ]
    },
    {
      "cell_type": "code",
      "metadata": {
        "id": "x4bBXIBLjJgl"
      },
      "source": [
        "from sklearn import metrics"
      ],
      "execution_count": null,
      "outputs": []
    },
    {
      "cell_type": "code",
      "metadata": {
        "id": "IzFtXRRNk_bE",
        "colab": {
          "base_uri": "https://localhost:8080/"
        },
        "outputId": "cf54fcdc-25ee-4f52-f79f-9d15a493eee7"
      },
      "source": [
        "# confusion matrix: \n",
        "#     on each row: true class\n",
        "#     on each column: predicted class\n",
        "metrics.confusion_matrix(y_test, y_pred)"
      ],
      "execution_count": null,
      "outputs": [
        {
          "output_type": "execute_result",
          "data": {
            "text/plain": [
              "array([[10,  3],\n",
              "       [10,  2]])"
            ]
          },
          "metadata": {},
          "execution_count": 3
        }
      ]
    },
    {
      "cell_type": "markdown",
      "metadata": {
        "id": "wFmToAZ8pt6u"
      },
      "source": [
        "Confusion matrix cells can be immediately mapped to the cells of this table:\n",
        "\n",
        "<img src=\"https://miro.medium.com/max/2102/1*fxiTNIgOyvAombPJx5KGeA.png\" alt=\"drawing\" width=\"450\"/>\n"
      ]
    },
    {
      "cell_type": "code",
      "metadata": {
        "id": "bb1JUFvokE-Z",
        "colab": {
          "base_uri": "https://localhost:8080/"
        },
        "outputId": "e755b7f1-a223-4431-ea57-e7d03e847b26"
      },
      "source": [
        "# accuracy: (TP+TN)/(TP+FP+FN+TN): percentage of correctly predicted samples\n",
        "metrics.accuracy_score(y_test, y_pred)"
      ],
      "execution_count": null,
      "outputs": [
        {
          "output_type": "execute_result",
          "data": {
            "text/plain": [
              "0.48"
            ]
          },
          "metadata": {},
          "execution_count": 4
        }
      ]
    },
    {
      "cell_type": "code",
      "metadata": {
        "id": "t5cVGt5DptY4",
        "colab": {
          "base_uri": "https://localhost:8080/"
        },
        "outputId": "2770f63d-6851-4760-cae3-af4fff5983a1"
      },
      "source": [
        "# precision: TP/(TP+FP): The precision is intuitively the ability of the classifier not to label as positive a sample that is negative (i.e., minimizing FP)\n",
        "metrics.precision_score(y_test, y_pred)"
      ],
      "execution_count": null,
      "outputs": [
        {
          "output_type": "execute_result",
          "data": {
            "text/plain": [
              "0.4"
            ]
          },
          "metadata": {},
          "execution_count": 5
        }
      ]
    },
    {
      "cell_type": "code",
      "metadata": {
        "id": "tbEkOWtPpgwf",
        "colab": {
          "base_uri": "https://localhost:8080/"
        },
        "outputId": "aa9d10a2-7a05-4974-90e8-8dbca81191fe"
      },
      "source": [
        "# recall: TP/(TP+FN): The recall is intuitively the ability of the classifier to find all the positive samples (i.e., minimizing FN)\n",
        "metrics.recall_score(y_test, y_pred)"
      ],
      "execution_count": null,
      "outputs": [
        {
          "output_type": "execute_result",
          "data": {
            "text/plain": [
              "0.16666666666666666"
            ]
          },
          "metadata": {},
          "execution_count": 6
        }
      ]
    },
    {
      "cell_type": "code",
      "metadata": {
        "id": "O1032IzjrIIk",
        "colab": {
          "base_uri": "https://localhost:8080/"
        },
        "outputId": "335904b6-9c01-4833-bac2-52ed2aa41df1"
      },
      "source": [
        "# f1-score: 2*(precision*recall)/(precision + recall). The F1-score is the harmonic mean of precision and recall\n",
        "metrics.f1_score(y_test, y_pred)"
      ],
      "execution_count": null,
      "outputs": [
        {
          "output_type": "execute_result",
          "data": {
            "text/plain": [
              "0.23529411764705882"
            ]
          },
          "metadata": {},
          "execution_count": 7
        }
      ]
    },
    {
      "cell_type": "code",
      "metadata": {
        "id": "VIAY7koIrfpO",
        "colab": {
          "base_uri": "https://localhost:8080/"
        },
        "outputId": "14c4c909-d8f2-4529-e857-390bbddb2522"
      },
      "source": [
        "# classification report: Build a text report showing the main classification metrics\n",
        "print(metrics.classification_report(y_test, y_pred, digits = 5))"
      ],
      "execution_count": null,
      "outputs": [
        {
          "output_type": "stream",
          "name": "stdout",
          "text": [
            "              precision    recall  f1-score   support\n",
            "\n",
            "           0    0.50000   0.76923   0.60606        13\n",
            "           1    0.40000   0.16667   0.23529        12\n",
            "\n",
            "    accuracy                        0.48000        25\n",
            "   macro avg    0.45000   0.46795   0.42068        25\n",
            "weighted avg    0.45200   0.48000   0.42809        25\n",
            "\n"
          ]
        }
      ]
    },
    {
      "cell_type": "markdown",
      "metadata": {
        "id": "rz9eGh3MsPXJ"
      },
      "source": [
        "If we resort to the probability score of our classification model, we can evaluate the ROC curve."
      ]
    },
    {
      "cell_type": "code",
      "metadata": {
        "id": "YHWkK0-7suAj",
        "colab": {
          "base_uri": "https://localhost:8080/",
          "height": 295
        },
        "outputId": "5efd3219-91f7-4b96-ff55-6f7eff2b1c04"
      },
      "source": [
        "fpr, tpr, th = metrics.roc_curve(y_test, y_pred)\n",
        "# Sensitivty = TPR(True Positive Rate)= Recall = TP/(TP+FN)\n",
        "# (1 - Specificity) = FPR(False Positive Rate)= FP/(TN+FP)\n",
        "\n",
        "roc_auc = metrics.roc_auc_score(y_test, y_pred)\n",
        "\n",
        "from matplotlib import pyplot as plt\n",
        "plt.figure()\n",
        "plt.plot(fpr, tpr, label='ROC curve (area = %0.2f)' % roc_auc)\n",
        "plt.plot([0, 1], [0, 1], color='navy', linestyle='--')\n",
        "plt.xlim([0.0, 1.0])\n",
        "plt.ylim([0.0, 1.0])\n",
        "plt.xlabel('False Positive Rate')\n",
        "plt.ylabel('True Positive Rate')\n",
        "plt.title('Receiver operating characteristic example')\n",
        "plt.legend(loc=\"lower right\")\n",
        "plt.show()"
      ],
      "execution_count": null,
      "outputs": [
        {
          "output_type": "display_data",
          "data": {
            "text/plain": [
              "<Figure size 432x288 with 1 Axes>"
            ],
            "image/png": "[encoded data removed]"
          },
          "metadata": {
            "needs_background": "light"
          }
        }
      ]
    },
    {
      "cell_type": "markdown",
      "source": [
        "Multiclass classification"
      ],
      "metadata": {
        "id": "jN2HkjqkJWQz"
      }
    },
    {
      "cell_type": "code",
      "source": [
        "import numpy as np\n",
        "import matplotlib.pyplot as plt\n",
        "from itertools import cycle\n",
        "from sklearn import datasets\n",
        "\n",
        "from sklearn.model_selection import train_test_split\n",
        "from sklearn.metrics import roc_curve, auc, roc_auc_score\n",
        "\n",
        "# Import data\n",
        "iris = datasets.load_iris()\n",
        "X = iris.data\n",
        "y = iris.target\n",
        "\n",
        "print(f'Classes: {np.unique(y)}')\n",
        "\n",
        "# Binarize the output\n",
        "y = np.array(pd.get_dummies(y))\n",
        "num_classes = y.shape[1]\n",
        "\n",
        "n_samples, n_features = X.shape\n",
        "\n",
        "# Shuffle and split training and test sets\n",
        "X_train, X_test, y_train, y_test = train_test_split(X, y, test_size=0.3, random_state=0, stratify=y)\n",
        "\n",
        "# Create the model\n",
        "model = tf.keras.Sequential()\n",
        "model.add(tf.keras.layers.Dense(10, input_shape=(n_features,), activation='tanh'))\n",
        "model.add(tf.keras.layers.Dense(num_classes, activation='softmax'))\n",
        "\n",
        "# Configure the model and start training\n",
        "model.compile(loss='categorical_crossentropy', optimizer='adam', metrics=['accuracy'])\n",
        "model.fit(X_train, y_train, epochs=100, batch_size=X_train.shape[0], validation_split=0.2)\n",
        "\n",
        "# Test the model after training\n",
        "test_results = model.evaluate(X_test, y_test, verbose=1)\n",
        "print(f'Test results - Loss: {test_results[0]} - Accuracy: {test_results[1]}%')\n",
        "\n",
        "# Probabilty estimates\n",
        "y_score = np.array(model.predict(X_test))\n",
        "\n",
        "# Compute ROC curve and ROC area for each class\n",
        "fpr = dict()\n",
        "tpr = dict()\n",
        "roc_auc = dict()\n",
        "for i in range(num_classes):\n",
        "    fpr[i], tpr[i], _ = roc_curve(y_test[:, i], y_score[:, i])\n",
        "    roc_auc[i] = auc(fpr[i], tpr[i])\n",
        "\n",
        "\n",
        "colors = cycle(['aqua', 'darkorange', 'cornflowerblue'])\n",
        "for i, color in zip(range(num_classes), colors):\n",
        "    plt.plot(\n",
        "        fpr[i],\n",
        "        tpr[i],\n",
        "        color=color,\n",
        "        lw=2,\n",
        "        label='ROC curve of class {0} (area = {1:0.2f})'.format(i, roc_auc[i]),\n",
        "    )\n",
        "\n",
        "plt.plot([0, 1], [0, 1], 'k--', lw=2)\n",
        "plt.xlim([0.0, 1.0])\n",
        "plt.ylim([0.0, 1.05])\n",
        "plt.xlabel('False Positive Rate')\n",
        "plt.ylabel('True Positive Rate')\n",
        "plt.title('Some extension of Receiver operating characteristic to multiclass')\n",
        "plt.legend(loc='lower right')\n",
        "plt.show()\n",
        "\n",
        "y_pred = np.argmax(y_score, axis=1)\n",
        "y_test = np.argmax(y_test, axis=1)\n",
        "cm = confusion_matrix(y_test, y_pred)\n",
        "disp = ConfusionMatrixDisplay(confusion_matrix=cm)#, display_labels=['0', '1'])\n",
        "disp.plot()\n",
        "plt.show()"
      ],
      "metadata": {
        "colab": {
          "base_uri": "https://localhost:8080/",
          "height": 1000
        },
        "id": "P1aYk_6EJWil",
        "outputId": "e00a1e68-8bee-4391-d82c-d534cfa63384"
      },
      "execution_count": null,
      "outputs": [
        {
          "output_type": "stream",
          "name": "stdout",
          "text": [
            "Classes: [0 1 2]\n",
            "Epoch 1/100\n",
            "1/1 [==============================] - 5s 5s/step - loss: 1.5444 - accuracy: 0.0238 - val_loss: 1.6546 - val_accuracy: 0.0476\n",
            "Epoch 2/100\n",
            "1/1 [==============================] - 0s 158ms/step - loss: 1.5359 - accuracy: 0.0238 - val_loss: 1.6455 - val_accuracy: 0.0476\n",
            "Epoch 3/100\n",
            "1/1 [==============================] - 0s 93ms/step - loss: 1.5274 - accuracy: 0.0238 - val_loss: 1.6366 - val_accuracy: 0.0476\n",
            "Epoch 4/100\n",
            "1/1 [==============================] - 0s 96ms/step - loss: 1.5192 - accuracy: 0.0238 - val_loss: 1.6279 - val_accuracy: 0.0476\n",
            "Epoch 5/100\n",
            "1/1 [==============================] - 0s 119ms/step - loss: 1.5111 - accuracy: 0.0238 - val_loss: 1.6194 - val_accuracy: 0.0476\n",
            "Epoch 6/100\n",
            "1/1 [==============================] - 0s 105ms/step - loss: 1.5032 - accuracy: 0.0238 - val_loss: 1.6111 - val_accuracy: 0.0476\n",
            "Epoch 7/100\n",
            "1/1 [==============================] - 0s 108ms/step - loss: 1.4954 - accuracy: 0.0476 - val_loss: 1.6029 - val_accuracy: 0.0476\n",
            "Epoch 8/100\n",
            "1/1 [==============================] - 0s 113ms/step - loss: 1.4878 - accuracy: 0.0476 - val_loss: 1.5948 - val_accuracy: 0.0476\n",
            "Epoch 9/100\n",
            "1/1 [==============================] - 0s 127ms/step - loss: 1.4803 - accuracy: 0.0476 - val_loss: 1.5869 - val_accuracy: 0.0952\n",
            "Epoch 10/100\n",
            "1/1 [==============================] - 0s 149ms/step - loss: 1.4730 - accuracy: 0.0476 - val_loss: 1.5790 - val_accuracy: 0.0952\n",
            "Epoch 11/100\n",
            "1/1 [==============================] - 0s 139ms/step - loss: 1.4657 - accuracy: 0.0595 - val_loss: 1.5712 - val_accuracy: 0.0952\n",
            "Epoch 12/100\n",
            "1/1 [==============================] - 0s 132ms/step - loss: 1.4586 - accuracy: 0.0595 - val_loss: 1.5635 - val_accuracy: 0.0952\n",
            "Epoch 13/100\n",
            "1/1 [==============================] - 0s 130ms/step - loss: 1.4515 - accuracy: 0.0595 - val_loss: 1.5558 - val_accuracy: 0.0952\n",
            "Epoch 14/100\n",
            "1/1 [==============================] - 0s 155ms/step - loss: 1.4445 - accuracy: 0.0595 - val_loss: 1.5481 - val_accuracy: 0.0952\n",
            "Epoch 15/100\n",
            "1/1 [==============================] - 0s 128ms/step - loss: 1.4377 - accuracy: 0.0595 - val_loss: 1.5404 - val_accuracy: 0.0952\n",
            "Epoch 16/100\n",
            "1/1 [==============================] - 0s 86ms/step - loss: 1.4308 - accuracy: 0.0714 - val_loss: 1.5328 - val_accuracy: 0.0952\n",
            "Epoch 17/100\n",
            "1/1 [==============================] - 0s 99ms/step - loss: 1.4241 - accuracy: 0.0833 - val_loss: 1.5251 - val_accuracy: 0.0952\n",
            "Epoch 18/100\n",
            "1/1 [==============================] - 0s 86ms/step - loss: 1.4174 - accuracy: 0.0714 - val_loss: 1.5174 - val_accuracy: 0.0952\n",
            "Epoch 19/100\n",
            "1/1 [==============================] - 0s 122ms/step - loss: 1.4108 - accuracy: 0.0714 - val_loss: 1.5097 - val_accuracy: 0.0952\n",
            "Epoch 20/100\n",
            "1/1 [==============================] - 0s 102ms/step - loss: 1.4042 - accuracy: 0.0833 - val_loss: 1.5020 - val_accuracy: 0.0952\n",
            "Epoch 21/100\n",
            "1/1 [==============================] - 0s 114ms/step - loss: 1.3976 - accuracy: 0.0833 - val_loss: 1.4942 - val_accuracy: 0.0952\n",
            "Epoch 22/100\n",
            "1/1 [==============================] - 0s 123ms/step - loss: 1.3911 - accuracy: 0.0833 - val_loss: 1.4865 - val_accuracy: 0.0952\n",
            "Epoch 23/100\n",
            "1/1 [==============================] - 0s 80ms/step - loss: 1.3846 - accuracy: 0.0952 - val_loss: 1.4787 - val_accuracy: 0.0952\n",
            "Epoch 24/100\n",
            "1/1 [==============================] - 0s 37ms/step - loss: 1.3782 - accuracy: 0.0952 - val_loss: 1.4709 - val_accuracy: 0.0952\n",
            "Epoch 25/100\n",
            "1/1 [==============================] - 0s 58ms/step - loss: 1.3717 - accuracy: 0.1071 - val_loss: 1.4631 - val_accuracy: 0.1429\n",
            "Epoch 26/100\n",
            "1/1 [==============================] - 0s 88ms/step - loss: 1.3653 - accuracy: 0.1190 - val_loss: 1.4553 - val_accuracy: 0.1905\n",
            "Epoch 27/100\n",
            "1/1 [==============================] - 0s 42ms/step - loss: 1.3590 - accuracy: 0.1429 - val_loss: 1.4475 - val_accuracy: 0.1905\n",
            "Epoch 28/100\n",
            "1/1 [==============================] - 0s 129ms/step - loss: 1.3527 - accuracy: 0.1905 - val_loss: 1.4397 - val_accuracy: 0.1905\n",
            "Epoch 29/100\n",
            "1/1 [==============================] - 0s 121ms/step - loss: 1.3464 - accuracy: 0.2024 - val_loss: 1.4319 - val_accuracy: 0.2381\n",
            "Epoch 30/100\n",
            "1/1 [==============================] - 0s 74ms/step - loss: 1.3401 - accuracy: 0.2619 - val_loss: 1.4241 - val_accuracy: 0.2381\n",
            "Epoch 31/100\n",
            "1/1 [==============================] - 0s 66ms/step - loss: 1.3338 - accuracy: 0.2976 - val_loss: 1.4164 - val_accuracy: 0.2857\n",
            "Epoch 32/100\n",
            "1/1 [==============================] - 0s 86ms/step - loss: 1.3276 - accuracy: 0.3095 - val_loss: 1.4086 - val_accuracy: 0.2857\n",
            "Epoch 33/100\n",
            "1/1 [==============================] - 0s 112ms/step - loss: 1.3215 - accuracy: 0.3452 - val_loss: 1.4009 - val_accuracy: 0.2857\n",
            "Epoch 34/100\n",
            "1/1 [==============================] - 0s 87ms/step - loss: 1.3154 - accuracy: 0.3571 - val_loss: 1.3932 - val_accuracy: 0.2857\n",
            "Epoch 35/100\n",
            "1/1 [==============================] - 0s 106ms/step - loss: 1.3093 - accuracy: 0.3571 - val_loss: 1.3855 - val_accuracy: 0.2857\n",
            "Epoch 36/100\n",
            "1/1 [==============================] - 0s 132ms/step - loss: 1.3032 - accuracy: 0.3452 - val_loss: 1.3779 - val_accuracy: 0.2857\n",
            "Epoch 37/100\n",
            "1/1 [==============================] - 0s 83ms/step - loss: 1.2972 - accuracy: 0.3571 - val_loss: 1.3703 - val_accuracy: 0.3333\n",
            "Epoch 38/100\n",
            "1/1 [==============================] - 0s 96ms/step - loss: 1.2913 - accuracy: 0.3571 - val_loss: 1.3628 - val_accuracy: 0.3333\n",
            "Epoch 39/100\n",
            "1/1 [==============================] - 0s 103ms/step - loss: 1.2853 - accuracy: 0.3571 - val_loss: 1.3553 - val_accuracy: 0.3333\n",
            "Epoch 40/100\n",
            "1/1 [==============================] - 0s 143ms/step - loss: 1.2795 - accuracy: 0.3571 - val_loss: 1.3478 - val_accuracy: 0.3333\n",
            "Epoch 41/100\n",
            "1/1 [==============================] - 0s 106ms/step - loss: 1.2737 - accuracy: 0.3571 - val_loss: 1.3404 - val_accuracy: 0.3333\n",
            "Epoch 42/100\n",
            "1/1 [==============================] - 0s 102ms/step - loss: 1.2679 - accuracy: 0.3690 - val_loss: 1.3331 - val_accuracy: 0.3333\n",
            "Epoch 43/100\n",
            "1/1 [==============================] - 0s 81ms/step - loss: 1.2622 - accuracy: 0.3571 - val_loss: 1.3258 - val_accuracy: 0.3333\n",
            "Epoch 44/100\n",
            "1/1 [==============================] - 0s 120ms/step - loss: 1.2565 - accuracy: 0.3571 - val_loss: 1.3186 - val_accuracy: 0.3333\n",
            "Epoch 45/100\n",
            "1/1 [==============================] - 0s 121ms/step - loss: 1.2509 - accuracy: 0.3690 - val_loss: 1.3115 - val_accuracy: 0.3333\n",
            "Epoch 46/100\n",
            "1/1 [==============================] - 0s 92ms/step - loss: 1.2454 - accuracy: 0.3690 - val_loss: 1.3044 - val_accuracy: 0.3333\n",
            "Epoch 47/100\n",
            "1/1 [==============================] - 0s 94ms/step - loss: 1.2399 - accuracy: 0.3690 - val_loss: 1.2974 - val_accuracy: 0.3333\n",
            "Epoch 48/100\n",
            "1/1 [==============================] - 0s 113ms/step - loss: 1.2345 - accuracy: 0.3690 - val_loss: 1.2905 - val_accuracy: 0.3333\n",
            "Epoch 49/100\n",
            "1/1 [==============================] - 0s 113ms/step - loss: 1.2292 - accuracy: 0.3690 - val_loss: 1.2836 - val_accuracy: 0.3333\n",
            "Epoch 50/100\n",
            "1/1 [==============================] - 0s 162ms/step - loss: 1.2239 - accuracy: 0.3690 - val_loss: 1.2768 - val_accuracy: 0.3333\n",
            "Epoch 51/100\n",
            "1/1 [==============================] - 0s 130ms/step - loss: 1.2187 - accuracy: 0.3690 - val_loss: 1.2701 - val_accuracy: 0.3333\n",
            "Epoch 52/100\n",
            "1/1 [==============================] - 0s 87ms/step - loss: 1.2135 - accuracy: 0.3690 - val_loss: 1.2635 - val_accuracy: 0.3333\n",
            "Epoch 53/100\n",
            "1/1 [==============================] - 0s 102ms/step - loss: 1.2085 - accuracy: 0.3690 - val_loss: 1.2570 - val_accuracy: 0.3333\n",
            "Epoch 54/100\n",
            "1/1 [==============================] - 0s 127ms/step - loss: 1.2034 - accuracy: 0.3690 - val_loss: 1.2506 - val_accuracy: 0.3333\n",
            "Epoch 55/100\n",
            "1/1 [==============================] - 0s 126ms/step - loss: 1.1985 - accuracy: 0.3690 - val_loss: 1.2442 - val_accuracy: 0.3333\n",
            "Epoch 56/100\n",
            "1/1 [==============================] - 0s 107ms/step - loss: 1.1936 - accuracy: 0.3810 - val_loss: 1.2379 - val_accuracy: 0.3333\n",
            "Epoch 57/100\n",
            "1/1 [==============================] - 0s 63ms/step - loss: 1.1888 - accuracy: 0.3810 - val_loss: 1.2318 - val_accuracy: 0.3333\n",
            "Epoch 58/100\n",
            "1/1 [==============================] - 0s 107ms/step - loss: 1.1841 - accuracy: 0.3810 - val_loss: 1.2257 - val_accuracy: 0.3333\n",
            "Epoch 59/100\n",
            "1/1 [==============================] - 0s 104ms/step - loss: 1.1794 - accuracy: 0.3810 - val_loss: 1.2197 - val_accuracy: 0.3333\n",
            "Epoch 60/100\n",
            "1/1 [==============================] - 0s 102ms/step - loss: 1.1748 - accuracy: 0.3810 - val_loss: 1.2138 - val_accuracy: 0.3333\n",
            "Epoch 61/100\n",
            "1/1 [==============================] - 0s 98ms/step - loss: 1.1703 - accuracy: 0.3810 - val_loss: 1.2080 - val_accuracy: 0.3333\n",
            "Epoch 62/100\n",
            "1/1 [==============================] - 0s 135ms/step - loss: 1.1659 - accuracy: 0.3810 - val_loss: 1.2022 - val_accuracy: 0.3333\n",
            "Epoch 63/100\n",
            "1/1 [==============================] - 0s 107ms/step - loss: 1.1615 - accuracy: 0.3810 - val_loss: 1.1966 - val_accuracy: 0.3333\n",
            "Epoch 64/100\n",
            "1/1 [==============================] - 0s 113ms/step - loss: 1.1572 - accuracy: 0.3810 - val_loss: 1.1910 - val_accuracy: 0.3333\n",
            "Epoch 65/100\n",
            "1/1 [==============================] - 0s 88ms/step - loss: 1.1529 - accuracy: 0.3810 - val_loss: 1.1856 - val_accuracy: 0.3333\n",
            "Epoch 66/100\n",
            "1/1 [==============================] - 0s 102ms/step - loss: 1.1488 - accuracy: 0.3810 - val_loss: 1.1802 - val_accuracy: 0.3333\n",
            "Epoch 67/100\n",
            "1/1 [==============================] - 0s 121ms/step - loss: 1.1447 - accuracy: 0.3810 - val_loss: 1.1749 - val_accuracy: 0.3333\n",
            "Epoch 68/100\n",
            "1/1 [==============================] - 0s 116ms/step - loss: 1.1406 - accuracy: 0.3810 - val_loss: 1.1697 - val_accuracy: 0.3333\n",
            "Epoch 69/100\n",
            "1/1 [==============================] - 0s 125ms/step - loss: 1.1366 - accuracy: 0.3810 - val_loss: 1.1646 - val_accuracy: 0.3333\n",
            "Epoch 70/100\n",
            "1/1 [==============================] - 0s 117ms/step - loss: 1.1327 - accuracy: 0.3810 - val_loss: 1.1596 - val_accuracy: 0.3333\n",
            "Epoch 71/100\n",
            "1/1 [==============================] - 0s 127ms/step - loss: 1.1289 - accuracy: 0.3810 - val_loss: 1.1546 - val_accuracy: 0.3333\n",
            "Epoch 72/100\n",
            "1/1 [==============================] - 0s 101ms/step - loss: 1.1251 - accuracy: 0.3810 - val_loss: 1.1498 - val_accuracy: 0.3333\n",
            "Epoch 73/100\n",
            "1/1 [==============================] - 0s 92ms/step - loss: 1.1214 - accuracy: 0.3810 - val_loss: 1.1450 - val_accuracy: 0.3333\n",
            "Epoch 74/100\n",
            "1/1 [==============================] - 0s 133ms/step - loss: 1.1178 - accuracy: 0.3810 - val_loss: 1.1403 - val_accuracy: 0.3333\n",
            "Epoch 75/100\n",
            "1/1 [==============================] - 0s 97ms/step - loss: 1.1142 - accuracy: 0.3810 - val_loss: 1.1357 - val_accuracy: 0.3333\n",
            "Epoch 76/100\n",
            "1/1 [==============================] - 0s 123ms/step - loss: 1.1107 - accuracy: 0.3810 - val_loss: 1.1312 - val_accuracy: 0.3333\n",
            "Epoch 77/100\n",
            "1/1 [==============================] - 0s 132ms/step - loss: 1.1072 - accuracy: 0.3810 - val_loss: 1.1267 - val_accuracy: 0.3333\n",
            "Epoch 78/100\n",
            "1/1 [==============================] - 0s 105ms/step - loss: 1.1038 - accuracy: 0.3810 - val_loss: 1.1223 - val_accuracy: 0.3333\n",
            "Epoch 79/100\n",
            "1/1 [==============================] - 0s 119ms/step - loss: 1.1004 - accuracy: 0.3810 - val_loss: 1.1180 - val_accuracy: 0.3810\n",
            "Epoch 80/100\n",
            "1/1 [==============================] - 0s 88ms/step - loss: 1.0971 - accuracy: 0.3810 - val_loss: 1.1138 - val_accuracy: 0.3810\n",
            "Epoch 81/100\n",
            "1/1 [==============================] - 0s 74ms/step - loss: 1.0939 - accuracy: 0.3810 - val_loss: 1.1097 - val_accuracy: 0.3810\n",
            "Epoch 82/100\n",
            "1/1 [==============================] - 0s 143ms/step - loss: 1.0907 - accuracy: 0.3810 - val_loss: 1.1056 - val_accuracy: 0.3810\n",
            "Epoch 83/100\n",
            "1/1 [==============================] - 0s 152ms/step - loss: 1.0875 - accuracy: 0.3810 - val_loss: 1.1016 - val_accuracy: 0.3810\n",
            "Epoch 84/100\n",
            "1/1 [==============================] - 0s 124ms/step - loss: 1.0845 - accuracy: 0.3810 - val_loss: 1.0976 - val_accuracy: 0.3810\n",
            "Epoch 85/100\n",
            "1/1 [==============================] - 0s 130ms/step - loss: 1.0814 - accuracy: 0.3810 - val_loss: 1.0937 - val_accuracy: 0.3810\n",
            "Epoch 86/100\n",
            "1/1 [==============================] - 0s 104ms/step - loss: 1.0784 - accuracy: 0.3810 - val_loss: 1.0899 - val_accuracy: 0.3810\n",
            "Epoch 87/100\n",
            "1/1 [==============================] - 0s 142ms/step - loss: 1.0755 - accuracy: 0.3810 - val_loss: 1.0862 - val_accuracy: 0.3810\n",
            "Epoch 88/100\n",
            "1/1 [==============================] - 0s 117ms/step - loss: 1.0726 - accuracy: 0.3810 - val_loss: 1.0825 - val_accuracy: 0.3810\n",
            "Epoch 89/100\n",
            "1/1 [==============================] - 0s 97ms/step - loss: 1.0697 - accuracy: 0.3810 - val_loss: 1.0789 - val_accuracy: 0.3333\n",
            "Epoch 90/100\n",
            "1/1 [==============================] - 0s 110ms/step - loss: 1.0669 - accuracy: 0.3810 - val_loss: 1.0753 - val_accuracy: 0.3333\n",
            "Epoch 91/100\n",
            "1/1 [==============================] - 0s 117ms/step - loss: 1.0641 - accuracy: 0.3929 - val_loss: 1.0718 - val_accuracy: 0.3333\n",
            "Epoch 92/100\n",
            "1/1 [==============================] - 0s 159ms/step - loss: 1.0614 - accuracy: 0.3929 - val_loss: 1.0683 - val_accuracy: 0.3333\n",
            "Epoch 93/100\n",
            "1/1 [==============================] - 0s 105ms/step - loss: 1.0587 - accuracy: 0.3929 - val_loss: 1.0649 - val_accuracy: 0.3333\n",
            "Epoch 94/100\n",
            "1/1 [==============================] - 0s 119ms/step - loss: 1.0561 - accuracy: 0.4048 - val_loss: 1.0615 - val_accuracy: 0.3333\n",
            "Epoch 95/100\n",
            "1/1 [==============================] - 0s 186ms/step - loss: 1.0535 - accuracy: 0.4048 - val_loss: 1.0582 - val_accuracy: 0.3333\n",
            "Epoch 96/100\n",
            "1/1 [==============================] - 0s 114ms/step - loss: 1.0509 - accuracy: 0.4048 - val_loss: 1.0550 - val_accuracy: 0.3333\n",
            "Epoch 97/100\n",
            "1/1 [==============================] - 0s 64ms/step - loss: 1.0483 - accuracy: 0.4167 - val_loss: 1.0518 - val_accuracy: 0.3333\n",
            "Epoch 98/100\n",
            "1/1 [==============================] - 0s 58ms/step - loss: 1.0458 - accuracy: 0.4167 - val_loss: 1.0486 - val_accuracy: 0.3333\n",
            "Epoch 99/100\n",
            "1/1 [==============================] - 0s 85ms/step - loss: 1.0434 - accuracy: 0.4167 - val_loss: 1.0455 - val_accuracy: 0.3333\n",
            "Epoch 100/100\n",
            "1/1 [==============================] - 0s 146ms/step - loss: 1.0409 - accuracy: 0.4167 - val_loss: 1.0424 - val_accuracy: 0.3810\n",
            "2/2 [==============================] - 0s 8ms/step - loss: 1.0405 - accuracy: 0.3556\n",
            "Test results - Loss: 1.0404547452926636 - Accuracy: 0.35555556416511536%\n",
            "2/2 [==============================] - 0s 13ms/step\n"
          ]
        },
        {
          "output_type": "display_data",
          "data": {
            "text/plain": [
              "<Figure size 432x288 with 1 Axes>"
            ],
            "image/png": "[encoded data removed]"
          },
          "metadata": {
            "needs_background": "light"
          }
        },
        {
          "output_type": "display_data",
          "data": {
            "text/plain": [
              "<Figure size 432x288 with 2 Axes>"
            ],
            "image/png": "[encoded data removed]"
          },
          "metadata": {
            "needs_background": "light"
          }
        }
      ]
    },
    {
      "cell_type": "markdown",
      "source": [
        "## Regression evaluation metrcis"
      ],
      "metadata": {
        "id": "8AcgtSHTzXRA"
      }
    },
    {
      "cell_type": "code",
      "source": [
        "import numpy as np\n",
        "import pandas as pd\n",
        "import matplotlib.pyplot as plt\n",
        "\n",
        "from sklearn import datasets\n",
        "from sklearn.model_selection import train_test_split\n",
        "from sklearn.metrics import RocCurveDisplay, confusion_matrix, ConfusionMatrixDisplay\n",
        "\n",
        "import tensorflow as tf\n",
        "\n",
        "# Import data\n",
        "# dataset = datasets.fetch_california_housing()\n",
        "dataset = datasets.load_diabetes()\n",
        "X = dataset.data\n",
        "y = dataset.target\n",
        "\n",
        "n_samples, n_features = X.shape\n",
        "\n",
        "# Shuffle and split training and test sets\n",
        "X_train, X_test, y_train, y_test = train_test_split(X, y, random_state=0)\n",
        "\n",
        "normalizer = tf.keras.layers.Normalization(axis=-1)\n",
        "normalizer.adapt(np.array(X_train))\n",
        "\n",
        "# Create the model\n",
        "model = tf.keras.Sequential()\n",
        "model.add(normalizer)\n",
        "model.add(tf.keras.layers.Dense(64, input_shape=(n_features,), activation='relu'))\n",
        "model.add(tf.keras.layers.Dense(64, activation='relu'))\n",
        "model.add(tf.keras.layers.Dense(1))\n",
        "\n",
        "# Configure the model and start training\n",
        "model.compile(loss='mean_absolute_error', optimizer='adam', metrics=['mean_absolute_error'])\n",
        "model.fit(X_train, y_train, epochs=100, batch_size=256, validation_split=0.2)\n",
        "\n",
        "# Test the model after training\n",
        "test_results = model.evaluate(X_test, y_test, verbose=1)\n",
        "print(f'Test results - Loss: {test_results[0]} - MAE: {test_results[1]}%')\n",
        "\n",
        "y_pred = model.predict(X_test)\n",
        "\n",
        "a = plt.axes(aspect='equal')\n",
        "plt.scatter(y_test, y_pred)\n",
        "#plt.plot(test_labels, np.abs(test_labels - test_predictions), color='k')\n",
        "plt.xlabel('True Values [MPG]')\n",
        "plt.ylabel('Predictions [MPG]')\n",
        "lims = [0, np.max(y_test)]\n",
        "plt.xlim(lims)\n",
        "plt.ylim(lims)\n",
        "_ = plt.plot(lims, lims)"
      ],
      "metadata": {
        "colab": {
          "base_uri": "https://localhost:8080/",
          "height": 1000
        },
        "id": "iflVqosrzfrf",
        "outputId": "8b98758d-6844-4e24-a433-2159af2664ce"
      },
      "execution_count": null,
      "outputs": [
        {
          "output_type": "stream",
          "name": "stdout",
          "text": [
            "Epoch 1/100\n",
            "2/2 [==============================] - 1s 151ms/step - loss: 150.8118 - mean_absolute_error: 150.8118 - val_loss: 155.2400 - val_mean_absolute_error: 155.2400\n",
            "Epoch 2/100\n",
            "2/2 [==============================] - 0s 28ms/step - loss: 150.6394 - mean_absolute_error: 150.6394 - val_loss: 155.0768 - val_mean_absolute_error: 155.0768\n",
            "Epoch 3/100\n",
            "2/2 [==============================] - 0s 24ms/step - loss: 150.4712 - mean_absolute_error: 150.4712 - val_loss: 154.9138 - val_mean_absolute_error: 154.9138\n",
            "Epoch 4/100\n",
            "2/2 [==============================] - 0s 24ms/step - loss: 150.3030 - mean_absolute_error: 150.3030 - val_loss: 154.7477 - val_mean_absolute_error: 154.7477\n",
            "Epoch 5/100\n",
            "2/2 [==============================] - 0s 26ms/step - loss: 150.1314 - mean_absolute_error: 150.1314 - val_loss: 154.5767 - val_mean_absolute_error: 154.5767\n",
            "Epoch 6/100\n",
            "2/2 [==============================] - 0s 23ms/step - loss: 149.9565 - mean_absolute_error: 149.9565 - val_loss: 154.4003 - val_mean_absolute_error: 154.4003\n",
            "Epoch 7/100\n",
            "2/2 [==============================] - 0s 24ms/step - loss: 149.7754 - mean_absolute_error: 149.7754 - val_loss: 154.2190 - val_mean_absolute_error: 154.2190\n",
            "Epoch 8/100\n",
            "2/2 [==============================] - 0s 25ms/step - loss: 149.5894 - mean_absolute_error: 149.5894 - val_loss: 154.0302 - val_mean_absolute_error: 154.0302\n",
            "Epoch 9/100\n",
            "2/2 [==============================] - 0s 23ms/step - loss: 149.3953 - mean_absolute_error: 149.3953 - val_loss: 153.8321 - val_mean_absolute_error: 153.8321\n",
            "Epoch 10/100\n",
            "2/2 [==============================] - 0s 25ms/step - loss: 149.1918 - mean_absolute_error: 149.1918 - val_loss: 153.6233 - val_mean_absolute_error: 153.6233\n",
            "Epoch 11/100\n",
            "2/2 [==============================] - 0s 25ms/step - loss: 148.9776 - mean_absolute_error: 148.9776 - val_loss: 153.4018 - val_mean_absolute_error: 153.4018\n",
            "Epoch 12/100\n",
            "2/2 [==============================] - 0s 25ms/step - loss: 148.7506 - mean_absolute_error: 148.7506 - val_loss: 153.1653 - val_mean_absolute_error: 153.1653\n",
            "Epoch 13/100\n",
            "2/2 [==============================] - 0s 27ms/step - loss: 148.5080 - mean_absolute_error: 148.5080 - val_loss: 152.9140 - val_mean_absolute_error: 152.9140\n",
            "Epoch 14/100\n",
            "2/2 [==============================] - 0s 28ms/step - loss: 148.2499 - mean_absolute_error: 148.2499 - val_loss: 152.6473 - val_mean_absolute_error: 152.6473\n",
            "Epoch 15/100\n",
            "2/2 [==============================] - 0s 33ms/step - loss: 147.9758 - mean_absolute_error: 147.9758 - val_loss: 152.3639 - val_mean_absolute_error: 152.3639\n",
            "Epoch 16/100\n",
            "2/2 [==============================] - 0s 23ms/step - loss: 147.6848 - mean_absolute_error: 147.6848 - val_loss: 152.0612 - val_mean_absolute_error: 152.0612\n",
            "Epoch 17/100\n",
            "2/2 [==============================] - 0s 23ms/step - loss: 147.3757 - mean_absolute_error: 147.3757 - val_loss: 151.7366 - val_mean_absolute_error: 151.7366\n",
            "Epoch 18/100\n",
            "2/2 [==============================] - 0s 24ms/step - loss: 147.0466 - mean_absolute_error: 147.0466 - val_loss: 151.3928 - val_mean_absolute_error: 151.3928\n",
            "Epoch 19/100\n",
            "2/2 [==============================] - 0s 23ms/step - loss: 146.6939 - mean_absolute_error: 146.6939 - val_loss: 151.0287 - val_mean_absolute_error: 151.0287\n",
            "Epoch 20/100\n",
            "2/2 [==============================] - 0s 25ms/step - loss: 146.3209 - mean_absolute_error: 146.3209 - val_loss: 150.6409 - val_mean_absolute_error: 150.6409\n",
            "Epoch 21/100\n",
            "2/2 [==============================] - 0s 24ms/step - loss: 145.9209 - mean_absolute_error: 145.9209 - val_loss: 150.2266 - val_mean_absolute_error: 150.2266\n",
            "Epoch 22/100\n",
            "2/2 [==============================] - 0s 24ms/step - loss: 145.4952 - mean_absolute_error: 145.4952 - val_loss: 149.7862 - val_mean_absolute_error: 149.7862\n",
            "Epoch 23/100\n",
            "2/2 [==============================] - 0s 26ms/step - loss: 145.0403 - mean_absolute_error: 145.0403 - val_loss: 149.3203 - val_mean_absolute_error: 149.3203\n",
            "Epoch 24/100\n",
            "2/2 [==============================] - 0s 24ms/step - loss: 144.5558 - mean_absolute_error: 144.5558 - val_loss: 148.8218 - val_mean_absolute_error: 148.8218\n",
            "Epoch 25/100\n",
            "2/2 [==============================] - 0s 25ms/step - loss: 144.0382 - mean_absolute_error: 144.0382 - val_loss: 148.2867 - val_mean_absolute_error: 148.2867\n",
            "Epoch 26/100\n",
            "2/2 [==============================] - 0s 42ms/step - loss: 143.4821 - mean_absolute_error: 143.4821 - val_loss: 147.7183 - val_mean_absolute_error: 147.7183\n",
            "Epoch 27/100\n",
            "2/2 [==============================] - 0s 24ms/step - loss: 142.8899 - mean_absolute_error: 142.8899 - val_loss: 147.1138 - val_mean_absolute_error: 147.1138\n",
            "Epoch 28/100\n",
            "2/2 [==============================] - 0s 29ms/step - loss: 142.2579 - mean_absolute_error: 142.2579 - val_loss: 146.4702 - val_mean_absolute_error: 146.4702\n",
            "Epoch 29/100\n",
            "2/2 [==============================] - 0s 24ms/step - loss: 141.5850 - mean_absolute_error: 141.5850 - val_loss: 145.7905 - val_mean_absolute_error: 145.7905\n",
            "Epoch 30/100\n",
            "2/2 [==============================] - 0s 24ms/step - loss: 140.8733 - mean_absolute_error: 140.8733 - val_loss: 145.0757 - val_mean_absolute_error: 145.0757\n",
            "Epoch 31/100\n",
            "2/2 [==============================] - 0s 24ms/step - loss: 140.1218 - mean_absolute_error: 140.1218 - val_loss: 144.3162 - val_mean_absolute_error: 144.3162\n",
            "Epoch 32/100\n",
            "2/2 [==============================] - 0s 25ms/step - loss: 139.3361 - mean_absolute_error: 139.3361 - val_loss: 143.5156 - val_mean_absolute_error: 143.5156\n",
            "Epoch 33/100\n",
            "2/2 [==============================] - 0s 25ms/step - loss: 138.5033 - mean_absolute_error: 138.5033 - val_loss: 142.6827 - val_mean_absolute_error: 142.6827\n",
            "Epoch 34/100\n",
            "2/2 [==============================] - 0s 27ms/step - loss: 137.6278 - mean_absolute_error: 137.6278 - val_loss: 141.8029 - val_mean_absolute_error: 141.8029\n",
            "Epoch 35/100\n",
            "2/2 [==============================] - 0s 44ms/step - loss: 136.7124 - mean_absolute_error: 136.7124 - val_loss: 140.8753 - val_mean_absolute_error: 140.8753\n",
            "Epoch 36/100\n",
            "2/2 [==============================] - 0s 24ms/step - loss: 135.7384 - mean_absolute_error: 135.7384 - val_loss: 139.9072 - val_mean_absolute_error: 139.9072\n",
            "Epoch 37/100\n",
            "2/2 [==============================] - 0s 25ms/step - loss: 134.7264 - mean_absolute_error: 134.7264 - val_loss: 138.8928 - val_mean_absolute_error: 138.8928\n",
            "Epoch 38/100\n",
            "2/2 [==============================] - 0s 23ms/step - loss: 133.6685 - mean_absolute_error: 133.6685 - val_loss: 137.8255 - val_mean_absolute_error: 137.8255\n",
            "Epoch 39/100\n",
            "2/2 [==============================] - 0s 26ms/step - loss: 132.5573 - mean_absolute_error: 132.5573 - val_loss: 136.7084 - val_mean_absolute_error: 136.7084\n",
            "Epoch 40/100\n",
            "2/2 [==============================] - 0s 24ms/step - loss: 131.3868 - mean_absolute_error: 131.3868 - val_loss: 135.5351 - val_mean_absolute_error: 135.5351\n",
            "Epoch 41/100\n",
            "2/2 [==============================] - 0s 27ms/step - loss: 130.1802 - mean_absolute_error: 130.1802 - val_loss: 134.3050 - val_mean_absolute_error: 134.3050\n",
            "Epoch 42/100\n",
            "2/2 [==============================] - 0s 49ms/step - loss: 128.9154 - mean_absolute_error: 128.9154 - val_loss: 133.0234 - val_mean_absolute_error: 133.0234\n",
            "Epoch 43/100\n",
            "2/2 [==============================] - 0s 23ms/step - loss: 127.6005 - mean_absolute_error: 127.6005 - val_loss: 131.6802 - val_mean_absolute_error: 131.6802\n",
            "Epoch 44/100\n",
            "2/2 [==============================] - 0s 28ms/step - loss: 126.2443 - mean_absolute_error: 126.2443 - val_loss: 130.2739 - val_mean_absolute_error: 130.2739\n",
            "Epoch 45/100\n",
            "2/2 [==============================] - 0s 26ms/step - loss: 124.8395 - mean_absolute_error: 124.8395 - val_loss: 128.7954 - val_mean_absolute_error: 128.7954\n",
            "Epoch 46/100\n",
            "2/2 [==============================] - 0s 24ms/step - loss: 123.3875 - mean_absolute_error: 123.3875 - val_loss: 127.2440 - val_mean_absolute_error: 127.2440\n",
            "Epoch 47/100\n",
            "2/2 [==============================] - 0s 25ms/step - loss: 121.8655 - mean_absolute_error: 121.8655 - val_loss: 125.6213 - val_mean_absolute_error: 125.6213\n",
            "Epoch 48/100\n",
            "2/2 [==============================] - 0s 24ms/step - loss: 120.3152 - mean_absolute_error: 120.3152 - val_loss: 123.9916 - val_mean_absolute_error: 123.9916\n",
            "Epoch 49/100\n",
            "2/2 [==============================] - 0s 25ms/step - loss: 118.7477 - mean_absolute_error: 118.7477 - val_loss: 122.3972 - val_mean_absolute_error: 122.3972\n",
            "Epoch 50/100\n",
            "2/2 [==============================] - 0s 25ms/step - loss: 117.1735 - mean_absolute_error: 117.1735 - val_loss: 120.7625 - val_mean_absolute_error: 120.7625\n",
            "Epoch 51/100\n",
            "2/2 [==============================] - 0s 26ms/step - loss: 115.5966 - mean_absolute_error: 115.5966 - val_loss: 119.0400 - val_mean_absolute_error: 119.0400\n",
            "Epoch 52/100\n",
            "2/2 [==============================] - 0s 25ms/step - loss: 113.9713 - mean_absolute_error: 113.9713 - val_loss: 117.3465 - val_mean_absolute_error: 117.3465\n",
            "Epoch 53/100\n",
            "2/2 [==============================] - 0s 24ms/step - loss: 112.3431 - mean_absolute_error: 112.3431 - val_loss: 115.6163 - val_mean_absolute_error: 115.6163\n",
            "Epoch 54/100\n",
            "2/2 [==============================] - 0s 25ms/step - loss: 110.7220 - mean_absolute_error: 110.7220 - val_loss: 113.8265 - val_mean_absolute_error: 113.8265\n",
            "Epoch 55/100\n",
            "2/2 [==============================] - 0s 25ms/step - loss: 109.1421 - mean_absolute_error: 109.1421 - val_loss: 112.0725 - val_mean_absolute_error: 112.0725\n",
            "Epoch 56/100\n",
            "2/2 [==============================] - 0s 25ms/step - loss: 107.5191 - mean_absolute_error: 107.5191 - val_loss: 110.5328 - val_mean_absolute_error: 110.5328\n",
            "Epoch 57/100\n",
            "2/2 [==============================] - 0s 29ms/step - loss: 105.8807 - mean_absolute_error: 105.8807 - val_loss: 109.0837 - val_mean_absolute_error: 109.0837\n",
            "Epoch 58/100\n",
            "2/2 [==============================] - 0s 25ms/step - loss: 104.2641 - mean_absolute_error: 104.2641 - val_loss: 107.5439 - val_mean_absolute_error: 107.5439\n",
            "Epoch 59/100\n",
            "2/2 [==============================] - 0s 24ms/step - loss: 102.6091 - mean_absolute_error: 102.6091 - val_loss: 106.0195 - val_mean_absolute_error: 106.0195\n",
            "Epoch 60/100\n",
            "2/2 [==============================] - 0s 25ms/step - loss: 100.9000 - mean_absolute_error: 100.9000 - val_loss: 104.4739 - val_mean_absolute_error: 104.4739\n",
            "Epoch 61/100\n",
            "2/2 [==============================] - 0s 26ms/step - loss: 99.2074 - mean_absolute_error: 99.2074 - val_loss: 102.8896 - val_mean_absolute_error: 102.8896\n",
            "Epoch 62/100\n",
            "2/2 [==============================] - 0s 24ms/step - loss: 97.5636 - mean_absolute_error: 97.5636 - val_loss: 101.2047 - val_mean_absolute_error: 101.2047\n",
            "Epoch 63/100\n",
            "2/2 [==============================] - 0s 26ms/step - loss: 95.9133 - mean_absolute_error: 95.9133 - val_loss: 99.4724 - val_mean_absolute_error: 99.4724\n",
            "Epoch 64/100\n",
            "2/2 [==============================] - 0s 24ms/step - loss: 94.2990 - mean_absolute_error: 94.2990 - val_loss: 97.7081 - val_mean_absolute_error: 97.7081\n",
            "Epoch 65/100\n",
            "2/2 [==============================] - 0s 25ms/step - loss: 92.7616 - mean_absolute_error: 92.7616 - val_loss: 95.9187 - val_mean_absolute_error: 95.9187\n",
            "Epoch 66/100\n",
            "2/2 [==============================] - 0s 24ms/step - loss: 91.2560 - mean_absolute_error: 91.2560 - val_loss: 94.1499 - val_mean_absolute_error: 94.1499\n",
            "Epoch 67/100\n",
            "2/2 [==============================] - 0s 28ms/step - loss: 89.8027 - mean_absolute_error: 89.8027 - val_loss: 92.3871 - val_mean_absolute_error: 92.3871\n",
            "Epoch 68/100\n",
            "2/2 [==============================] - 0s 32ms/step - loss: 88.3371 - mean_absolute_error: 88.3371 - val_loss: 90.5223 - val_mean_absolute_error: 90.5223\n",
            "Epoch 69/100\n",
            "2/2 [==============================] - 0s 25ms/step - loss: 86.8280 - mean_absolute_error: 86.8280 - val_loss: 88.6003 - val_mean_absolute_error: 88.6003\n",
            "Epoch 70/100\n",
            "2/2 [==============================] - 0s 25ms/step - loss: 85.2119 - mean_absolute_error: 85.2119 - val_loss: 86.5896 - val_mean_absolute_error: 86.5896\n",
            "Epoch 71/100\n",
            "2/2 [==============================] - 0s 23ms/step - loss: 83.6266 - mean_absolute_error: 83.6266 - val_loss: 84.4622 - val_mean_absolute_error: 84.4622\n",
            "Epoch 72/100\n",
            "2/2 [==============================] - 0s 24ms/step - loss: 82.0773 - mean_absolute_error: 82.0773 - val_loss: 82.3851 - val_mean_absolute_error: 82.3851\n",
            "Epoch 73/100\n",
            "2/2 [==============================] - 0s 28ms/step - loss: 80.5408 - mean_absolute_error: 80.5408 - val_loss: 80.4168 - val_mean_absolute_error: 80.4168\n",
            "Epoch 74/100\n",
            "2/2 [==============================] - 0s 25ms/step - loss: 79.1250 - mean_absolute_error: 79.1250 - val_loss: 78.4299 - val_mean_absolute_error: 78.4299\n",
            "Epoch 75/100\n",
            "2/2 [==============================] - 0s 26ms/step - loss: 77.7332 - mean_absolute_error: 77.7332 - val_loss: 76.5010 - val_mean_absolute_error: 76.5010\n",
            "Epoch 76/100\n",
            "2/2 [==============================] - 0s 25ms/step - loss: 76.3181 - mean_absolute_error: 76.3181 - val_loss: 74.5694 - val_mean_absolute_error: 74.5694\n",
            "Epoch 77/100\n",
            "2/2 [==============================] - 0s 26ms/step - loss: 74.9290 - mean_absolute_error: 74.9290 - val_loss: 72.6731 - val_mean_absolute_error: 72.6731\n",
            "Epoch 78/100\n",
            "2/2 [==============================] - 0s 27ms/step - loss: 73.6010 - mean_absolute_error: 73.6010 - val_loss: 70.8152 - val_mean_absolute_error: 70.8152\n",
            "Epoch 79/100\n",
            "2/2 [==============================] - 0s 24ms/step - loss: 72.3769 - mean_absolute_error: 72.3769 - val_loss: 69.0406 - val_mean_absolute_error: 69.0406\n",
            "Epoch 80/100\n",
            "2/2 [==============================] - 0s 30ms/step - loss: 71.1203 - mean_absolute_error: 71.1203 - val_loss: 67.2369 - val_mean_absolute_error: 67.2369\n",
            "Epoch 81/100\n",
            "2/2 [==============================] - 0s 43ms/step - loss: 69.8255 - mean_absolute_error: 69.8255 - val_loss: 65.4015 - val_mean_absolute_error: 65.4015\n",
            "Epoch 82/100\n",
            "2/2 [==============================] - 0s 25ms/step - loss: 68.5319 - mean_absolute_error: 68.5319 - val_loss: 63.5761 - val_mean_absolute_error: 63.5761\n",
            "Epoch 83/100\n",
            "2/2 [==============================] - 0s 26ms/step - loss: 67.2784 - mean_absolute_error: 67.2784 - val_loss: 61.7684 - val_mean_absolute_error: 61.7684\n",
            "Epoch 84/100\n",
            "2/2 [==============================] - 0s 25ms/step - loss: 66.0712 - mean_absolute_error: 66.0712 - val_loss: 60.0132 - val_mean_absolute_error: 60.0132\n",
            "Epoch 85/100\n",
            "2/2 [==============================] - 0s 24ms/step - loss: 65.0040 - mean_absolute_error: 65.0040 - val_loss: 58.4819 - val_mean_absolute_error: 58.4819\n",
            "Epoch 86/100\n",
            "2/2 [==============================] - 0s 25ms/step - loss: 64.0788 - mean_absolute_error: 64.0788 - val_loss: 57.0751 - val_mean_absolute_error: 57.0751\n",
            "Epoch 87/100\n",
            "2/2 [==============================] - 0s 25ms/step - loss: 63.1859 - mean_absolute_error: 63.1859 - val_loss: 55.8118 - val_mean_absolute_error: 55.8118\n",
            "Epoch 88/100\n",
            "2/2 [==============================] - 0s 24ms/step - loss: 62.3341 - mean_absolute_error: 62.3341 - val_loss: 54.8007 - val_mean_absolute_error: 54.8007\n",
            "Epoch 89/100\n",
            "2/2 [==============================] - 0s 25ms/step - loss: 61.5425 - mean_absolute_error: 61.5425 - val_loss: 53.9319 - val_mean_absolute_error: 53.9319\n",
            "Epoch 90/100\n",
            "2/2 [==============================] - 0s 25ms/step - loss: 60.7710 - mean_absolute_error: 60.7710 - val_loss: 53.0772 - val_mean_absolute_error: 53.0772\n",
            "Epoch 91/100\n",
            "2/2 [==============================] - 0s 24ms/step - loss: 59.9694 - mean_absolute_error: 59.9694 - val_loss: 52.1829 - val_mean_absolute_error: 52.1829\n",
            "Epoch 92/100\n",
            "2/2 [==============================] - 0s 24ms/step - loss: 59.2261 - mean_absolute_error: 59.2261 - val_loss: 51.5884 - val_mean_absolute_error: 51.5884\n",
            "Epoch 93/100\n",
            "2/2 [==============================] - 0s 26ms/step - loss: 58.4922 - mean_absolute_error: 58.4922 - val_loss: 51.1432 - val_mean_absolute_error: 51.1432\n",
            "Epoch 94/100\n",
            "2/2 [==============================] - 0s 47ms/step - loss: 57.8643 - mean_absolute_error: 57.8643 - val_loss: 50.7198 - val_mean_absolute_error: 50.7198\n",
            "Epoch 95/100\n",
            "2/2 [==============================] - 0s 24ms/step - loss: 57.2837 - mean_absolute_error: 57.2837 - val_loss: 50.3421 - val_mean_absolute_error: 50.3421\n",
            "Epoch 96/100\n",
            "2/2 [==============================] - 0s 28ms/step - loss: 56.8080 - mean_absolute_error: 56.8080 - val_loss: 49.9986 - val_mean_absolute_error: 49.9986\n",
            "Epoch 97/100\n",
            "2/2 [==============================] - 0s 25ms/step - loss: 56.3595 - mean_absolute_error: 56.3595 - val_loss: 49.7256 - val_mean_absolute_error: 49.7256\n",
            "Epoch 98/100\n",
            "2/2 [==============================] - 0s 25ms/step - loss: 55.9128 - mean_absolute_error: 55.9128 - val_loss: 49.5051 - val_mean_absolute_error: 49.5051\n",
            "Epoch 99/100\n",
            "2/2 [==============================] - 0s 25ms/step - loss: 55.4769 - mean_absolute_error: 55.4769 - val_loss: 49.2421 - val_mean_absolute_error: 49.2421\n",
            "Epoch 100/100\n",
            "2/2 [==============================] - 0s 25ms/step - loss: 54.9765 - mean_absolute_error: 54.9765 - val_loss: 49.0178 - val_mean_absolute_error: 49.0178\n",
            "4/4 [==============================] - 0s 4ms/step - loss: 48.7287 - mean_absolute_error: 48.7287\n",
            "Test results - Loss: 48.72874450683594 - MAE: 48.72874450683594%\n",
            "4/4 [==============================] - 0s 4ms/step\n"
          ]
        },
        {
          "output_type": "display_data",
          "data": {
            "text/plain": [
              "<Figure size 432x288 with 1 Axes>"
            ],
            "image/png": "[encoded data removed]"
          },
          "metadata": {
            "needs_background": "light"
          }
        }
      ]
    },
    {
      "cell_type": "code",
      "source": [
        "metrics.explained_variance_score(y_test, y_pred)"
      ],
      "metadata": {
        "colab": {
          "base_uri": "https://localhost:8080/"
        },
        "id": "4Ju1pcyVWfdK",
        "outputId": "fc6a2171-4b9e-40d5-d0bd-7681191917ba"
      },
      "execution_count": null,
      "outputs": [
        {
          "output_type": "execute_result",
          "data": {
            "text/plain": [
              "0.23912918081985424"
            ]
          },
          "metadata": {},
          "execution_count": 12
        }
      ]
    },
    {
      "cell_type": "code",
      "source": [
        "metrics.max_error(y_test, y_pred)"
      ],
      "metadata": {
        "colab": {
          "base_uri": "https://localhost:8080/"
        },
        "id": "azzC0rlMYrDg",
        "outputId": "e7e757bb-a3c8-421d-b650-97afbd7e9473"
      },
      "execution_count": null,
      "outputs": [
        {
          "output_type": "execute_result",
          "data": {
            "text/plain": [
              "228.72867584228516"
            ]
          },
          "metadata": {},
          "execution_count": 13
        }
      ]
    },
    {
      "cell_type": "code",
      "source": [
        "metrics.mean_absolute_error(y_test, y_pred)"
      ],
      "metadata": {
        "colab": {
          "base_uri": "https://localhost:8080/"
        },
        "id": "mEJEhnlxYq_O",
        "outputId": "050f12c0-5be1-4a0b-d3a3-b6a3839ad146"
      },
      "execution_count": null,
      "outputs": [
        {
          "output_type": "execute_result",
          "data": {
            "text/plain": [
              "48.72874509106885"
            ]
          },
          "metadata": {},
          "execution_count": 14
        }
      ]
    },
    {
      "cell_type": "code",
      "source": [
        "# MSE \n",
        "metrics.mean_squared_error(y_test, y_pred, squared=True)"
      ],
      "metadata": {
        "colab": {
          "base_uri": "https://localhost:8080/"
        },
        "id": "6btnxGxWYq8w",
        "outputId": "8b4c8d77-da48-41e2-fef1-9cb75f3f0541"
      },
      "execution_count": null,
      "outputs": [
        {
          "output_type": "execute_result",
          "data": {
            "text/plain": [
              "4247.883831918505"
            ]
          },
          "metadata": {},
          "execution_count": 15
        }
      ]
    },
    {
      "cell_type": "code",
      "source": [
        "# RMSE\n",
        "metrics.mean_squared_error(y_test, y_pred, squared=False)"
      ],
      "metadata": {
        "colab": {
          "base_uri": "https://localhost:8080/"
        },
        "id": "np4oJpr8Yq6N",
        "outputId": "0bb0ff73-6f8b-457e-ee05-bb36af8b56f9"
      },
      "execution_count": null,
      "outputs": [
        {
          "output_type": "execute_result",
          "data": {
            "text/plain": [
              "65.1757917628816"
            ]
          },
          "metadata": {},
          "execution_count": 16
        }
      ]
    },
    {
      "cell_type": "code",
      "source": [
        "# Mean squared logarithmic error regression loss.\n",
        "metrics.mean_squared_log_error(y_test, y_pred)"
      ],
      "metadata": {
        "colab": {
          "base_uri": "https://localhost:8080/"
        },
        "id": "STWsor70Yq24",
        "outputId": "87206ef1-e7b9-480a-9c84-32fdc444cc89"
      },
      "execution_count": null,
      "outputs": [
        {
          "output_type": "execute_result",
          "data": {
            "text/plain": [
              "0.19817470515196953"
            ]
          },
          "metadata": {},
          "execution_count": 17
        }
      ]
    },
    {
      "cell_type": "code",
      "source": [
        "metrics.median_absolute_error(y_test, y_pred)"
      ],
      "metadata": {
        "colab": {
          "base_uri": "https://localhost:8080/"
        },
        "id": "W6FqGXZqYqxY",
        "outputId": "003b083f-4a89-41ff-ecad-48a95586db7b"
      },
      "execution_count": null,
      "outputs": [
        {
          "output_type": "execute_result",
          "data": {
            "text/plain": [
              "38.04493713378906"
            ]
          },
          "metadata": {},
          "execution_count": 18
        }
      ]
    },
    {
      "cell_type": "code",
      "source": [
        "# R^2 (coefficient of determination) regression score function.\n",
        "metrics.r2_score(y_test, y_pred)"
      ],
      "metadata": {
        "colab": {
          "base_uri": "https://localhost:8080/"
        },
        "id": "84ErBeWbYzl1",
        "outputId": "bc7bbc79-7ac1-4e32-d296-afee85756d53"
      },
      "execution_count": null,
      "outputs": [
        {
          "output_type": "execute_result",
          "data": {
            "text/plain": [
              "0.14433321399137655"
            ]
          },
          "metadata": {},
          "execution_count": 19
        }
      ]
    }
  ]
}