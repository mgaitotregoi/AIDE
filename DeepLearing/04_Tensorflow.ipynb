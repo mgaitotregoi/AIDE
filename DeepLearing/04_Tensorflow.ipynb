{
  "nbformat": 4,
  "nbformat_minor": 0,
  "metadata": {
    "colab": {
      "provenance": [],
      "collapsed_sections": [],
      "include_colab_link": true
    },
    "kernelspec": {
      "name": "python3",
      "display_name": "Python 3"
    },
    "language_info": {
      "name": "python"
    }
  },
  "cells": [
    {
      "cell_type": "markdown",
      "metadata": {
        "id": "view-in-github",
        "colab_type": "text"
      },
      "source": [
        "<a href=\"https://colab.research.google.com/github/Salvoaf/labDeepLearning/blob/main/04_Tensorflow.ipynb\" target=\"_parent\"><img src=\"https://colab.research.google.com/assets/colab-badge.svg\" alt=\"Open In Colab\"/></a>"
      ]
    },
    {
      "cell_type": "markdown",
      "metadata": {
        "id": "IT5d6Kxoa97h"
      },
      "source": [
        "# Tensorflow and Keras"
      ]
    },
    {
      "cell_type": "markdown",
      "metadata": {
        "id": "fBF73g0diQcW"
      },
      "source": [
        "## Tensorflow\n"
      ]
    },
    {
      "cell_type": "markdown",
      "source": [
        "\n",
        "Tensorflow is an open-source software library, written in Python and C++, used for expressing and executing machine learning algorithms. It was developed by Google Brain and released on November 2015.\n",
        "\n",
        "Abstract from **Abadi, Martín, et al. 2015**:\n",
        "\n",
        "*TensorFlow is **an interface for expressing machine learning algorithms, and an implementation for executing such algorithms**. A computation expressed using TensorFlow can be executed with little or no change on a wide variety of heterogeneous systems, ranging from **mobile devices** such as phones and tablets up to **large-scale distributed systems** of hundreds of machines and thousands of computational devices such as **GPU cards**. The system is flexible and can be used to express a wide variety of algorithms, including **training and inference algorithms for deep neural network models**, and it has been used for conducting research and for deploying machine learning systems into production across more than a dozen areas of computer science and other fields, including **speech recognition, computer vision, robotics, information retrieval, natural language processing, geographic information extraction, and computational drug discovery**. This paper describes the TensorFlow interface and an implementation of that interface that we have built at Google. The TensorFlow API and a reference implementation were released as an **open-source package** under the Apache 2.0 license in November, 2015 and are available at www.tensorflow.org*\n",
        "\n",
        "On September 30th 2019, **Tensorflow 2.0** has been released: according to the authors it is an easier-to-use, more flexible and powerful platform for the development and the deployment of Machine Learning applications.\n",
        "Read the Tensorflow [blog post](https://medium.com/tensorflow/tensorflow-2-0-is-now-available-57d706c2a9ab) for further information.\n"
      ],
      "metadata": {
        "id": "8sYL9cM4Cuhs"
      }
    },
    {
      "cell_type": "markdown",
      "metadata": {
        "id": "KHFHmbAOUbBG"
      },
      "source": [
        "## Keras\n"
      ]
    },
    {
      "cell_type": "markdown",
      "source": [
        "- https://keras.io/\n",
        "\n",
        "\\\\\n",
        "Keras is a **high-level API** to build and train machine learning models and it is **capable of running on Tensorflow**. \n",
        "   \n",
        "\n",
        "API stands for \"Application Programming Interface\"; in general, it is a set of *commands*, *functions*, *protocols*, and *objects* that programmers can use to create software or interact with an external system. It makes it easier to develop a computer program by providing all the building blocks.\n",
        "\n",
        "\n",
        "Keras, in particular, is used for fast prototyping, advanced research, and production, with three key advantages:\n",
        "- *User friendly*: Keras has a simple, consistent interface optimized for common use cases. It provides clear and actionable feedback for user errors.\n",
        "- *Modular and composable*: Keras models are made by connecting configurable building blocks together, with few restrictions.\n",
        "- *Easy to extend*: Write custom building blocks to express new ideas for research. Create new layers, loss functions, and develop state-of-the-art models.\n",
        "\n",
        "Furthermore:\n",
        "- it allows the same code to run seamlessly on CPU and GPU\n",
        "- it has built-in support for Convolutional Neural Networks (CNN) and Recurrent Neural Networks (RNN)\n",
        "- it supports arbitrary network architectures (functional API)\n",
        "\n",
        "### Easy prototyping of Machine Learning models\n",
        "Typical workflow for developing with Keras:\n",
        "\n",
        "1. Define training data (input tensor and target tensor)\n",
        "2. Define a model (network as a combination of layers) that maps input tensors to target tensors\n",
        "3. Configure the learning process by choosing a loss function, an optimizer, and a metric to monitor\n",
        "4. Train your model on your data\n",
        "5. Eventually, test your model."
      ],
      "metadata": {
        "id": "upKzG6Q3C1Xn"
      }
    },
    {
      "cell_type": "markdown",
      "metadata": {
        "id": "JwvLrl1D44Wg"
      },
      "source": [
        "### tf.keras\n",
        "\n",
        "- https://www.tensorflow.org/guide/keras\n",
        "\n",
        "One of the main novelties of Tensorflow 2.0 is the tight integration of Keras into Tensorflow. Actually, the first integration of Keras as a submodule in Tensorflow dates back to Tensorflow 1.10.0 (2018)\n",
        "\n",
        "Instead of resorting to an external library (`keras`) we can directly refer to a tensorflow module (`tf.keras`) that implements the same Keras high-level API for Tensorflow.\n",
        "\n",
        "\n",
        "Release notes for Keras 2.3.0 on September 17th, 2019, by Francois Chollet  (Keras creator):\n",
        "\n",
        "\n",
        "- ***This release brings the API in sync with the tf.keras API as of TensorFlow 2.0.*** *However note that it does not support most TensorFlow 2.0 features, in particular eager execution. If you need these features, use tf.keras.*\n",
        "\n",
        "- *This is also the last major release of multi-backend Keras. Going forward, **we recommend that users consider switching their Keras code to tf.keras in TensorFlow 2.0**.*"
      ]
    },
    {
      "cell_type": "markdown",
      "source": [],
      "metadata": {
        "id": "HhL78betCzEP"
      }
    },
    {
      "cell_type": "markdown",
      "metadata": {
        "id": "xZTtJ56_WbIf"
      },
      "source": [
        "# Some relevant FAQs from [here](https://research.google.com/colaboratory/faq.html).\n",
        "\n",
        "\n"
      ]
    },
    {
      "cell_type": "markdown",
      "metadata": {
        "id": "qQYF-apm6Zl_"
      },
      "source": [
        "> **IMPORTANT: Remember to terminate session and disable GPU if you are not using it** to avoid frequent downtime"
      ]
    },
    {
      "cell_type": "markdown",
      "source": [
        "**Seems too good to be true. What are the limitations?**\n",
        ">Colab resources are not guaranteed and not unlimited, and the usage limits sometimes fluctuate. This is necessary for Colab to be able to provide resources for free. For more details, see Resource Limits.\n",
        "**[More on Resource Limits](https://research.google.com/colaboratory/faq.html#resource-limits)**\n",
        "\n",
        "**What is the difference between Jupyter and Colaboratory?**\n",
        ">Jupyter is the open source project on which Colaboratory is based. Colaboratory allows you to use and share Jupyter notebooks with others without having to download, install, or run anything on your own computer other than a browser.\n",
        "\n",
        "**Where are my notebooks stored, and can I share them?**\n",
        ">All Colaboratory notebooks are stored in Google Drive. Colaboratory notebooks can be shared just as you would with Google Docs or Sheets. Simply click the Share button at the top right of any Colaboratory notebook.\n",
        "\n",
        "**Where is my code executed? What happens to my execution state if I close the browser window?**\n",
        ">Code is executed in a virtual machine dedicated to your account. Virtual machines are recycled when idle  (*not being used*) for a while, and have a maximum lifetime enforced by the system.\n",
        "\n",
        "**How can I get my data out?**\n",
        ">You can download any Colaboratory notebook that you’ve created from Google Drive following [these instructions](https://support.google.com/drive/answer/2423534), or from within Colaboratory’s File menu. All Colaboratory notebooks are stored in the open source Jupyter notebook format ( .ipynb)."
      ],
      "metadata": {
        "id": "Cc2dbx5mDAnS"
      }
    },
    {
      "cell_type": "markdown",
      "metadata": {
        "id": "zNLw6i1-iZo4"
      },
      "source": [
        "# Optional\n"
      ]
    },
    {
      "cell_type": "markdown",
      "source": [
        "Try to download this notebook and run it on your local machine!\n",
        "Suggestion: download and install Anaconda from https://www.anaconda.com/download.\n",
        "\n",
        "It is a package manager, an environment manager, a Python distribution, and a collection of over 1,000+ open source packages. Among the available packages:\n",
        "1. **jupyter**;\n",
        "2. **numpy**:  fundamental package for scientific computing with Python;\n",
        "3. **matplotlib**: a Python plotting library;\n",
        "4. **scikit-learn**: a Machine Learning library in Python;\n",
        "5. **NLTK** (Natural Language Toolkit): platform for building Python programs to work with human language data.\n",
        "\n",
        "See the [cheat sheet](https://docs.conda.io/projects/conda/en/4.6.0/_downloads/52a95608c49671267e40c689e0bc00ca/conda-cheatsheet.pdf) for further details and major commands.\n"
      ],
      "metadata": {
        "id": "ZnnPH3XSC8Uk"
      }
    },
    {
      "cell_type": "markdown",
      "metadata": {
        "id": "k34kHFS_E2e8"
      },
      "source": [
        "## Python 2 vs Python 3\n",
        "from [python wiki](https://wiki.python.org/moin/Python2orPython3):\n",
        "\n",
        "*Python 2.x is legacy, Python 3.x is the present and future of the language*\n",
        "\n",
        ">*Python 3.0 was released in 2008. The final 2.x version 2.7 release came out in mid-2010, with a statement of extended support for this end-of-life release. The 2.x branch will see no new major releases after that.*\n",
        "\n",
        ">*As of January 2020, Python 2 has reached End Of Life (EOL) status, meaning it will receive no further updates or bugfixes, including for security issues. Many frameworks and other add on projects are following a similar policy.*\n",
        "\n",
        "\n",
        ">*As such, we can only recommend learning and teaching Python 3.*\n",
        "\n",
        "\n",
        "There are several differences between Python 2.7.x and Python 3.x; the most relevant ones are reported [here](https://sebastianraschka.com/Articles/2014_python_2_3_key_diff.html).\n",
        "\n",
        "**In this course we will use Python 3**"
      ]
    },
    {
      "cell_type": "markdown",
      "metadata": {
        "id": "5xVjaSsOUbZs"
      },
      "source": [
        "# References\n",
        "\n",
        "- Abadi, Martín, et al. \"Tensorflow: a system for large-scale machine learning.\" OSDI. Vol. 16. 2016. "
      ]
    }
  ]
}