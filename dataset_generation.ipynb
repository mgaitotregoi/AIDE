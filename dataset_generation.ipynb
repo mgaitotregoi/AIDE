{
  "nbformat": 4,
  "nbformat_minor": 0,
  "metadata": {
    "colab": {
      "provenance": [],
      "gpuType": "T4",
      "include_colab_link": true
    },
    "kernelspec": {
      "name": "python3",
      "display_name": "Python 3"
    },
    "language_info": {
      "name": "python"
    }
  },
  "cells": [
    {
      "cell_type": "markdown",
      "metadata": {
        "id": "view-in-github",
        "colab_type": "text"
      },
      "source": [
        "<a href=\"https://colab.research.google.com/github/mgiorgi13/AIDE/blob/main/dataset_generation.ipynb\" target=\"_parent\"><img src=\"https://colab.research.google.com/assets/colab-badge.svg\" alt=\"Open In Colab\"/></a>"
      ]
    },
    {
      "cell_type": "markdown",
      "source": [
        "# Import Libraries"
      ],
      "metadata": {
        "id": "Hym8rYntPPM5"
      }
    },
    {
      "cell_type": "code",
      "source": [
        "from google.colab import drive\n",
        "from google.colab.patches import cv2_imshow\n",
        "import os\n",
        "import gdown\n",
        "import zipfile\n",
        "import cv2\n",
        "import numpy as np"
      ],
      "metadata": {
        "id": "DW2OEAxLB1ni"
      },
      "execution_count": 1,
      "outputs": []
    },
    {
      "cell_type": "code",
      "source": [
        "# mount drive\n",
        "from google.colab import drive\n",
        "drive.mount('/content/drive', force_remount=True)"
      ],
      "metadata": {
        "id": "qMC8BzYnB-Mq",
        "outputId": "0c1bff55-4ec6-4545-9b33-8082553d39d8",
        "colab": {
          "base_uri": "https://localhost:8080/"
        }
      },
      "execution_count": 2,
      "outputs": [
        {
          "output_type": "stream",
          "name": "stdout",
          "text": [
            "Mounted at /content/drive\n"
          ]
        }
      ]
    },
    {
      "cell_type": "code",
      "source": [
        "folder_path = \"drive/MyDrive/Haze-Fog-suppression\"\n",
        "os.chdir(folder_path)"
      ],
      "metadata": {
        "id": "0vFtFOdwCHWs"
      },
      "execution_count": 3,
      "outputs": []
    },
    {
      "cell_type": "markdown",
      "source": [
        "# Uncompress Zip files\n"
      ],
      "metadata": {
        "id": "sggYHnmDPVML"
      }
    },
    {
      "cell_type": "code",
      "source": [
        "os.chdir(\"dataset\")\n",
        "current_directory = os.getcwd()\n",
        "\n",
        "#estrae tutti i file zip e cancella il file compresso\n",
        "for file_name in os.listdir(current_directory):\n",
        "    if file_name.endswith(\".zip\"):\n",
        "        path_to_zip_file = os.path.join(current_directory, file_name)\n",
        "        with zipfile.ZipFile(path_to_zip_file, 'r') as zip_ref:\n",
        "            zip_ref.extractall(current_directory)\n",
        "        os.remove(path_to_zip_file)"
      ],
      "metadata": {
        "id": "zHzWVlmXPTKE"
      },
      "execution_count": null,
      "outputs": []
    },
    {
      "cell_type": "markdown",
      "source": [
        "# Generate datasets"
      ],
      "metadata": {
        "id": "CtCqH0djRbcA"
      }
    },
    {
      "cell_type": "code",
      "source": [
        "#`d` sia l'immagine di profondità e `thresholds` sia una lista di tre soglie\n",
        "def compute_transmission_map_Koschmieder(d):\n",
        "    H = d.shape[0]\n",
        "    W = d.shape[1]\n",
        "    vector = d.reshape(H * W * 3)\n",
        "    for pixel_value in vector:\n",
        "      if pixel_value < 50:\n",
        "        pixel_value = 0\n",
        "      elif pixel_value > 50 and pixel_value < 87:\n",
        "        pixel_value = 50\n",
        "      elif pixel_value > 87 and pixel_value < 167:\n",
        "        pixel_value = 87\n",
        "      elif pixel_value > 167 and pixel_value < 209:\n",
        "        pixel_value = 167\n",
        "      else:\n",
        "        pixel_value = 255\n",
        "    normalized = vector.reshape(H, W, 3).astype(np.uint8)\n",
        "    t = np.exp(-0.01 * normalized)\n",
        "    return t\n",
        "\n",
        "def compute_transmission_map_Bruneton(d):\n",
        "  beta = 0.008\n",
        "  cos_theta = -0.8\n",
        "  epsilon = 2\n",
        "  t = np.exp(-beta * d / pow(cos_theta, epsilon))\n",
        "  return t\n"
      ],
      "metadata": {
        "id": "OTuZSsdDqQKU"
      },
      "execution_count": null,
      "outputs": []
    },
    {
      "cell_type": "code",
      "source": [
        "def compute_cevr(original_image,degraded_image):\n",
        "    max_J = np.max(original_image)\n",
        "    min_J = np.min(original_image)\n",
        "    max_I = np.max(degraded_image)\n",
        "    min_I = np.min(degraded_image)\n",
        "\n",
        "    cevr = (max_J - min_J) / (max_I - min_I)\n",
        "    return cevr"
      ],
      "metadata": {
        "id": "DKg6Cd4AXe1w"
      },
      "execution_count": null,
      "outputs": []
    },
    {
      "cell_type": "code",
      "source": [
        "# Specifica i parametri\n",
        "# Valore di luce atmosferica (generalmente tra 0 e 255)\n",
        "low_A = 120\n",
        "medium_A = 180\n",
        "high_A = 220\n",
        "\n",
        "low_beta = 0.004\n",
        "medium_beta = 0.006\n",
        "high_beta = 0.008\n",
        "very_high_beta = 0.01\n",
        "\n",
        "path_to_original_images = \"/content/drive/MyDrive/Haze-Fog-suppression/dataset/Vis/\"\n",
        "path_to_depth_maps = \"/content/drive/MyDrive/Haze-Fog-suppression/dataset/DepthMaps/\"\n",
        "path_to_input = \"/content/drive/MyDrive/Haze-Fog-suppression/dataset/train_A/\"\n",
        "path_to_output = \"/content/drive/MyDrive/Haze-Fog-suppression/dataset/train_B/\""
      ],
      "metadata": {
        "id": "1vzu6kb4Ts4b"
      },
      "execution_count": 4,
      "outputs": []
    },
    {
      "cell_type": "code",
      "source": [
        "def generate_fog_image(path_to_original_image,path_to_depth_map,A,beta,img_name,level):\n",
        "    # Carica l'immagine originale e la depth map\n",
        "    J = cv2.imread(path_to_original_image)\n",
        "    d = cv2.imread(path_to_depth_map)\n",
        "\n",
        "    t = np.exp(-beta * d)\n",
        "    I = J * t + A * (1 - t)\n",
        "\n",
        "    cv2.imwrite(path_to_input + img_name[:-4] + \"_\" + str(level) + '.png', np.uint8(I))\n",
        "    cv2.imwrite(path_to_output + img_name[:-4] + \"_\" + str(level) + '.png', np.uint8(J))"
      ],
      "metadata": {
        "id": "-eJkqFeMcwVO"
      },
      "execution_count": null,
      "outputs": []
    },
    {
      "cell_type": "code",
      "source": [
        "# Scorri tutti i file nella cartella\n",
        "file_ordinati = sorted(os.listdir(path_to_original_images))\n",
        "\n",
        "for nome_file in file_ordinati[:2100]:\n",
        "    path_to_original_image = os.path.join(path_to_original_images, nome_file)\n",
        "    path_to_depth_map = os.path.join(path_to_depth_maps, nome_file)\n",
        "    generate_fog_image(path_to_original_image,path_to_depth_map,low_A,low_beta,nome_file,\"low\")\n",
        "    generate_fog_image(path_to_original_image,path_to_depth_map,medium_A,medium_beta,nome_file,\"medium\")\n",
        "    generate_fog_image(path_to_original_image,path_to_depth_map,high_A,high_beta,nome_file,\"high\")"
      ],
      "metadata": {
        "id": "7DL4zqOJTs_J"
      },
      "execution_count": null,
      "outputs": []
    },
    {
      "cell_type": "code",
      "source": [
        "# Scorri tutti i file nella cartella\n",
        "file_ordinati = sorted(os.listdir(path_to_original_images))\n",
        "\n",
        "for nome_file in file_ordinati[2100:]:\n",
        "    path_to_original_image = os.path.join(path_to_original_images, nome_file)\n",
        "    path_to_depth_map = os.path.join(path_to_depth_maps, nome_file)\n",
        "    generate_fog_image(path_to_original_image,path_to_depth_map,low_A,low_beta,nome_file,\"low\")\n",
        "    generate_fog_image(path_to_original_image,path_to_depth_map,medium_A,medium_beta,nome_file,\"medium\")\n",
        "    generate_fog_image(path_to_original_image,path_to_depth_map,high_A,high_beta,nome_file,\"high\")"
      ],
      "metadata": {
        "id": "A12ITZgKkL90"
      },
      "execution_count": null,
      "outputs": []
    },
    {
      "cell_type": "markdown",
      "source": [
        "# Copy file into Pix2PixHD model"
      ],
      "metadata": {
        "id": "x39NR3s8Rn_B"
      }
    },
    {
      "cell_type": "markdown",
      "source": [
        "### seleziona randomicamente 4200 immagini con livello di nebbia differente"
      ],
      "metadata": {
        "id": "mwataDf0xzlq"
      }
    },
    {
      "cell_type": "code",
      "source": [
        "lista_file = [file for file in os.listdir(path_to_original_images)]\n",
        "classi = [\"low\", \"medium\", \"high\"]\n",
        "train = []\n",
        "test = []\n",
        "\n",
        "for i in range(len(lista_file)):\n",
        "    livello = i % 3\n",
        "    livello_comp1 = (i+1) % 3\n",
        "    livello_comp2 = (i+2) % 3\n",
        "    train.append(str(lista_file[i][:-4])+\"_\"+str(classi[livello])+\".png\")\n",
        "    test.append(str(lista_file[i][:-4])+\"_\"+str(classi[livello_comp1]+\".png\"))\n",
        "    test.append(str(lista_file[i][:-4])+\"_\"+str(classi[livello_comp2]+\".png\"))\n",
        "\n",
        "print(train[:10])\n",
        "print(test[:10])\n",
        "print(len(train))\n",
        "print(len(test))\n"
      ],
      "metadata": {
        "id": "A_d4Y99yvvWf",
        "outputId": "31db6c98-2377-4f4b-9562-721b3813a5d4",
        "colab": {
          "base_uri": "https://localhost:8080/"
        }
      },
      "execution_count": null,
      "outputs": [
        {
          "output_type": "stream",
          "name": "stdout",
          "text": [
            "['03200_low.png', '03201_medium.png', '03202_high.png', '03203_low.png', '03204_medium.png', '03205_high.png', '03206_low.png', '03207_medium.png', '03208_high.png', '03209_low.png']\n",
            "['03200_medium.png', '03200_high.png', '03201_high.png', '03201_low.png', '03202_low.png', '03202_medium.png', '03203_medium.png', '03203_high.png', '03204_high.png', '03204_low.png']\n",
            "4200\n",
            "8400\n"
          ]
        }
      ]
    },
    {
      "cell_type": "code",
      "source": [
        "import shutil\n",
        "\n",
        "# Definisci i percorsi delle cartelle sorgente e destinazione\n",
        "percorso_sorgente = '/content/drive/MyDrive/Haze-Fog-suppression/dataset/train_A/'\n",
        "percorso_destinazione = '/content/drive/MyDrive/Haze-Fog-suppression/pix2pixHD/datasets/nebbia/train_A'\n",
        "\n",
        "# Crea la cartella destinazione se non esiste\n",
        "if not os.path.exists(percorso_destinazione):\n",
        "    os.makedirs(percorso_destinazione)\n",
        "\n",
        "# Copia i file dalla cartella sorgente alla destinazione\n",
        "for file in train:\n",
        "    percorso_file_sorgente = os.path.join(percorso_sorgente, file)\n",
        "    percorso_file_destinazione = os.path.join(percorso_destinazione, file)\n",
        "    shutil.copy2(percorso_file_sorgente, percorso_file_destinazione)\n"
      ],
      "metadata": {
        "id": "6aOYTJEQGQte"
      },
      "execution_count": null,
      "outputs": []
    },
    {
      "cell_type": "code",
      "source": [
        "import shutil\n",
        "\n",
        "# Definisci i percorsi delle cartelle sorgente e destinazione\n",
        "percorso_sorgente = '/content/drive/MyDrive/Haze-Fog-suppression/dataset/train_B/'\n",
        "percorso_destinazione = '/content/drive/MyDrive/Haze-Fog-suppression/pix2pixHD/datasets/nebbia/train_B'\n",
        "\n",
        "# Crea la cartella destinazione se non esiste\n",
        "if not os.path.exists(percorso_destinazione):\n",
        "    os.makedirs(percorso_destinazione)\n",
        "\n",
        "# Copia i file dalla cartella sorgente alla destinazione\n",
        "for file in train:\n",
        "    percorso_file_sorgente = os.path.join(percorso_sorgente, file)\n",
        "    percorso_file_destinazione = os.path.join(percorso_destinazione, file)\n",
        "    shutil.copy2(percorso_file_sorgente, percorso_file_destinazione)\n"
      ],
      "metadata": {
        "id": "APuEiLxWVC1q",
        "outputId": "cef2b8d8-6b76-4ef1-9954-ce1a85c6f93c",
        "colab": {
          "base_uri": "https://localhost:8080/",
          "height": 35
        }
      },
      "execution_count": null,
      "outputs": [
        {
          "output_type": "execute_result",
          "data": {
            "text/plain": [
              "'/content/drive/MyDrive/Haze-Fog-suppression/pix2pixHD/datasets/nebbia/train_B'"
            ],
            "application/vnd.google.colaboratory.intrinsic+json": {
              "type": "string"
            }
          },
          "metadata": {},
          "execution_count": 13
        }
      ]
    },
    {
      "cell_type": "code",
      "source": [
        "import os\n",
        "\n",
        "# Definisci il percorso della cartella di destinazione\n",
        "percorso_destinazione_A = '/content/drive/MyDrive/Haze-Fog-suppression/pix2pixHD/datasets/nebbia/train_A'\n",
        "percorso_destinazione_B = '/content/drive/MyDrive/Haze-Fog-suppression/pix2pixHD/datasets/nebbia/train_B'\n",
        "\n",
        "# Stampa il numero di file\n",
        "print(\"Il numero totale di file nella cartella train_A è:\", len(os.listdir(percorso_destinazione_A)))\n",
        "print(\"Il numero totale di file nella cartella train_B è:\", len(os.listdir(percorso_destinazione_B)))"
      ],
      "metadata": {
        "id": "j9K6Vh76QgKV",
        "outputId": "ef4e1ca2-293e-4dfa-d659-41cf379c3b94",
        "colab": {
          "base_uri": "https://localhost:8080/"
        }
      },
      "execution_count": null,
      "outputs": [
        {
          "output_type": "stream",
          "name": "stdout",
          "text": [
            "Il numero totale di file nella cartella train_A è: 12600\n",
            "Il numero totale di file nella cartella train_B è: 12600\n"
          ]
        }
      ]
    },
    {
      "cell_type": "markdown",
      "source": [
        "## delete dataset"
      ],
      "metadata": {
        "id": "P-vOjzTtS2YK"
      }
    },
    {
      "cell_type": "code",
      "source": [
        "# DANGER\n",
        "# delete train_A or train_B\n",
        "import shutil\n",
        "percorso_cartella_da_eliminare = \"/content/drive/MyDrive/Haze-Fog-suppression/pix2pixHD/datasets/nebbia/train_A\"\n",
        "shutil.rmtree(percorso_cartella_da_eliminare)"
      ],
      "metadata": {
        "id": "-LUmTnsgR_cf"
      },
      "execution_count": null,
      "outputs": []
    },
    {
      "cell_type": "code",
      "source": [
        "shutil.rmtree('/content/drive/MyDrive/Haze-Fog-suppression/pix2pixHD/datasets/nebbia/train_A/.ipynb_checkpoints')\n",
        "shutil.rmtree('/content/drive/MyDrive/Haze-Fog-suppression/pix2pixHD/datasets/nebbia/train_B/.ipynb_checkpoints')"
      ],
      "metadata": {
        "id": "Lsaad3qkpFvN"
      },
      "execution_count": null,
      "outputs": []
    },
    {
      "cell_type": "code",
      "source": [
        "file_ordinati = sorted(os.listdir(percorso_destinazione_A))\n",
        "print(file_ordinati)"
      ],
      "metadata": {
        "id": "dnyT0JBzooi6",
        "outputId": "ed5171ae-4051-41a0-b101-f1e75879da0f",
        "colab": {
          "base_uri": "https://localhost:8080/"
        }
      },
      "execution_count": 18,
      "outputs": [
        {
          "output_type": "stream",
          "name": "stdout",
          "text": [
            "['00000_medium.png', '00001_high.png', '00002_low.png', '00003_medium.png', '00004_high.png', '00005_low.png', '00006_medium.png', '00007_high.png', '00008_low.png', '00009_medium.png', '00010_high.png', '00011_low.png', '00012_medium.png', '00013_high.png', '00014_low.png', '00015_medium.png', '00016_high.png', '00017_low.png', '00018_medium.png', '00019_high.png', '00020_low.png', '00021_medium.png', '00022_high.png', '00023_low.png', '00024_medium.png', '00025_high.png', '00026_low.png', '00027_medium.png', '00028_high.png', '00029_low.png', '00030_medium.png', '00031_high.png', '00032_low.png', '00033_medium.png', '00034_high.png', '00035_low.png', '00036_medium.png', '00037_high.png', '00038_low.png', '00039_medium.png', '00040_high.png', '00041_low.png', '00042_medium.png', '00043_high.png', '00044_low.png', '00045_medium.png', '00046_high.png', '00047_low.png', '00048_medium.png', '00049_high.png', '00050_low.png', '00051_medium.png', '00052_high.png', '00053_low.png', '00054_medium.png', '00055_high.png', '00056_low.png', '00057_medium.png', '00058_high.png', '00059_low.png', '00060_medium.png', '00061_high.png', '00062_low.png', '00063_medium.png', '00064_high.png', '00065_low.png', '00066_medium.png', '00067_high.png', '00068_low.png', '00069_medium.png', '00070_high.png', '00071_low.png', '00072_medium.png', '00073_high.png', '00074_low.png', '00075_medium.png', '00076_high.png', '00077_low.png', '00078_medium.png', '00079_high.png', '00080_low.png', '00081_medium.png', '00082_high.png', '00083_low.png', '00084_medium.png', '00085_high.png', '00086_low.png', '00087_medium.png', '00088_high.png', '00089_low.png', '00090_medium.png', '00091_high.png', '00092_low.png', '00093_medium.png', '00094_high.png', '00095_low.png', '00096_medium.png', '00097_high.png', '00098_low.png', '00099_medium.png', '00100_high.png', '00101_low.png', '00102_medium.png', '00103_high.png', '00104_low.png', '00105_medium.png', '00106_high.png', '00107_low.png', '00108_medium.png', '00109_high.png', '00110_low.png', '00111_medium.png', '00112_high.png', '00113_low.png', '00114_medium.png', '00115_high.png', '00116_low.png', '00117_medium.png', '00118_high.png', '00119_low.png', '00120_medium.png', '00121_high.png', '00122_low.png', '00123_medium.png', '00124_high.png', '00125_low.png', '00126_medium.png', '00127_high.png', '00128_low.png', '00129_medium.png', '00130_high.png', '00131_low.png', '00132_medium.png', '00133_high.png', '00134_low.png', '00135_medium.png', '00136_high.png', '00137_low.png', '00138_medium.png', '00139_high.png', '00140_low.png', '00141_medium.png', '00142_high.png', '00143_low.png', '00144_medium.png', '00145_high.png', '00146_low.png', '00147_medium.png', '00148_high.png', '00149_low.png', '00150_medium.png', '00151_high.png', '00152_low.png', '00153_medium.png', '00154_high.png', '00155_low.png', '00156_medium.png', '00157_high.png', '00158_low.png', '00159_medium.png', '00160_high.png', '00161_low.png', '00162_medium.png', '00163_high.png', '00164_low.png', '00165_medium.png', '00166_high.png', '00167_low.png', '00168_medium.png', '00169_high.png', '00170_low.png', '00171_medium.png', '00172_high.png', '00173_low.png', '00174_medium.png', '00175_high.png', '00176_low.png', '00177_medium.png', '00178_high.png', '00179_low.png', '00180_medium.png', '00181_high.png', '00182_low.png', '00183_medium.png', '00184_high.png', '00185_low.png', '00186_medium.png', '00187_high.png', '00188_low.png', '00189_medium.png', '00190_high.png', '00191_low.png', '00192_medium.png', '00193_high.png', '00194_low.png', '00195_medium.png', '00196_high.png', '00197_low.png', '00198_medium.png', '00199_high.png', '00200_low.png', '00201_medium.png', '00202_high.png', '00203_low.png', '00204_medium.png', '00205_high.png', '00206_low.png', '00207_medium.png', '00208_high.png', '00209_low.png', '00210_medium.png', '00211_high.png', '00212_low.png', '00213_medium.png', '00214_high.png', '00215_low.png', '00216_medium.png', '00217_high.png', '00218_low.png', '00219_medium.png', '00220_high.png', '00221_low.png', '00222_medium.png', '00223_high.png', '00224_low.png', '00225_medium.png', '00226_high.png', '00227_low.png', '00228_medium.png', '00229_high.png', '00230_low.png', '00231_medium.png', '00232_high.png', '00233_low.png', '00234_medium.png', '00235_high.png', '00236_low.png', '00237_medium.png', '00238_high.png', '00239_low.png', '00240_medium.png', '00241_high.png', '00242_low.png', '00243_medium.png', '00244_high.png', '00245_low.png', '00246_medium.png', '00247_high.png', '00248_low.png', '00249_medium.png', '00250_high.png', '00251_low.png', '00252_medium.png', '00253_high.png', '00254_low.png', '00255_medium.png', '00256_high.png', '00257_low.png', '00258_medium.png', '00259_high.png', '00260_low.png', '00261_medium.png', '00262_high.png', '00263_low.png', '00264_medium.png', '00265_high.png', '00266_low.png', '00267_medium.png', '00268_high.png', '00269_low.png', '00270_medium.png', '00271_high.png', '00272_low.png', '00273_medium.png', '00274_high.png', '00275_low.png', '00276_medium.png', '00277_high.png', '00278_low.png', '00279_medium.png', '00280_high.png', '00281_low.png', '00282_medium.png', '00283_high.png', '00284_low.png', '00285_medium.png', '00286_high.png', '00287_low.png', '00288_medium.png', '00289_high.png', '00290_low.png', '00291_medium.png', '00292_high.png', '00293_low.png', '00294_medium.png', '00295_high.png', '00296_low.png', '00297_medium.png', '00298_high.png', '00299_low.png', '00300_medium.png', '00301_high.png', '00302_low.png', '00303_medium.png', '00304_high.png', '00305_low.png', '00306_medium.png', '00307_high.png', '00308_low.png', '00309_medium.png', '00310_high.png', '00311_low.png', '00312_medium.png', '00313_high.png', '00314_low.png', '00315_medium.png', '00316_high.png', '00317_low.png', '00318_medium.png', '00319_high.png', '00320_low.png', '00321_medium.png', '00322_high.png', '00323_low.png', '00324_medium.png', '00325_high.png', '00326_low.png', '00327_medium.png', '00328_high.png', '00329_low.png', '00330_medium.png', '00331_high.png', '00332_low.png', '00333_medium.png', '00334_high.png', '00335_low.png', '00336_medium.png', '00337_high.png', '00338_low.png', '00339_medium.png', '00340_high.png', '00341_low.png', '00342_medium.png', '00343_high.png', '00344_low.png', '00345_medium.png', '00346_high.png', '00347_low.png', '00348_medium.png', '00349_high.png', '00350_low.png', '00351_medium.png', '00352_high.png', '00353_low.png', '00354_medium.png', '00355_high.png', '00356_low.png', '00357_medium.png', '00358_high.png', '00359_low.png', '00360_medium.png', '00361_high.png', '00362_low.png', '00363_medium.png', '00364_high.png', '00365_low.png', '00366_medium.png', '00367_high.png', '00368_low.png', '00369_medium.png', '00370_high.png', '00371_low.png', '00372_medium.png', '00373_high.png', '00374_low.png', '00375_medium.png', '00376_high.png', '00377_low.png', '00378_medium.png', '00379_high.png', '00380_low.png', '00381_medium.png', '00382_high.png', '00383_low.png', '00384_medium.png', '00385_high.png', '00386_low.png', '00387_medium.png', '00388_high.png', '00389_low.png', '00390_medium.png', '00391_high.png', '00392_low.png', '00393_medium.png', '00394_high.png', '00395_low.png', '00396_medium.png', '00397_high.png', '00398_low.png', '00399_medium.png', '00400_high.png', '00401_low.png', '00402_medium.png', '00403_high.png', '00404_low.png', '00405_medium.png', '00406_high.png', '00407_low.png', '00408_medium.png', '00409_high.png', '00410_low.png', '00411_medium.png', '00412_high.png', '00413_low.png', '00414_medium.png', '00415_high.png', '00416_low.png', '00417_medium.png', '00418_high.png', '00419_low.png', '00420_medium.png', '00421_high.png', '00422_low.png', '00423_medium.png', '00424_high.png', '00425_low.png', '00426_medium.png', '00427_high.png', '00428_low.png', '00429_medium.png', '00430_high.png', '00431_low.png', '00432_medium.png', '00433_high.png', '00434_low.png', '00435_medium.png', '00436_high.png', '00437_low.png', '00438_medium.png', '00439_high.png', '00440_low.png', '00441_medium.png', '00442_high.png', '00443_low.png', '00444_medium.png', '00445_high.png', '00446_low.png', '00447_medium.png', '00448_high.png', '00449_low.png', '00450_medium.png', '00451_high.png', '00452_low.png', '00453_medium.png', '00454_high.png', '00455_low.png', '00456_medium.png', '00457_high.png', '00458_low.png', '00459_medium.png', '00460_high.png', '00461_low.png', '00462_medium.png', '00463_high.png', '00464_low.png', '00465_medium.png', '00466_high.png', '00467_low.png', '00468_medium.png', '00469_high.png', '00470_low.png', '00471_medium.png', '00472_high.png', '00473_low.png', '00474_medium.png', '00475_high.png', '00476_low.png', '00477_medium.png', '00478_high.png', '00479_low.png', '00480_medium.png', '00481_high.png', '00482_low.png', '00483_medium.png', '00484_high.png', '00485_low.png', '00486_medium.png', '00487_high.png', '00488_low.png', '00489_medium.png', '00490_high.png', '00491_low.png', '00492_medium.png', '00493_high.png', '00494_low.png', '00495_medium.png', '00496_high.png', '00497_low.png', '00498_medium.png', '00499_high.png', '00500_low.png', '00501_medium.png', '00502_high.png', '00503_low.png', '00504_medium.png', '00505_high.png', '00506_low.png', '00507_medium.png', '00508_high.png', '00509_low.png', '00510_medium.png', '00511_high.png', '00512_low.png', '00513_medium.png', '00514_high.png', '00515_low.png', '00516_medium.png', '00517_high.png', '00518_low.png', '00519_medium.png', '00520_high.png', '00521_low.png', '00522_medium.png', '00523_high.png', '00524_low.png', '00525_medium.png', '00526_high.png', '00527_low.png', '00528_medium.png', '00529_high.png', '00530_low.png', '00531_medium.png', '00532_high.png', '00533_low.png', '00534_medium.png', '00535_high.png', '00536_low.png', '00537_medium.png', '00538_high.png', '00539_low.png', '00540_medium.png', '00541_high.png', '00542_low.png', '00543_medium.png', '00544_high.png', '00545_low.png', '00546_medium.png', '00547_high.png', '00548_low.png', '00549_medium.png', '00550_high.png', '00551_low.png', '00552_medium.png', '00553_high.png', '00554_low.png', '00555_medium.png', '00556_high.png', '00557_low.png', '00558_medium.png', '00559_high.png', '00560_low.png', '00561_medium.png', '00562_high.png', '00563_low.png', '00564_medium.png', '00565_high.png', '00566_low.png', '00567_medium.png', '00568_high.png', '00569_low.png', '00570_medium.png', '00571_high.png', '00572_low.png', '00573_medium.png', '00574_high.png', '00575_low.png', '00576_medium.png', '00577_high.png', '00578_low.png', '00579_medium.png', '00580_high.png', '00581_low.png', '00582_medium.png', '00583_high.png', '00584_low.png', '00585_medium.png', '00586_high.png', '00587_low.png', '00588_medium.png', '00589_high.png', '00590_low.png', '00591_medium.png', '00592_high.png', '00593_low.png', '00594_medium.png', '00595_high.png', '00596_low.png', '00597_medium.png', '00598_high.png', '00599_low.png', '00600_medium.png', '00601_high.png', '00602_low.png', '00603_medium.png', '00604_high.png', '00605_low.png', '00606_medium.png', '00607_high.png', '00608_low.png', '00609_medium.png', '00610_high.png', '00611_low.png', '00612_medium.png', '00613_high.png', '00614_low.png', '00615_medium.png', '00616_high.png', '00617_low.png', '00618_medium.png', '00619_high.png', '00620_low.png', '00621_medium.png', '00622_high.png', '00623_low.png', '00624_medium.png', '00625_high.png', '00626_low.png', '00627_medium.png', '00628_high.png', '00629_low.png', '00630_medium.png', '00631_high.png', '00632_low.png', '00633_medium.png', '00634_high.png', '00635_low.png', '00636_medium.png', '00637_high.png', '00638_low.png', '00639_medium.png', '00640_high.png', '00641_low.png', '00642_medium.png', '00643_high.png', '00644_low.png', '00645_medium.png', '00646_high.png', '00647_low.png', '00648_medium.png', '00649_high.png', '00650_low.png', '00651_medium.png', '00652_high.png', '00653_low.png', '00654_medium.png', '00655_high.png', '00656_low.png', '00657_medium.png', '00658_high.png', '00659_low.png', '00660_medium.png', '00661_high.png', '00662_low.png', '00663_medium.png', '00664_high.png', '00665_low.png', '00666_medium.png', '00667_high.png', '00668_low.png', '00669_medium.png', '00670_high.png', '00671_low.png', '00672_medium.png', '00673_high.png', '00674_low.png', '00675_medium.png', '00676_high.png', '00677_low.png', '00678_medium.png', '00679_high.png', '00680_low.png', '00681_medium.png', '00682_high.png', '00683_low.png', '00684_medium.png', '00685_high.png', '00686_low.png', '00687_medium.png', '00688_high.png', '00689_low.png', '00690_medium.png', '00691_high.png', '00692_low.png', '00693_medium.png', '00694_high.png', '00695_low.png', '00696_medium.png', '00697_high.png', '00698_low.png', '00699_medium.png', '00700_high.png', '00701_low.png', '00702_medium.png', '00703_high.png', '00704_low.png', '00705_medium.png', '00706_high.png', '00707_low.png', '00708_medium.png', '00709_high.png', '00710_low.png', '00711_medium.png', '00712_high.png', '00713_low.png', '00714_medium.png', '00715_high.png', '00716_low.png', '00717_medium.png', '00718_high.png', '00719_low.png', '00720_medium.png', '00721_high.png', '00722_low.png', '00723_medium.png', '00724_high.png', '00725_low.png', '00726_medium.png', '00727_high.png', '00728_low.png', '00729_medium.png', '00730_high.png', '00731_low.png', '00732_medium.png', '00733_high.png', '00734_low.png', '00735_medium.png', '00736_high.png', '00737_low.png', '00738_medium.png', '00739_high.png', '00740_low.png', '00741_medium.png', '00742_high.png', '00743_low.png', '00744_medium.png', '00745_high.png', '00746_low.png', '00747_medium.png', '00748_high.png', '00749_low.png', '00750_medium.png', '00751_high.png', '00752_low.png', '00753_medium.png', '00754_high.png', '00755_low.png', '00756_medium.png', '00757_high.png', '00758_low.png', '00759_medium.png', '00760_high.png', '00761_low.png', '00762_medium.png', '00763_high.png', '00764_low.png', '00765_medium.png', '00766_high.png', '00767_low.png', '00768_medium.png', '00769_high.png', '00770_low.png', '00771_medium.png', '00772_high.png', '00773_low.png', '00774_medium.png', '00775_high.png', '00776_low.png', '00777_medium.png', '00778_high.png', '00779_low.png', '00780_medium.png', '00781_high.png', '00782_low.png', '00783_medium.png', '00784_high.png', '00785_low.png', '00786_medium.png', '00787_high.png', '00788_low.png', '00789_medium.png', '00790_high.png', '00791_low.png', '00792_medium.png', '00793_high.png', '00794_low.png', '00795_medium.png', '00796_high.png', '00797_low.png', '00798_medium.png', '00799_high.png', '00800_low.png', '00801_medium.png', '00802_high.png', '00803_low.png', '00804_medium.png', '00805_high.png', '00806_low.png', '00807_medium.png', '00808_high.png', '00809_low.png', '00810_medium.png', '00811_high.png', '00812_low.png', '00813_medium.png', '00814_high.png', '00815_low.png', '00816_medium.png', '00817_high.png', '00818_low.png', '00819_medium.png', '00820_high.png', '00821_low.png', '00822_medium.png', '00823_high.png', '00824_low.png', '00825_medium.png', '00826_high.png', '00827_low.png', '00828_medium.png', '00829_high.png', '00830_low.png', '00831_medium.png', '00832_high.png', '00833_low.png', '00834_medium.png', '00835_high.png', '00836_low.png', '00837_medium.png', '00838_high.png', '00839_low.png', '00840_medium.png', '00841_high.png', '00842_low.png', '00843_medium.png', '00844_high.png', '00845_low.png', '00846_medium.png', '00847_high.png', '00848_low.png', '00849_medium.png', '00850_high.png', '00851_low.png', '00852_medium.png', '00853_high.png', '00854_low.png', '00855_medium.png', '00856_high.png', '00857_low.png', '00858_medium.png', '00859_high.png', '00860_low.png', '00861_medium.png', '00862_high.png', '00863_low.png', '00864_medium.png', '00865_high.png', '00866_low.png', '00867_medium.png', '00868_high.png', '00869_low.png', '00870_medium.png', '00871_high.png', '00872_low.png', '00873_medium.png', '00874_high.png', '00875_low.png', '00876_medium.png', '00877_high.png', '00878_low.png', '00879_medium.png', '00880_high.png', '00881_low.png', '00882_medium.png', '00883_high.png', '00884_low.png', '00885_medium.png', '00886_high.png', '00887_low.png', '00888_medium.png', '00889_high.png', '00890_low.png', '00891_medium.png', '00892_high.png', '00893_low.png', '00894_medium.png', '00895_high.png', '00896_low.png', '00897_medium.png', '00898_high.png', '00899_low.png', '00900_medium.png', '00901_high.png', '00902_low.png', '00903_medium.png', '00904_high.png', '00905_low.png', '00906_medium.png', '00907_high.png', '00908_low.png', '00909_medium.png', '00910_high.png', '00911_low.png', '00912_medium.png', '00913_high.png', '00914_low.png', '00915_medium.png', '00916_high.png', '00917_low.png', '00918_medium.png', '00919_high.png', '00920_low.png', '00921_medium.png', '00922_high.png', '00923_low.png', '00924_medium.png', '00925_high.png', '00926_low.png', '00927_medium.png', '00928_high.png', '00929_low.png', '00930_medium.png', '00931_high.png', '00932_low.png', '00933_medium.png', '00934_high.png', '00935_low.png', '00936_medium.png', '00937_high.png', '00938_low.png', '00939_medium.png', '00940_high.png', '00941_low.png', '00942_medium.png', '00943_high.png', '00944_low.png', '00945_medium.png', '00946_high.png', '00947_low.png', '00948_medium.png', '00949_high.png', '00950_low.png', '00951_medium.png', '00952_high.png', '00953_low.png', '00954_medium.png', '00955_high.png', '00956_low.png', '00957_medium.png', '00958_high.png', '00959_low.png', '00960_medium.png', '00961_high.png', '00962_low.png', '00963_medium.png', '00964_high.png', '00965_low.png', '00966_medium.png', '00967_high.png', '00968_low.png', '00969_medium.png', '00970_high.png', '00971_low.png', '00972_medium.png', '00973_high.png', '00974_low.png', '00975_medium.png', '00976_high.png', '00977_low.png', '00978_medium.png', '00979_high.png', '00980_low.png', '00981_medium.png', '00982_high.png', '00983_low.png', '00984_medium.png', '00985_high.png', '00986_low.png', '00987_medium.png', '00988_high.png', '00989_low.png', '00990_medium.png', '00991_high.png', '00992_low.png', '00993_medium.png', '00994_high.png', '00995_low.png', '00996_medium.png', '00997_high.png', '00998_low.png', '00999_medium.png', '01000_high.png', '01001_low.png', '01002_medium.png', '01003_high.png', '01004_low.png', '01005_medium.png', '01006_high.png', '01007_low.png', '01008_medium.png', '01009_high.png', '01010_low.png', '01011_medium.png', '01012_high.png', '01013_low.png', '01014_medium.png', '01015_high.png', '01016_low.png', '01017_medium.png', '01018_high.png', '01019_low.png', '01020_medium.png', '01021_high.png', '01022_low.png', '01023_medium.png', '01024_high.png', '01025_low.png', '01026_medium.png', '01027_high.png', '01028_low.png', '01029_medium.png', '01030_high.png', '01031_low.png', '01032_medium.png', '01033_high.png', '01034_low.png', '01035_medium.png', '01036_high.png', '01037_low.png', '01038_medium.png', '01039_high.png', '01040_low.png', '01041_medium.png', '01042_high.png', '01043_low.png', '01044_medium.png', '01045_high.png', '01046_low.png', '01047_medium.png', '01048_high.png', '01049_low.png', '01050_medium.png', '01051_high.png', '01052_low.png', '01053_medium.png', '01054_high.png', '01055_low.png', '01056_medium.png', '01057_high.png', '01058_low.png', '01059_medium.png', '01060_high.png', '01061_low.png', '01062_medium.png', '01063_high.png', '01064_low.png', '01065_medium.png', '01066_high.png', '01067_low.png', '01068_medium.png', '01069_high.png', '01070_low.png', '01071_medium.png', '01072_high.png', '01073_low.png', '01074_medium.png', '01075_high.png', '01076_low.png', '01077_medium.png', '01078_high.png', '01079_low.png', '01080_medium.png', '01081_high.png', '01082_low.png', '01083_medium.png', '01084_high.png', '01085_low.png', '01086_medium.png', '01087_high.png', '01088_low.png', '01089_medium.png', '01090_high.png', '01091_low.png', '01092_medium.png', '01093_high.png', '01094_low.png', '01095_medium.png', '01096_high.png', '01097_low.png', '01098_medium.png', '01099_high.png', '01100_low.png', '01101_medium.png', '01102_high.png', '01103_low.png', '01104_medium.png', '01105_high.png', '01106_low.png', '01107_medium.png', '01108_high.png', '01109_low.png', '01110_medium.png', '01111_high.png', '01112_low.png', '01113_medium.png', '01114_high.png', '01115_low.png', '01116_medium.png', '01117_high.png', '01118_low.png', '01119_medium.png', '01120_high.png', '01121_low.png', '01122_medium.png', '01123_high.png', '01124_low.png', '01125_medium.png', '01126_high.png', '01127_low.png', '01128_medium.png', '01129_high.png', '01130_low.png', '01131_medium.png', '01132_high.png', '01133_low.png', '01134_medium.png', '01135_high.png', '01136_low.png', '01137_medium.png', '01138_high.png', '01139_low.png', '01140_medium.png', '01141_high.png', '01142_low.png', '01143_medium.png', '01144_high.png', '01145_low.png', '01146_medium.png', '01147_high.png', '01148_low.png', '01149_medium.png', '01150_high.png', '01151_low.png', '01152_medium.png', '01153_high.png', '01154_low.png', '01155_medium.png', '01156_high.png', '01157_low.png', '01158_medium.png', '01159_high.png', '01160_low.png', '01161_medium.png', '01162_high.png', '01163_low.png', '01164_medium.png', '01165_high.png', '01166_low.png', '01167_medium.png', '01168_high.png', '01169_low.png', '01170_medium.png', '01171_high.png', '01172_low.png', '01173_medium.png', '01174_high.png', '01175_low.png', '01176_medium.png', '01177_high.png', '01178_low.png', '01179_medium.png', '01180_high.png', '01181_low.png', '01182_medium.png', '01183_high.png', '01184_low.png', '01185_medium.png', '01186_high.png', '01187_low.png', '01188_medium.png', '01189_high.png', '01190_low.png', '01191_medium.png', '01192_high.png', '01193_low.png', '01194_medium.png', '01195_high.png', '01196_low.png', '01197_medium.png', '01198_high.png', '01199_low.png', '01200_high.png', '01201_low.png', '01202_medium.png', '01203_high.png', '01204_low.png', '01205_medium.png', '01206_high.png', '01207_low.png', '01208_medium.png', '01209_high.png', '01210_low.png', '01211_medium.png', '01212_high.png', '01213_low.png', '01214_medium.png', '01215_high.png', '01216_low.png', '01217_medium.png', '01218_high.png', '01219_low.png', '01220_medium.png', '01221_high.png', '01222_low.png', '01223_medium.png', '01224_high.png', '01225_low.png', '01226_medium.png', '01227_high.png', '01228_low.png', '01229_medium.png', '01230_high.png', '01231_low.png', '01232_medium.png', '01233_high.png', '01234_low.png', '01235_medium.png', '01236_high.png', '01237_low.png', '01238_medium.png', '01239_high.png', '01240_low.png', '01241_medium.png', '01242_high.png', '01243_low.png', '01244_medium.png', '01245_high.png', '01246_low.png', '01247_medium.png', '01248_high.png', '01249_low.png', '01250_medium.png', '01251_high.png', '01252_low.png', '01253_medium.png', '01254_high.png', '01255_low.png', '01256_medium.png', '01257_high.png', '01258_low.png', '01259_medium.png', '01260_high.png', '01261_low.png', '01262_medium.png', '01263_high.png', '01264_low.png', '01265_medium.png', '01266_high.png', '01267_low.png', '01268_medium.png', '01269_high.png', '01270_low.png', '01271_medium.png', '01272_high.png', '01273_low.png', '01274_medium.png', '01275_high.png', '01276_low.png', '01277_medium.png', '01278_high.png', '01279_low.png', '01280_medium.png', '01281_high.png', '01282_low.png', '01283_medium.png', '01284_high.png', '01285_low.png', '01286_medium.png', '01287_high.png', '01288_low.png', '01289_medium.png', '01290_high.png', '01291_low.png', '01292_medium.png', '01293_high.png', '01294_low.png', '01295_medium.png', '01296_high.png', '01297_low.png', '01298_medium.png', '01299_high.png', '01300_low.png', '01301_medium.png', '01302_high.png', '01303_low.png', '01304_medium.png', '01305_high.png', '01306_low.png', '01307_medium.png', '01308_high.png', '01309_low.png', '01310_medium.png', '01311_high.png', '01312_low.png', '01313_medium.png', '01314_high.png', '01315_low.png', '01316_medium.png', '01317_high.png', '01318_low.png', '01319_medium.png', '01320_high.png', '01321_low.png', '01322_medium.png', '01323_high.png', '01324_low.png', '01325_medium.png', '01326_high.png', '01327_low.png', '01328_medium.png', '01329_high.png', '01330_low.png', '01331_medium.png', '01332_high.png', '01333_low.png', '01334_medium.png', '01335_high.png', '01336_low.png', '01337_medium.png', '01338_high.png', '01339_low.png', '01340_medium.png', '01341_high.png', '01342_low.png', '01343_medium.png', '01344_high.png', '01345_low.png', '01346_medium.png', '01347_high.png', '01348_low.png', '01349_medium.png', '01350_high.png', '01351_low.png', '01352_medium.png', '01353_high.png', '01354_low.png', '01355_medium.png', '01356_high.png', '01357_low.png', '01358_medium.png', '01359_high.png', '01360_low.png', '01361_medium.png', '01362_high.png', '01363_low.png', '01364_medium.png', '01365_high.png', '01366_low.png', '01367_medium.png', '01368_high.png', '01369_low.png', '01370_medium.png', '01371_high.png', '01372_low.png', '01373_medium.png', '01374_high.png', '01375_low.png', '01376_medium.png', '01377_high.png', '01378_low.png', '01379_medium.png', '01380_high.png', '01381_low.png', '01382_medium.png', '01383_high.png', '01384_low.png', '01385_medium.png', '01386_high.png', '01387_low.png', '01388_medium.png', '01389_high.png', '01390_low.png', '01391_medium.png', '01392_high.png', '01393_low.png', '01394_medium.png', '01395_high.png', '01396_low.png', '01397_medium.png', '01398_high.png', '01399_low.png', '01400_medium.png', '01401_high.png', '01402_low.png', '01403_medium.png', '01404_high.png', '01405_low.png', '01406_medium.png', '01407_high.png', '01408_low.png', '01409_medium.png', '01410_high.png', '01411_low.png', '01412_medium.png', '01413_high.png', '01414_low.png', '01415_medium.png', '01416_high.png', '01417_low.png', '01418_medium.png', '01419_high.png', '01420_low.png', '01421_medium.png', '01422_high.png', '01423_low.png', '01424_medium.png', '01425_high.png', '01426_low.png', '01427_medium.png', '01428_high.png', '01429_low.png', '01430_medium.png', '01431_high.png', '01432_low.png', '01433_medium.png', '01434_high.png', '01435_low.png', '01436_medium.png', '01437_high.png', '01438_low.png', '01439_medium.png', '01440_high.png', '01441_low.png', '01442_medium.png', '01443_high.png', '01444_low.png', '01445_medium.png', '01446_high.png', '01447_low.png', '01448_medium.png', '01449_high.png', '01450_low.png', '01451_medium.png', '01452_high.png', '01453_low.png', '01454_medium.png', '01455_high.png', '01456_low.png', '01457_medium.png', '01458_high.png', '01459_low.png', '01460_medium.png', '01461_high.png', '01462_low.png', '01463_medium.png', '01464_high.png', '01465_low.png', '01466_medium.png', '01467_high.png', '01468_low.png', '01469_medium.png', '01470_high.png', '01471_low.png', '01472_medium.png', '01473_high.png', '01474_low.png', '01475_medium.png', '01476_high.png', '01477_low.png', '01478_medium.png', '01479_high.png', '01480_low.png', '01481_medium.png', '01482_high.png', '01483_low.png', '01484_medium.png', '01485_high.png', '01486_low.png', '01487_medium.png', '01488_high.png', '01489_low.png', '01490_medium.png', '01491_high.png', '01492_low.png', '01493_medium.png', '01494_high.png', '01495_low.png', '01496_medium.png', '01497_high.png', '01498_low.png', '01499_medium.png', '01500_high.png', '01501_low.png', '01502_medium.png', '01503_high.png', '01504_low.png', '01505_medium.png', '01506_high.png', '01507_low.png', '01508_medium.png', '01509_high.png', '01510_low.png', '01511_medium.png', '01512_high.png', '01513_low.png', '01514_medium.png', '01515_high.png', '01516_low.png', '01517_medium.png', '01518_high.png', '01519_low.png', '01520_medium.png', '01521_high.png', '01522_low.png', '01523_medium.png', '01524_high.png', '01525_low.png', '01526_medium.png', '01527_high.png', '01528_low.png', '01529_medium.png', '01530_high.png', '01531_low.png', '01532_medium.png', '01533_high.png', '01534_low.png', '01535_medium.png', '01536_high.png', '01537_low.png', '01538_medium.png', '01539_high.png', '01540_low.png', '01541_medium.png', '01542_high.png', '01543_low.png', '01544_medium.png', '01545_high.png', '01546_low.png', '01547_medium.png', '01548_high.png', '01549_low.png', '01550_medium.png', '01551_high.png', '01552_low.png', '01553_medium.png', '01554_high.png', '01555_low.png', '01556_medium.png', '01557_high.png', '01558_low.png', '01559_medium.png', '01560_high.png', '01561_low.png', '01562_medium.png', '01563_high.png', '01564_low.png', '01565_medium.png', '01566_high.png', '01567_low.png', '01568_medium.png', '01569_high.png', '01570_low.png', '01571_medium.png', '01572_high.png', '01573_low.png', '01574_medium.png', '01575_high.png', '01576_low.png', '01577_medium.png', '01578_high.png', '01579_low.png', '01580_medium.png', '01581_high.png', '01582_low.png', '01583_medium.png', '01584_high.png', '01585_low.png', '01586_medium.png', '01587_high.png', '01588_low.png', '01589_medium.png', '01590_high.png', '01591_low.png', '01592_medium.png', '01593_high.png', '01594_low.png', '01595_medium.png', '01596_high.png', '01597_low.png', '01598_medium.png', '01599_high.png', '01600_low.png', '01601_medium.png', '01602_high.png', '01603_low.png', '01604_medium.png', '01605_high.png', '01606_low.png', '01607_medium.png', '01608_high.png', '01609_low.png', '01610_medium.png', '01611_high.png', '01612_low.png', '01613_medium.png', '01614_high.png', '01615_low.png', '01616_medium.png', '01617_high.png', '01618_low.png', '01619_medium.png', '01620_high.png', '01621_low.png', '01622_medium.png', '01623_high.png', '01624_low.png', '01625_medium.png', '01626_high.png', '01627_low.png', '01628_medium.png', '01629_high.png', '01630_low.png', '01631_medium.png', '01632_high.png', '01633_low.png', '01634_medium.png', '01635_high.png', '01636_low.png', '01637_medium.png', '01638_high.png', '01639_low.png', '01640_medium.png', '01641_high.png', '01642_low.png', '01643_medium.png', '01644_high.png', '01645_low.png', '01646_medium.png', '01647_high.png', '01648_low.png', '01649_medium.png', '01650_high.png', '01651_low.png', '01652_medium.png', '01653_high.png', '01654_low.png', '01655_medium.png', '01656_high.png', '01657_low.png', '01658_medium.png', '01659_high.png', '01660_low.png', '01661_medium.png', '01662_high.png', '01663_low.png', '01664_medium.png', '01665_high.png', '01666_low.png', '01667_medium.png', '01668_high.png', '01669_low.png', '01670_medium.png', '01671_high.png', '01672_low.png', '01673_medium.png', '01674_high.png', '01675_low.png', '01676_medium.png', '01677_high.png', '01678_low.png', '01679_medium.png', '01680_high.png', '01681_low.png', '01682_medium.png', '01683_high.png', '01684_low.png', '01685_medium.png', '01686_high.png', '01687_low.png', '01688_medium.png', '01689_high.png', '01690_low.png', '01691_medium.png', '01692_high.png', '01693_low.png', '01694_medium.png', '01695_high.png', '01696_low.png', '01697_medium.png', '01698_high.png', '01699_low.png', '01700_medium.png', '01701_high.png', '01702_low.png', '01703_medium.png', '01704_high.png', '01705_low.png', '01706_medium.png', '01707_high.png', '01708_low.png', '01709_medium.png', '01710_high.png', '01711_low.png', '01712_medium.png', '01713_high.png', '01714_low.png', '01715_medium.png', '01716_high.png', '01717_low.png', '01718_medium.png', '01719_high.png', '01720_low.png', '01721_medium.png', '01722_high.png', '01723_low.png', '01724_medium.png', '01725_high.png', '01726_low.png', '01727_medium.png', '01728_high.png', '01729_low.png', '01730_medium.png', '01731_high.png', '01732_low.png', '01733_medium.png', '01734_high.png', '01735_low.png', '01736_medium.png', '01737_high.png', '01738_low.png', '01739_medium.png', '01740_high.png', '01741_low.png', '01742_medium.png', '01743_high.png', '01744_low.png', '01745_medium.png', '01746_high.png', '01747_low.png', '01748_medium.png', '01749_high.png', '01750_low.png', '01751_medium.png', '01752_high.png', '01753_low.png', '01754_medium.png', '01755_high.png', '01756_low.png', '01757_medium.png', '01758_high.png', '01759_low.png', '01760_medium.png', '01761_high.png', '01762_low.png', '01763_medium.png', '01764_high.png', '01765_low.png', '01766_medium.png', '01767_high.png', '01768_low.png', '01769_medium.png', '01770_high.png', '01771_low.png', '01772_medium.png', '01773_high.png', '01774_low.png', '01775_medium.png', '01776_high.png', '01777_low.png', '01778_medium.png', '01779_high.png', '01780_low.png', '01781_medium.png', '01782_high.png', '01783_low.png', '01784_medium.png', '01785_high.png', '01786_low.png', '01787_medium.png', '01788_high.png', '01789_low.png', '01790_medium.png', '01791_high.png', '01792_low.png', '01793_medium.png', '01794_high.png', '01795_low.png', '01796_medium.png', '01797_high.png', '01798_low.png', '01799_medium.png', '01800_high.png', '01801_low.png', '01802_medium.png', '01803_high.png', '01804_low.png', '01805_medium.png', '01806_high.png', '01807_low.png', '01808_medium.png', '01809_high.png', '01810_low.png', '01811_medium.png', '01812_high.png', '01813_low.png', '01814_medium.png', '01815_high.png', '01816_low.png', '01817_medium.png', '01818_high.png', '01819_low.png', '01820_medium.png', '01821_high.png', '01822_low.png', '01823_medium.png', '01824_high.png', '01825_low.png', '01826_medium.png', '01827_high.png', '01828_low.png', '01829_medium.png', '01830_high.png', '01831_low.png', '01832_medium.png', '01833_high.png', '01834_low.png', '01835_medium.png', '01836_high.png', '01837_low.png', '01838_medium.png', '01839_high.png', '01840_low.png', '01841_medium.png', '01842_high.png', '01843_low.png', '01844_medium.png', '01845_high.png', '01846_low.png', '01847_medium.png', '01848_high.png', '01849_low.png', '01850_medium.png', '01851_high.png', '01852_low.png', '01853_medium.png', '01854_high.png', '01855_low.png', '01856_medium.png', '01857_high.png', '01858_low.png', '01859_medium.png', '01860_high.png', '01861_low.png', '01862_medium.png', '01863_high.png', '01864_low.png', '01865_medium.png', '01866_high.png', '01867_low.png', '01868_medium.png', '01869_high.png', '01870_low.png', '01871_medium.png', '01872_high.png', '01873_low.png', '01874_medium.png', '01875_high.png', '01876_low.png', '01877_medium.png', '01878_high.png', '01879_low.png', '01880_medium.png', '01881_high.png', '01882_low.png', '01883_medium.png', '01884_high.png', '01885_low.png', '01886_medium.png', '01887_high.png', '01888_low.png', '01889_medium.png', '01890_high.png', '01891_low.png', '01892_medium.png', '01893_high.png', '01894_low.png', '01895_medium.png', '01896_high.png', '01897_low.png', '01898_medium.png', '01899_high.png', '01900_low.png', '01901_medium.png', '01902_high.png', '01903_low.png', '01904_medium.png', '01905_high.png', '01906_low.png', '01907_medium.png', '01908_high.png', '01909_low.png', '01910_medium.png', '01911_high.png', '01912_low.png', '01913_medium.png', '01914_high.png', '01915_low.png', '01916_medium.png', '01917_high.png', '01918_low.png', '01919_medium.png', '01920_high.png', '01921_low.png', '01922_medium.png', '01923_high.png', '01924_low.png', '01925_medium.png', '01926_high.png', '01927_low.png', '01928_medium.png', '01929_high.png', '01930_low.png', '01931_medium.png', '01932_high.png', '01933_low.png', '01934_medium.png', '01935_high.png', '01936_low.png', '01937_medium.png', '01938_high.png', '01939_low.png', '01940_medium.png', '01941_high.png', '01942_low.png', '01943_medium.png', '01944_high.png', '01945_low.png', '01946_medium.png', '01947_high.png', '01948_low.png', '01949_medium.png', '01950_high.png', '01951_low.png', '01952_medium.png', '01953_high.png', '01954_low.png', '01955_medium.png', '01956_high.png', '01957_low.png', '01958_medium.png', '01959_high.png', '01960_low.png', '01961_medium.png', '01962_high.png', '01963_low.png', '01964_medium.png', '01965_high.png', '01966_low.png', '01967_medium.png', '01968_high.png', '01969_low.png', '01970_medium.png', '01971_high.png', '01972_low.png', '01973_medium.png', '01974_high.png', '01975_low.png', '01976_medium.png', '01977_high.png', '01978_low.png', '01979_medium.png', '01980_high.png', '01981_low.png', '01982_medium.png', '01983_high.png', '01984_low.png', '01985_medium.png', '01986_high.png', '01987_low.png', '01988_medium.png', '01989_high.png', '01990_low.png', '01991_medium.png', '01992_high.png', '01993_low.png', '01994_medium.png', '01995_high.png', '01996_low.png', '01997_medium.png', '01998_high.png', '01999_low.png', '02000_medium.png', '02001_high.png', '02002_low.png', '02003_medium.png', '02004_high.png', '02005_low.png', '02006_medium.png', '02007_high.png', '02008_low.png', '02009_medium.png', '02010_high.png', '02011_low.png', '02012_medium.png', '02013_high.png', '02014_low.png', '02015_medium.png', '02016_high.png', '02017_low.png', '02018_medium.png', '02019_high.png', '02020_low.png', '02021_medium.png', '02022_high.png', '02023_low.png', '02024_medium.png', '02025_high.png', '02026_low.png', '02027_medium.png', '02028_high.png', '02029_low.png', '02030_medium.png', '02031_high.png', '02032_low.png', '02033_medium.png', '02034_high.png', '02035_low.png', '02036_medium.png', '02037_high.png', '02038_low.png', '02039_medium.png', '02040_high.png', '02041_low.png', '02042_medium.png', '02043_high.png', '02044_low.png', '02045_medium.png', '02046_high.png', '02047_low.png', '02048_medium.png', '02049_high.png', '02050_low.png', '02051_medium.png', '02052_high.png', '02053_low.png', '02054_medium.png', '02055_high.png', '02056_low.png', '02057_medium.png', '02058_high.png', '02059_low.png', '02060_medium.png', '02061_high.png', '02062_low.png', '02063_medium.png', '02064_high.png', '02065_low.png', '02066_medium.png', '02067_high.png', '02068_low.png', '02069_medium.png', '02070_high.png', '02071_low.png', '02072_medium.png', '02073_high.png', '02074_low.png', '02075_medium.png', '02076_high.png', '02077_low.png', '02078_medium.png', '02079_high.png', '02080_low.png', '02081_medium.png', '02082_high.png', '02083_low.png', '02084_medium.png', '02085_high.png', '02086_low.png', '02087_medium.png', '02088_high.png', '02089_low.png', '02090_medium.png', '02091_high.png', '02092_low.png', '02093_medium.png', '02094_high.png', '02095_low.png', '02096_medium.png', '02097_high.png', '02098_low.png', '02099_medium.png', '02100_high.png', '02101_low.png', '02102_medium.png', '02103_high.png', '02104_low.png', '02105_medium.png', '02106_high.png', '02107_low.png', '02108_medium.png', '02109_high.png', '02110_low.png', '02111_medium.png', '02112_high.png', '02113_low.png', '02114_medium.png', '02115_high.png', '02116_low.png', '02117_medium.png', '02118_high.png', '02119_low.png', '02120_medium.png', '02121_high.png', '02122_low.png', '02123_medium.png', '02124_high.png', '02125_low.png', '02126_medium.png', '02127_high.png', '02128_low.png', '02129_medium.png', '02130_high.png', '02131_low.png', '02132_medium.png', '02133_high.png', '02134_low.png', '02135_medium.png', '02136_high.png', '02137_low.png', '02138_medium.png', '02139_high.png', '02140_low.png', '02141_medium.png', '02142_high.png', '02143_low.png', '02144_medium.png', '02145_high.png', '02146_low.png', '02147_medium.png', '02148_high.png', '02149_low.png', '02150_medium.png', '02151_high.png', '02152_low.png', '02153_medium.png', '02154_high.png', '02155_low.png', '02156_medium.png', '02157_high.png', '02158_low.png', '02159_medium.png', '02160_high.png', '02161_low.png', '02162_medium.png', '02163_high.png', '02164_low.png', '02165_medium.png', '02166_high.png', '02167_low.png', '02168_medium.png', '02169_high.png', '02170_low.png', '02171_medium.png', '02172_high.png', '02173_low.png', '02174_medium.png', '02175_high.png', '02176_low.png', '02177_medium.png', '02178_high.png', '02179_low.png', '02180_medium.png', '02181_high.png', '02182_low.png', '02183_medium.png', '02184_high.png', '02185_low.png', '02186_medium.png', '02187_high.png', '02188_low.png', '02189_medium.png', '02190_high.png', '02191_low.png', '02192_medium.png', '02193_high.png', '02194_low.png', '02195_medium.png', '02196_high.png', '02197_low.png', '02198_medium.png', '02199_high.png', '02200_medium.png', '02201_high.png', '02202_low.png', '02203_medium.png', '02204_high.png', '02205_low.png', '02206_medium.png', '02207_high.png', '02208_low.png', '02209_medium.png', '02210_high.png', '02211_low.png', '02212_medium.png', '02213_high.png', '02214_low.png', '02215_medium.png', '02216_high.png', '02217_low.png', '02218_medium.png', '02219_high.png', '02220_low.png', '02221_medium.png', '02222_high.png', '02223_low.png', '02224_medium.png', '02225_high.png', '02226_low.png', '02227_medium.png', '02228_high.png', '02229_low.png', '02230_medium.png', '02231_high.png', '02232_low.png', '02233_medium.png', '02234_high.png', '02235_low.png', '02236_medium.png', '02237_high.png', '02238_low.png', '02239_medium.png', '02240_high.png', '02241_low.png', '02242_medium.png', '02243_high.png', '02244_low.png', '02245_medium.png', '02246_high.png', '02247_low.png', '02248_medium.png', '02249_high.png', '02250_low.png', '02251_medium.png', '02252_high.png', '02253_low.png', '02254_medium.png', '02255_high.png', '02256_low.png', '02257_medium.png', '02258_high.png', '02259_low.png', '02260_medium.png', '02261_high.png', '02262_low.png', '02263_medium.png', '02264_high.png', '02265_low.png', '02266_medium.png', '02267_high.png', '02268_low.png', '02269_medium.png', '02270_high.png', '02271_low.png', '02272_medium.png', '02273_high.png', '02274_low.png', '02275_medium.png', '02276_high.png', '02277_low.png', '02278_medium.png', '02279_high.png', '02280_low.png', '02281_medium.png', '02282_high.png', '02283_low.png', '02284_medium.png', '02285_high.png', '02286_low.png', '02287_medium.png', '02288_high.png', '02289_low.png', '02290_medium.png', '02291_high.png', '02292_low.png', '02293_medium.png', '02294_high.png', '02295_low.png', '02296_medium.png', '02297_high.png', '02298_low.png', '02299_medium.png', '02300_high.png', '02301_low.png', '02302_medium.png', '02303_high.png', '02304_low.png', '02305_medium.png', '02306_high.png', '02307_low.png', '02308_medium.png', '02309_high.png', '02310_low.png', '02311_medium.png', '02312_high.png', '02313_low.png', '02314_medium.png', '02315_high.png', '02316_low.png', '02317_medium.png', '02318_high.png', '02319_low.png', '02320_medium.png', '02321_high.png', '02322_low.png', '02323_medium.png', '02324_high.png', '02325_low.png', '02326_medium.png', '02327_high.png', '02328_low.png', '02329_medium.png', '02330_high.png', '02331_low.png', '02332_medium.png', '02333_high.png', '02334_low.png', '02335_medium.png', '02336_high.png', '02337_low.png', '02338_medium.png', '02339_high.png', '02340_low.png', '02341_medium.png', '02342_high.png', '02343_low.png', '02344_medium.png', '02345_high.png', '02346_low.png', '02347_medium.png', '02348_high.png', '02349_low.png', '02350_medium.png', '02351_high.png', '02352_low.png', '02353_medium.png', '02354_high.png', '02355_low.png', '02356_medium.png', '02357_high.png', '02358_low.png', '02359_medium.png', '02360_high.png', '02361_low.png', '02362_medium.png', '02363_high.png', '02364_low.png', '02365_medium.png', '02366_high.png', '02367_low.png', '02368_medium.png', '02369_high.png', '02370_low.png', '02371_medium.png', '02372_high.png', '02373_low.png', '02374_medium.png', '02375_high.png', '02376_low.png', '02377_medium.png', '02378_high.png', '02379_low.png', '02380_medium.png', '02381_high.png', '02382_low.png', '02383_medium.png', '02384_high.png', '02385_low.png', '02386_medium.png', '02387_high.png', '02388_low.png', '02389_medium.png', '02390_high.png', '02391_low.png', '02392_medium.png', '02393_high.png', '02394_low.png', '02395_medium.png', '02396_high.png', '02397_low.png', '02398_medium.png', '02399_high.png', '02400_low.png', '02401_medium.png', '02402_high.png', '02403_low.png', '02404_medium.png', '02405_high.png', '02406_low.png', '02407_medium.png', '02408_high.png', '02409_low.png', '02410_medium.png', '02411_high.png', '02412_low.png', '02413_medium.png', '02414_high.png', '02415_low.png', '02416_medium.png', '02417_high.png', '02418_low.png', '02419_medium.png', '02420_high.png', '02421_low.png', '02422_medium.png', '02423_high.png', '02424_low.png', '02425_medium.png', '02426_high.png', '02427_low.png', '02428_medium.png', '02429_high.png', '02430_low.png', '02431_medium.png', '02432_high.png', '02433_low.png', '02434_medium.png', '02435_high.png', '02436_low.png', '02437_medium.png', '02438_high.png', '02439_low.png', '02440_medium.png', '02441_high.png', '02442_low.png', '02443_medium.png', '02444_high.png', '02445_low.png', '02446_medium.png', '02447_high.png', '02448_low.png', '02449_medium.png', '02450_high.png', '02451_low.png', '02452_medium.png', '02453_high.png', '02454_low.png', '02455_medium.png', '02456_high.png', '02457_low.png', '02458_medium.png', '02459_high.png', '02460_low.png', '02461_medium.png', '02462_high.png', '02463_low.png', '02464_medium.png', '02465_high.png', '02466_low.png', '02467_medium.png', '02468_high.png', '02469_low.png', '02470_medium.png', '02471_high.png', '02472_low.png', '02473_medium.png', '02474_high.png', '02475_low.png', '02476_medium.png', '02477_high.png', '02478_low.png', '02479_medium.png', '02480_high.png', '02481_low.png', '02482_medium.png', '02483_high.png', '02484_low.png', '02485_medium.png', '02486_high.png', '02487_low.png', '02488_medium.png', '02489_high.png', '02490_low.png', '02491_medium.png', '02492_high.png', '02493_low.png', '02494_medium.png', '02495_high.png', '02496_low.png', '02497_medium.png', '02498_high.png', '02499_low.png', '02500_medium.png', '02501_high.png', '02502_low.png', '02503_medium.png', '02504_high.png', '02505_low.png', '02506_medium.png', '02507_high.png', '02508_low.png', '02509_medium.png', '02510_high.png', '02511_low.png', '02512_medium.png', '02513_high.png', '02514_low.png', '02515_medium.png', '02516_high.png', '02517_low.png', '02518_medium.png', '02519_high.png', '02520_low.png', '02521_medium.png', '02522_high.png', '02523_low.png', '02524_medium.png', '02525_high.png', '02526_low.png', '02527_medium.png', '02528_high.png', '02529_low.png', '02530_medium.png', '02531_high.png', '02532_low.png', '02533_medium.png', '02534_high.png', '02535_low.png', '02536_medium.png', '02537_high.png', '02538_low.png', '02539_medium.png', '02540_high.png', '02541_low.png', '02542_medium.png', '02543_high.png', '02544_low.png', '02545_medium.png', '02546_high.png', '02547_low.png', '02548_medium.png', '02549_high.png', '02550_low.png', '02551_medium.png', '02552_high.png', '02553_low.png', '02554_medium.png', '02555_high.png', '02556_low.png', '02557_medium.png', '02558_high.png', '02559_low.png', '02560_medium.png', '02561_high.png', '02562_low.png', '02563_medium.png', '02564_high.png', '02565_low.png', '02566_medium.png', '02567_high.png', '02568_low.png', '02569_medium.png', '02570_high.png', '02571_low.png', '02572_medium.png', '02573_high.png', '02574_low.png', '02575_medium.png', '02576_high.png', '02577_low.png', '02578_medium.png', '02579_high.png', '02580_low.png', '02581_medium.png', '02582_high.png', '02583_low.png', '02584_medium.png', '02585_high.png', '02586_low.png', '02587_medium.png', '02588_high.png', '02589_low.png', '02590_medium.png', '02591_high.png', '02592_low.png', '02593_medium.png', '02594_high.png', '02595_low.png', '02596_medium.png', '02597_high.png', '02598_low.png', '02599_medium.png', '02600_high.png', '02601_low.png', '02602_medium.png', '02603_high.png', '02604_low.png', '02605_medium.png', '02606_high.png', '02607_low.png', '02608_medium.png', '02609_high.png', '02610_low.png', '02611_medium.png', '02612_high.png', '02613_low.png', '02614_medium.png', '02615_high.png', '02616_low.png', '02617_medium.png', '02618_high.png', '02619_low.png', '02620_medium.png', '02621_high.png', '02622_low.png', '02623_medium.png', '02624_high.png', '02625_low.png', '02626_medium.png', '02627_high.png', '02628_low.png', '02629_medium.png', '02630_high.png', '02631_low.png', '02632_medium.png', '02633_high.png', '02634_low.png', '02635_medium.png', '02636_high.png', '02637_low.png', '02638_medium.png', '02639_high.png', '02640_low.png', '02641_medium.png', '02642_high.png', '02643_low.png', '02644_medium.png', '02645_high.png', '02646_low.png', '02647_medium.png', '02648_high.png', '02649_low.png', '02650_medium.png', '02651_high.png', '02652_low.png', '02653_medium.png', '02654_high.png', '02655_low.png', '02656_medium.png', '02657_high.png', '02658_low.png', '02659_medium.png', '02660_high.png', '02661_low.png', '02662_medium.png', '02663_high.png', '02664_low.png', '02665_medium.png', '02666_high.png', '02667_low.png', '02668_medium.png', '02669_high.png', '02670_low.png', '02671_medium.png', '02672_high.png', '02673_low.png', '02674_medium.png', '02675_high.png', '02676_low.png', '02677_medium.png', '02678_high.png', '02679_low.png', '02680_medium.png', '02681_high.png', '02682_low.png', '02683_medium.png', '02684_high.png', '02685_low.png', '02686_medium.png', '02687_high.png', '02688_low.png', '02689_medium.png', '02690_high.png', '02691_low.png', '02692_medium.png', '02693_high.png', '02694_low.png', '02695_medium.png', '02696_high.png', '02697_low.png', '02698_medium.png', '02699_high.png', '02700_low.png', '02701_medium.png', '02702_high.png', '02703_low.png', '02704_medium.png', '02705_high.png', '02706_low.png', '02707_medium.png', '02708_high.png', '02709_low.png', '02710_medium.png', '02711_high.png', '02712_low.png', '02713_medium.png', '02714_high.png', '02715_low.png', '02716_medium.png', '02717_high.png', '02718_low.png', '02719_medium.png', '02720_high.png', '02721_low.png', '02722_medium.png', '02723_high.png', '02724_low.png', '02725_medium.png', '02726_high.png', '02727_low.png', '02728_medium.png', '02729_high.png', '02730_low.png', '02731_medium.png', '02732_high.png', '02733_low.png', '02734_medium.png', '02735_high.png', '02736_low.png', '02737_medium.png', '02738_high.png', '02739_low.png', '02740_medium.png', '02741_high.png', '02742_low.png', '02743_medium.png', '02744_high.png', '02745_low.png', '02746_medium.png', '02747_high.png', '02748_low.png', '02749_medium.png', '02750_high.png', '02751_low.png', '02752_medium.png', '02753_high.png', '02754_low.png', '02755_medium.png', '02756_high.png', '02757_low.png', '02758_medium.png', '02759_high.png', '02760_low.png', '02761_medium.png', '02762_high.png', '02763_low.png', '02764_medium.png', '02765_high.png', '02766_low.png', '02767_medium.png', '02768_high.png', '02769_low.png', '02770_medium.png', '02771_high.png', '02772_low.png', '02773_medium.png', '02774_high.png', '02775_low.png', '02776_medium.png', '02777_high.png', '02778_low.png', '02779_medium.png', '02780_high.png', '02781_low.png', '02782_medium.png', '02783_high.png', '02784_low.png', '02785_medium.png', '02786_high.png', '02787_low.png', '02788_medium.png', '02789_high.png', '02790_low.png', '02791_medium.png', '02792_high.png', '02793_low.png', '02794_medium.png', '02795_high.png', '02796_low.png', '02797_medium.png', '02798_high.png', '02799_low.png', '02800_medium.png', '02801_high.png', '02802_low.png', '02803_medium.png', '02804_high.png', '02805_low.png', '02806_medium.png', '02807_high.png', '02808_low.png', '02809_medium.png', '02810_high.png', '02811_low.png', '02812_medium.png', '02813_high.png', '02814_low.png', '02815_medium.png', '02816_high.png', '02817_low.png', '02818_medium.png', '02819_high.png', '02820_low.png', '02821_medium.png', '02822_high.png', '02823_low.png', '02824_medium.png', '02825_high.png', '02826_low.png', '02827_medium.png', '02828_high.png', '02829_low.png', '02830_medium.png', '02831_high.png', '02832_low.png', '02833_medium.png', '02834_high.png', '02835_low.png', '02836_medium.png', '02837_high.png', '02838_low.png', '02839_medium.png', '02840_high.png', '02841_low.png', '02842_medium.png', '02843_high.png', '02844_low.png', '02845_medium.png', '02846_high.png', '02847_low.png', '02848_medium.png', '02849_high.png', '02850_low.png', '02851_medium.png', '02852_high.png', '02853_low.png', '02854_medium.png', '02855_high.png', '02856_low.png', '02857_medium.png', '02858_high.png', '02859_low.png', '02860_medium.png', '02861_high.png', '02862_low.png', '02863_medium.png', '02864_high.png', '02865_low.png', '02866_medium.png', '02867_high.png', '02868_low.png', '02869_medium.png', '02870_high.png', '02871_low.png', '02872_medium.png', '02873_high.png', '02874_low.png', '02875_medium.png', '02876_high.png', '02877_low.png', '02878_medium.png', '02879_high.png', '02880_low.png', '02881_medium.png', '02882_high.png', '02883_low.png', '02884_medium.png', '02885_high.png', '02886_low.png', '02887_medium.png', '02888_high.png', '02889_low.png', '02890_medium.png', '02891_high.png', '02892_low.png', '02893_medium.png', '02894_high.png', '02895_low.png', '02896_medium.png', '02897_high.png', '02898_low.png', '02899_medium.png', '02900_high.png', '02901_low.png', '02902_medium.png', '02903_high.png', '02904_low.png', '02905_medium.png', '02906_high.png', '02907_low.png', '02908_medium.png', '02909_high.png', '02910_low.png', '02911_medium.png', '02912_high.png', '02913_low.png', '02914_medium.png', '02915_high.png', '02916_low.png', '02917_medium.png', '02918_high.png', '02919_low.png', '02920_medium.png', '02921_high.png', '02922_low.png', '02923_medium.png', '02924_high.png', '02925_low.png', '02926_medium.png', '02927_high.png', '02928_low.png', '02929_medium.png', '02930_high.png', '02931_low.png', '02932_medium.png', '02933_high.png', '02934_low.png', '02935_medium.png', '02936_high.png', '02937_low.png', '02938_medium.png', '02939_high.png', '02940_low.png', '02941_medium.png', '02942_high.png', '02943_low.png', '02944_medium.png', '02945_high.png', '02946_low.png', '02947_medium.png', '02948_high.png', '02949_low.png', '02950_medium.png', '02951_high.png', '02952_low.png', '02953_medium.png', '02954_high.png', '02955_low.png', '02956_medium.png', '02957_high.png', '02958_low.png', '02959_medium.png', '02960_high.png', '02961_low.png', '02962_medium.png', '02963_high.png', '02964_low.png', '02965_medium.png', '02966_high.png', '02967_low.png', '02968_medium.png', '02969_high.png', '02970_low.png', '02971_medium.png', '02972_high.png', '02973_low.png', '02974_medium.png', '02975_high.png', '02976_low.png', '02977_medium.png', '02978_high.png', '02979_low.png', '02980_medium.png', '02981_high.png', '02982_low.png', '02983_medium.png', '02984_high.png', '02985_low.png', '02986_medium.png', '02987_high.png', '02988_low.png', '02989_medium.png', '02990_high.png', '02991_low.png', '02992_medium.png', '02993_high.png', '02994_low.png', '02995_medium.png', '02996_high.png', '02997_low.png', '02998_medium.png', '02999_high.png', '03000_low.png', '03001_medium.png', '03002_high.png', '03003_low.png', '03004_medium.png', '03005_high.png', '03006_low.png', '03007_medium.png', '03008_high.png', '03009_low.png', '03010_medium.png', '03011_high.png', '03012_low.png', '03013_medium.png', '03014_high.png', '03015_low.png', '03016_medium.png', '03017_high.png', '03018_low.png', '03019_medium.png', '03020_high.png', '03021_low.png', '03022_medium.png', '03023_high.png', '03024_low.png', '03025_medium.png', '03026_high.png', '03027_low.png', '03028_medium.png', '03029_high.png', '03030_low.png', '03031_medium.png', '03032_high.png', '03033_low.png', '03034_medium.png', '03035_high.png', '03036_low.png', '03037_medium.png', '03038_high.png', '03039_low.png', '03040_medium.png', '03041_high.png', '03042_low.png', '03043_medium.png', '03044_high.png', '03045_low.png', '03046_medium.png', '03047_high.png', '03048_low.png', '03049_medium.png', '03050_high.png', '03051_low.png', '03052_medium.png', '03053_high.png', '03054_low.png', '03055_medium.png', '03056_high.png', '03057_low.png', '03058_medium.png', '03059_high.png', '03060_low.png', '03061_medium.png', '03062_high.png', '03063_low.png', '03064_medium.png', '03065_high.png', '03066_low.png', '03067_medium.png', '03068_high.png', '03069_low.png', '03070_medium.png', '03071_high.png', '03072_low.png', '03073_medium.png', '03074_high.png', '03075_low.png', '03076_medium.png', '03077_high.png', '03078_low.png', '03079_medium.png', '03080_high.png', '03081_low.png', '03082_medium.png', '03083_high.png', '03084_low.png', '03085_medium.png', '03086_high.png', '03087_low.png', '03088_medium.png', '03089_high.png', '03090_low.png', '03091_medium.png', '03092_high.png', '03093_low.png', '03094_medium.png', '03095_high.png', '03096_low.png', '03097_medium.png', '03098_high.png', '03099_low.png', '03100_medium.png', '03101_high.png', '03102_low.png', '03103_medium.png', '03104_high.png', '03105_low.png', '03106_medium.png', '03107_high.png', '03108_low.png', '03109_medium.png', '03110_high.png', '03111_low.png', '03112_medium.png', '03113_high.png', '03114_low.png', '03115_medium.png', '03116_high.png', '03117_low.png', '03118_medium.png', '03119_high.png', '03120_low.png', '03121_medium.png', '03122_high.png', '03123_low.png', '03124_medium.png', '03125_high.png', '03126_low.png', '03127_medium.png', '03128_high.png', '03129_low.png', '03130_medium.png', '03131_high.png', '03132_low.png', '03133_medium.png', '03134_high.png', '03135_low.png', '03136_medium.png', '03137_high.png', '03138_low.png', '03139_medium.png', '03140_high.png', '03141_low.png', '03142_medium.png', '03143_high.png', '03144_low.png', '03145_medium.png', '03146_high.png', '03147_low.png', '03148_medium.png', '03149_high.png', '03150_low.png', '03151_medium.png', '03152_high.png', '03153_low.png', '03154_medium.png', '03155_high.png', '03156_low.png', '03157_medium.png', '03158_high.png', '03159_low.png', '03160_medium.png', '03161_high.png', '03162_low.png', '03163_medium.png', '03164_high.png', '03165_low.png', '03166_medium.png', '03167_high.png', '03168_low.png', '03169_medium.png', '03170_high.png', '03171_low.png', '03172_medium.png', '03173_high.png', '03174_low.png', '03175_medium.png', '03176_high.png', '03177_low.png', '03178_medium.png', '03179_high.png', '03180_low.png', '03181_medium.png', '03182_high.png', '03183_low.png', '03184_medium.png', '03185_high.png', '03186_low.png', '03187_medium.png', '03188_high.png', '03189_low.png', '03190_medium.png', '03191_high.png', '03192_low.png', '03193_medium.png', '03194_high.png', '03195_low.png', '03196_medium.png', '03197_high.png', '03198_low.png', '03199_medium.png', '03200_low.png', '03201_medium.png', '03202_high.png', '03203_low.png', '03204_medium.png', '03205_high.png', '03206_low.png', '03207_medium.png', '03208_high.png', '03209_low.png', '03210_medium.png', '03211_high.png', '03212_low.png', '03213_medium.png', '03214_high.png', '03215_low.png', '03216_medium.png', '03217_high.png', '03218_low.png', '03219_medium.png', '03220_high.png', '03221_low.png', '03222_medium.png', '03223_high.png', '03224_low.png', '03225_medium.png', '03226_high.png', '03227_low.png', '03228_medium.png', '03229_high.png', '03230_low.png', '03231_medium.png', '03232_high.png', '03233_low.png', '03234_medium.png', '03235_high.png', '03236_low.png', '03237_medium.png', '03238_high.png', '03239_low.png', '03240_medium.png', '03241_high.png', '03242_low.png', '03243_medium.png', '03244_high.png', '03245_low.png', '03246_medium.png', '03247_high.png', '03248_low.png', '03249_medium.png', '03250_high.png', '03251_low.png', '03252_medium.png', '03253_high.png', '03254_low.png', '03255_medium.png', '03256_high.png', '03257_low.png', '03258_medium.png', '03259_high.png', '03260_low.png', '03261_medium.png', '03262_high.png', '03263_low.png', '03264_medium.png', '03265_high.png', '03266_low.png', '03267_medium.png', '03268_high.png', '03269_low.png', '03270_medium.png', '03271_high.png', '03272_low.png', '03273_medium.png', '03274_high.png', '03275_low.png', '03276_medium.png', '03277_high.png', '03278_low.png', '03279_medium.png', '03280_high.png', '03281_low.png', '03282_medium.png', '03283_high.png', '03284_low.png', '03285_medium.png', '03286_high.png', '03287_low.png', '03288_medium.png', '03289_high.png', '03290_low.png', '03291_medium.png', '03292_high.png', '03293_low.png', '03294_medium.png', '03295_high.png', '03296_low.png', '03297_medium.png', '03298_high.png', '03299_low.png', '03300_medium.png', '03301_high.png', '03302_low.png', '03303_medium.png', '03304_high.png', '03305_low.png', '03306_medium.png', '03307_high.png', '03308_low.png', '03309_medium.png', '03310_high.png', '03311_low.png', '03312_medium.png', '03313_high.png', '03314_low.png', '03315_medium.png', '03316_high.png', '03317_low.png', '03318_medium.png', '03319_high.png', '03320_low.png', '03321_medium.png', '03322_high.png', '03323_low.png', '03324_medium.png', '03325_high.png', '03326_low.png', '03327_medium.png', '03328_high.png', '03329_low.png', '03330_medium.png', '03331_high.png', '03332_low.png', '03333_medium.png', '03334_high.png', '03335_low.png', '03336_medium.png', '03337_high.png', '03338_low.png', '03339_medium.png', '03340_high.png', '03341_low.png', '03342_medium.png', '03343_high.png', '03344_low.png', '03345_medium.png', '03346_high.png', '03347_low.png', '03348_medium.png', '03349_high.png', '03350_low.png', '03351_medium.png', '03352_high.png', '03353_low.png', '03354_medium.png', '03355_high.png', '03356_low.png', '03357_medium.png', '03358_high.png', '03359_low.png', '03360_medium.png', '03361_high.png', '03362_low.png', '03363_medium.png', '03364_high.png', '03365_low.png', '03366_medium.png', '03367_high.png', '03368_low.png', '03369_medium.png', '03370_high.png', '03371_low.png', '03372_medium.png', '03373_high.png', '03374_low.png', '03375_medium.png', '03376_high.png', '03377_low.png', '03378_medium.png', '03379_high.png', '03380_low.png', '03381_medium.png', '03382_high.png', '03383_low.png', '03384_medium.png', '03385_high.png', '03386_low.png', '03387_medium.png', '03388_high.png', '03389_low.png', '03390_medium.png', '03391_high.png', '03392_low.png', '03393_medium.png', '03394_high.png', '03395_low.png', '03396_medium.png', '03397_high.png', '03398_low.png', '03399_medium.png', '03400_high.png', '03401_low.png', '03402_medium.png', '03403_high.png', '03404_low.png', '03405_medium.png', '03406_high.png', '03407_low.png', '03408_medium.png', '03409_high.png', '03410_low.png', '03411_medium.png', '03412_high.png', '03413_low.png', '03414_medium.png', '03415_high.png', '03416_low.png', '03417_medium.png', '03418_high.png', '03419_low.png', '03420_medium.png', '03421_high.png', '03422_low.png', '03423_medium.png', '03424_high.png', '03425_low.png', '03426_medium.png', '03427_high.png', '03428_low.png', '03429_medium.png', '03430_high.png', '03431_low.png', '03432_medium.png', '03433_high.png', '03434_low.png', '03435_medium.png', '03436_high.png', '03437_low.png', '03438_medium.png', '03439_high.png', '03440_low.png', '03441_medium.png', '03442_high.png', '03443_low.png', '03444_medium.png', '03445_high.png', '03446_low.png', '03447_medium.png', '03448_high.png', '03449_low.png', '03450_medium.png', '03451_high.png', '03452_low.png', '03453_medium.png', '03454_high.png', '03455_low.png', '03456_medium.png', '03457_high.png', '03458_low.png', '03459_medium.png', '03460_high.png', '03461_low.png', '03462_medium.png', '03463_high.png', '03464_low.png', '03465_medium.png', '03466_high.png', '03467_low.png', '03468_medium.png', '03469_high.png', '03470_low.png', '03471_medium.png', '03472_high.png', '03473_low.png', '03474_medium.png', '03475_high.png', '03476_low.png', '03477_medium.png', '03478_high.png', '03479_low.png', '03480_medium.png', '03481_high.png', '03482_low.png', '03483_medium.png', '03484_high.png', '03485_low.png', '03486_medium.png', '03487_high.png', '03488_low.png', '03489_medium.png', '03490_high.png', '03491_low.png', '03492_medium.png', '03493_high.png', '03494_low.png', '03495_medium.png', '03496_high.png', '03497_low.png', '03498_medium.png', '03499_high.png', '03500_low.png', '03501_medium.png', '03502_high.png', '03503_low.png', '03504_medium.png', '03505_high.png', '03506_low.png', '03507_medium.png', '03508_high.png', '03509_low.png', '03510_medium.png', '03511_high.png', '03512_low.png', '03513_medium.png', '03514_high.png', '03515_low.png', '03516_medium.png', '03517_high.png', '03518_low.png', '03519_medium.png', '03520_high.png', '03521_low.png', '03522_medium.png', '03523_high.png', '03524_low.png', '03525_medium.png', '03526_high.png', '03527_low.png', '03528_medium.png', '03529_high.png', '03530_low.png', '03531_medium.png', '03532_high.png', '03533_low.png', '03534_medium.png', '03535_high.png', '03536_low.png', '03537_medium.png', '03538_high.png', '03539_low.png', '03540_medium.png', '03541_high.png', '03542_low.png', '03543_medium.png', '03544_high.png', '03545_low.png', '03546_medium.png', '03547_high.png', '03548_low.png', '03549_medium.png', '03550_high.png', '03551_low.png', '03552_medium.png', '03553_high.png', '03554_low.png', '03555_medium.png', '03556_high.png', '03557_low.png', '03558_medium.png', '03559_high.png', '03560_low.png', '03561_medium.png', '03562_high.png', '03563_low.png', '03564_medium.png', '03565_high.png', '03566_low.png', '03567_medium.png', '03568_high.png', '03569_low.png', '03570_medium.png', '03571_high.png', '03572_low.png', '03573_medium.png', '03574_high.png', '03575_low.png', '03576_medium.png', '03577_high.png', '03578_low.png', '03579_medium.png', '03580_high.png', '03581_low.png', '03582_medium.png', '03583_high.png', '03584_low.png', '03585_medium.png', '03586_high.png', '03587_low.png', '03588_medium.png', '03589_high.png', '03590_low.png', '03591_medium.png', '03592_high.png', '03593_low.png', '03594_medium.png', '03595_high.png', '03596_low.png', '03597_medium.png', '03598_high.png', '03599_low.png', '03600_medium.png', '03601_high.png', '03602_low.png', '03603_medium.png', '03604_high.png', '03605_low.png', '03606_medium.png', '03607_high.png', '03608_low.png', '03609_medium.png', '03610_high.png', '03611_low.png', '03612_medium.png', '03613_high.png', '03614_low.png', '03615_medium.png', '03616_high.png', '03617_low.png', '03618_medium.png', '03619_high.png', '03620_low.png', '03621_medium.png', '03622_high.png', '03623_low.png', '03624_medium.png', '03625_high.png', '03626_low.png', '03627_medium.png', '03628_high.png', '03629_low.png', '03630_medium.png', '03631_high.png', '03632_low.png', '03633_medium.png', '03634_high.png', '03635_low.png', '03636_medium.png', '03637_high.png', '03638_low.png', '03639_medium.png', '03640_high.png', '03641_low.png', '03642_medium.png', '03643_high.png', '03644_low.png', '03645_medium.png', '03646_high.png', '03647_low.png', '03648_medium.png', '03649_high.png', '03650_low.png', '03651_medium.png', '03652_high.png', '03653_low.png', '03654_medium.png', '03655_high.png', '03656_low.png', '03657_medium.png', '03658_high.png', '03659_low.png', '03660_medium.png', '03661_high.png', '03662_low.png', '03663_medium.png', '03664_high.png', '03665_low.png', '03666_medium.png', '03667_high.png', '03668_low.png', '03669_medium.png', '03670_high.png', '03671_low.png', '03672_medium.png', '03673_high.png', '03674_low.png', '03675_medium.png', '03676_high.png', '03677_low.png', '03678_medium.png', '03679_high.png', '03680_low.png', '03681_medium.png', '03682_high.png', '03683_low.png', '03684_medium.png', '03685_high.png', '03686_low.png', '03687_medium.png', '03688_high.png', '03689_low.png', '03690_medium.png', '03691_high.png', '03692_low.png', '03693_medium.png', '03694_high.png', '03695_low.png', '03696_medium.png', '03697_high.png', '03698_low.png', '03699_medium.png', '03700_high.png', '03701_low.png', '03702_medium.png', '03703_high.png', '03704_low.png', '03705_medium.png', '03706_high.png', '03707_low.png', '03708_medium.png', '03709_high.png', '03710_low.png', '03711_medium.png', '03712_high.png', '03713_low.png', '03714_medium.png', '03715_high.png', '03716_low.png', '03717_medium.png', '03718_high.png', '03719_low.png', '03720_medium.png', '03721_high.png', '03722_low.png', '03723_medium.png', '03724_high.png', '03725_low.png', '03726_medium.png', '03727_high.png', '03728_low.png', '03729_medium.png', '03730_high.png', '03731_low.png', '03732_medium.png', '03733_high.png', '03734_low.png', '03735_medium.png', '03736_high.png', '03737_low.png', '03738_medium.png', '03739_high.png', '03740_low.png', '03741_medium.png', '03742_high.png', '03743_low.png', '03744_medium.png', '03745_high.png', '03746_low.png', '03747_medium.png', '03748_high.png', '03749_low.png', '03750_medium.png', '03751_high.png', '03752_low.png', '03753_medium.png', '03754_high.png', '03755_low.png', '03756_medium.png', '03757_high.png', '03758_low.png', '03759_medium.png', '03760_high.png', '03761_low.png', '03762_medium.png', '03763_high.png', '03764_low.png', '03765_medium.png', '03766_high.png', '03767_low.png', '03768_medium.png', '03769_high.png', '03770_low.png', '03771_medium.png', '03772_high.png', '03773_low.png', '03774_medium.png', '03775_high.png', '03776_low.png', '03777_medium.png', '03778_high.png', '03779_low.png', '03780_medium.png', '03781_high.png', '03782_low.png', '03783_medium.png', '03784_high.png', '03785_low.png', '03786_medium.png', '03787_high.png', '03788_low.png', '03789_medium.png', '03790_high.png', '03791_low.png', '03792_medium.png', '03793_high.png', '03794_low.png', '03795_medium.png', '03796_high.png', '03797_low.png', '03798_medium.png', '03799_high.png', '03800_low.png', '03801_medium.png', '03802_high.png', '03803_low.png', '03804_medium.png', '03805_high.png', '03806_low.png', '03807_medium.png', '03808_high.png', '03809_low.png', '03810_medium.png', '03811_high.png', '03812_low.png', '03813_medium.png', '03814_high.png', '03815_low.png', '03816_medium.png', '03817_high.png', '03818_low.png', '03819_medium.png', '03820_high.png', '03821_low.png', '03822_medium.png', '03823_high.png', '03824_low.png', '03825_medium.png', '03826_high.png', '03827_low.png', '03828_medium.png', '03829_high.png', '03830_low.png', '03831_medium.png', '03832_high.png', '03833_low.png', '03834_medium.png', '03835_high.png', '03836_low.png', '03837_medium.png', '03838_high.png', '03839_low.png', '03840_medium.png', '03841_high.png', '03842_low.png', '03843_medium.png', '03844_high.png', '03845_low.png', '03846_medium.png', '03847_high.png', '03848_low.png', '03849_medium.png', '03850_high.png', '03851_low.png', '03852_medium.png', '03853_high.png', '03854_low.png', '03855_medium.png', '03856_high.png', '03857_low.png', '03858_medium.png', '03859_high.png', '03860_low.png', '03861_medium.png', '03862_high.png', '03863_low.png', '03864_medium.png', '03865_high.png', '03866_low.png', '03867_medium.png', '03868_high.png', '03869_low.png', '03870_medium.png', '03871_high.png', '03872_low.png', '03873_medium.png', '03874_high.png', '03875_low.png', '03876_medium.png', '03877_high.png', '03878_low.png', '03879_medium.png', '03880_high.png', '03881_low.png', '03882_medium.png', '03883_high.png', '03884_low.png', '03885_medium.png', '03886_high.png', '03887_low.png', '03888_medium.png', '03889_high.png', '03890_low.png', '03891_medium.png', '03892_high.png', '03893_low.png', '03894_medium.png', '03895_high.png', '03896_low.png', '03897_medium.png', '03898_high.png', '03899_low.png', '03900_medium.png', '03901_high.png', '03902_low.png', '03903_medium.png', '03904_high.png', '03905_low.png', '03906_medium.png', '03907_high.png', '03908_low.png', '03909_medium.png', '03910_high.png', '03911_low.png', '03912_medium.png', '03913_high.png', '03914_low.png', '03915_medium.png', '03916_high.png', '03917_low.png', '03918_medium.png', '03919_high.png', '03920_low.png', '03921_medium.png', '03922_high.png', '03923_low.png', '03924_medium.png', '03925_high.png', '03926_low.png', '03927_medium.png', '03928_high.png', '03929_low.png', '03930_medium.png', '03931_high.png', '03932_low.png', '03933_medium.png', '03934_high.png', '03935_low.png', '03936_medium.png', '03937_high.png', '03938_low.png', '03939_medium.png', '03940_high.png', '03941_low.png', '03942_medium.png', '03943_high.png', '03944_low.png', '03945_medium.png', '03946_high.png', '03947_low.png', '03948_medium.png', '03949_high.png', '03950_low.png', '03951_medium.png', '03952_high.png', '03953_low.png', '03954_medium.png', '03955_high.png', '03956_low.png', '03957_medium.png', '03958_high.png', '03959_low.png', '03960_medium.png', '03961_high.png', '03962_low.png', '03963_medium.png', '03964_high.png', '03965_low.png', '03966_medium.png', '03967_high.png', '03968_low.png', '03969_medium.png', '03970_high.png', '03971_low.png', '03972_medium.png', '03973_high.png', '03974_low.png', '03975_medium.png', '03976_high.png', '03977_low.png', '03978_medium.png', '03979_high.png', '03980_low.png', '03981_medium.png', '03982_high.png', '03983_low.png', '03984_medium.png', '03985_high.png', '03986_low.png', '03987_medium.png', '03988_high.png', '03989_low.png', '03990_medium.png', '03991_high.png', '03992_low.png', '03993_medium.png', '03994_high.png', '03995_low.png', '03996_medium.png', '03997_high.png', '03998_low.png', '03999_medium.png', '04000_high.png', '04001_low.png', '04002_medium.png', '04003_high.png', '04004_low.png', '04005_medium.png', '04006_high.png', '04007_low.png', '04008_medium.png', '04009_high.png', '04010_low.png', '04011_medium.png', '04012_high.png', '04013_low.png', '04014_medium.png', '04015_high.png', '04016_low.png', '04017_medium.png', '04018_high.png', '04019_low.png', '04020_medium.png', '04021_high.png', '04022_low.png', '04023_medium.png', '04024_high.png', '04025_low.png', '04026_medium.png', '04027_high.png', '04028_low.png', '04029_medium.png', '04030_high.png', '04031_low.png', '04032_medium.png', '04033_high.png', '04034_low.png', '04035_medium.png', '04036_high.png', '04037_low.png', '04038_medium.png', '04039_high.png', '04040_low.png', '04041_medium.png', '04042_high.png', '04043_low.png', '04044_medium.png', '04045_high.png', '04046_low.png', '04047_medium.png', '04048_high.png', '04049_low.png', '04050_medium.png', '04051_high.png', '04052_low.png', '04053_medium.png', '04054_high.png', '04055_low.png', '04056_medium.png', '04057_high.png', '04058_low.png', '04059_medium.png', '04060_high.png', '04061_low.png', '04062_medium.png', '04063_high.png', '04064_low.png', '04065_medium.png', '04066_high.png', '04067_low.png', '04068_medium.png', '04069_high.png', '04070_low.png', '04071_medium.png', '04072_high.png', '04073_low.png', '04074_medium.png', '04075_high.png', '04076_low.png', '04077_medium.png', '04078_high.png', '04079_low.png', '04080_medium.png', '04081_high.png', '04082_low.png', '04083_medium.png', '04084_high.png', '04085_low.png', '04086_medium.png', '04087_high.png', '04088_low.png', '04089_medium.png', '04090_high.png', '04091_low.png', '04092_medium.png', '04093_high.png', '04094_low.png', '04095_medium.png', '04096_high.png', '04097_low.png', '04098_medium.png', '04099_high.png', '04100_low.png', '04101_medium.png', '04102_high.png', '04103_low.png', '04104_medium.png', '04105_high.png', '04106_low.png', '04107_medium.png', '04108_high.png', '04109_low.png', '04110_medium.png', '04111_high.png', '04112_low.png', '04113_medium.png', '04114_high.png', '04115_low.png', '04116_medium.png', '04117_high.png', '04118_low.png', '04119_medium.png', '04120_high.png', '04121_low.png', '04122_medium.png', '04123_high.png', '04124_low.png', '04125_medium.png', '04126_high.png', '04127_low.png', '04128_medium.png', '04129_high.png', '04130_low.png', '04131_medium.png', '04132_high.png', '04133_low.png', '04134_medium.png', '04135_high.png', '04136_low.png', '04137_medium.png', '04138_high.png', '04139_low.png', '04140_medium.png', '04141_high.png', '04142_low.png', '04143_medium.png', '04144_high.png', '04145_low.png', '04146_medium.png', '04147_high.png', '04148_low.png', '04149_medium.png', '04150_high.png', '04151_low.png', '04152_medium.png', '04153_high.png', '04154_low.png', '04155_medium.png', '04156_high.png', '04157_low.png', '04158_medium.png', '04159_high.png', '04160_low.png', '04161_medium.png', '04162_high.png', '04163_low.png', '04164_medium.png', '04165_high.png', '04166_low.png', '04167_medium.png', '04168_high.png', '04169_low.png', '04170_medium.png', '04171_high.png', '04172_low.png', '04173_medium.png', '04174_high.png', '04175_low.png', '04176_medium.png', '04177_high.png', '04178_low.png', '04179_medium.png', '04180_high.png', '04181_low.png', '04182_medium.png', '04183_high.png', '04184_low.png', '04185_medium.png', '04186_high.png', '04187_low.png', '04188_medium.png', '04189_high.png', '04190_low.png', '04191_medium.png', '04192_high.png', '04193_low.png', '04194_medium.png', '04195_high.png', '04196_low.png', '04197_medium.png', '04198_high.png', '04199_low.png']\n"
          ]
        }
      ]
    },
    {
      "cell_type": "markdown",
      "source": [
        "# Resize images\n"
      ],
      "metadata": {
        "id": "xnAPchevbRE0"
      }
    },
    {
      "cell_type": "code",
      "source": [
        "#Check dimension image ---> fatto in locale perche impiegava troppo tempo\n",
        "\n",
        "# Definisci il percorso della cartella di destinazione\n",
        "percorso_destinazione_A = '/content/drive/MyDrive/Haze-Fog-suppression/pix2pixHD/datasets/nebbia/train_A/'\n",
        "percorso_destinazione_B = '/content/drive/MyDrive/Haze-Fog-suppression/pix2pixHD/datasets/nebbia/train_B/'\n",
        "\n",
        "file_ordinati = sorted(os.listdir(percorso_destinazione_A))\n",
        "count=0\n",
        "file = open(\"lista_img.txt\", \"w\")\n",
        "for nome_file in file_ordinati:\n",
        "    input = os.path.join(percorso_destinazione_A, nome_file)\n",
        "    output = os.path.join(percorso_destinazione_B, nome_file)\n",
        "    i = cv2.imread(input)\n",
        "    o = cv2.imread(output)\n",
        "    if i.shape != (768, 1024, 3):\n",
        "      file.write(nome_file + \"\\n\")\n",
        "    if o.shape != (768, 1024, 3):\n",
        "      file.write(nome_file + \"\\n\")\n",
        "    count += 1\n",
        "    if count % 1000 == 0:\n",
        "      print(count)\n",
        "file.close()\n"
      ],
      "metadata": {
        "id": "Vjy74SQYbaVP",
        "outputId": "2e404fc6-7d9e-4992-c9bb-e3c397bdf556",
        "colab": {
          "base_uri": "https://localhost:8080/",
          "height": 232
        }
      },
      "execution_count": null,
      "outputs": [
        {
          "output_type": "error",
          "ename": "KeyboardInterrupt",
          "evalue": "ignored",
          "traceback": [
            "\u001b[0;31m---------------------------------------------------------------------------\u001b[0m",
            "\u001b[0;31mKeyboardInterrupt\u001b[0m                         Traceback (most recent call last)",
            "\u001b[0;32m<ipython-input-50-10853d6534f8>\u001b[0m in \u001b[0;36m<cell line: 8>\u001b[0;34m()\u001b[0m\n\u001b[1;32m     10\u001b[0m     \u001b[0moutput\u001b[0m \u001b[0;34m=\u001b[0m \u001b[0mos\u001b[0m\u001b[0;34m.\u001b[0m\u001b[0mpath\u001b[0m\u001b[0;34m.\u001b[0m\u001b[0mjoin\u001b[0m\u001b[0;34m(\u001b[0m\u001b[0mpercorso_destinazione_B\u001b[0m\u001b[0;34m,\u001b[0m \u001b[0mnome_file\u001b[0m\u001b[0;34m)\u001b[0m\u001b[0;34m\u001b[0m\u001b[0;34m\u001b[0m\u001b[0m\n\u001b[1;32m     11\u001b[0m     \u001b[0mi\u001b[0m \u001b[0;34m=\u001b[0m \u001b[0mcv2\u001b[0m\u001b[0;34m.\u001b[0m\u001b[0mimread\u001b[0m\u001b[0;34m(\u001b[0m\u001b[0minput\u001b[0m\u001b[0;34m)\u001b[0m\u001b[0;34m\u001b[0m\u001b[0;34m\u001b[0m\u001b[0m\n\u001b[0;32m---> 12\u001b[0;31m     \u001b[0mo\u001b[0m \u001b[0;34m=\u001b[0m \u001b[0mcv2\u001b[0m\u001b[0;34m.\u001b[0m\u001b[0mimread\u001b[0m\u001b[0;34m(\u001b[0m\u001b[0moutput\u001b[0m\u001b[0;34m)\u001b[0m\u001b[0;34m\u001b[0m\u001b[0;34m\u001b[0m\u001b[0m\n\u001b[0m\u001b[1;32m     13\u001b[0m     \u001b[0;32mif\u001b[0m \u001b[0mi\u001b[0m\u001b[0;34m.\u001b[0m\u001b[0mshape\u001b[0m \u001b[0;34m!=\u001b[0m \u001b[0;34m(\u001b[0m\u001b[0;36m768\u001b[0m\u001b[0;34m,\u001b[0m \u001b[0;36m1024\u001b[0m\u001b[0;34m,\u001b[0m \u001b[0;36m3\u001b[0m\u001b[0;34m)\u001b[0m\u001b[0;34m:\u001b[0m\u001b[0;34m\u001b[0m\u001b[0;34m\u001b[0m\u001b[0m\n\u001b[1;32m     14\u001b[0m       \u001b[0mfile\u001b[0m\u001b[0;34m.\u001b[0m\u001b[0mwrite\u001b[0m\u001b[0;34m(\u001b[0m\u001b[0mnome_file\u001b[0m \u001b[0;34m+\u001b[0m \u001b[0;34m\"\\n\"\u001b[0m\u001b[0;34m)\u001b[0m\u001b[0;34m\u001b[0m\u001b[0;34m\u001b[0m\u001b[0m\n",
            "\u001b[0;31mKeyboardInterrupt\u001b[0m: "
          ]
        }
      ]
    },
    {
      "cell_type": "code",
      "source": [
        "#Resize images already processed\n",
        "\n",
        "# Definisci il percorso della cartella di destinazione\n",
        "percorso_destinazione_A = '/content/drive/MyDrive/Haze-Fog-suppression/dataset/train_A/'\n",
        "percorso_destinazione_B = '/content/drive/MyDrive/Haze-Fog-suppression/dataset/train_B/'\n",
        "new_width = 1024\n",
        "new_height = 768\n",
        "\n",
        "\n",
        "#lettura file da modificare\n",
        "file = open(\"lista_img.txt\", \"r\")\n",
        "lines = file.readlines()\n",
        "lines = [line.rstrip() for line in lines]\n",
        "file.close()\n",
        "\n",
        "for nome_file in lines:\n",
        "  input_low = percorso_destinazione_A + nome_file[:-4] + \"_\" + 'low.png'\n",
        "  output_low = percorso_destinazione_B + nome_file[:-4] + \"_\" + 'low.png'\n",
        "  input_medium = percorso_destinazione_A + nome_file[:-4] + \"_\" + 'medium.png'\n",
        "  output_medium = percorso_destinazione_B + nome_file[:-4] + \"_\" + 'medium.png'\n",
        "  input_high = percorso_destinazione_A + nome_file[:-4] + \"_\" + 'high.png'\n",
        "  output_high = percorso_destinazione_B + nome_file[:-4] + \"_\" + 'high.png'\n",
        "\n",
        "  # Per l'immagine di input di bassa qualità\n",
        "  image_input_low = cv2.imread(input_low)\n",
        "  resized_image_input_low = cv2.resize(image_input_low, (new_width, new_height))\n",
        "  os.remove(input_low)\n",
        "  cv2.imwrite(input_low, resized_image_input_low)\n",
        "\n",
        "  # Per l'immagine di output di bassa qualità\n",
        "  image_output_low = cv2.imread(output_low)\n",
        "  resized_image_output_low = cv2.resize(image_output_low, (new_width, new_height))\n",
        "  os.remove(output_low)\n",
        "  cv2.imwrite(output_low, resized_image_output_low)\n",
        "\n",
        "  # Per l'immagine di input di media qualità\n",
        "  image_input_medium = cv2.imread(input_medium)\n",
        "  resized_image_input_medium = cv2.resize(image_input_medium, (new_width, new_height))\n",
        "  os.remove(input_medium)\n",
        "  cv2.imwrite(input_medium, resized_image_input_medium)\n",
        "\n",
        "  # Per l'immagine di output di media qualità\n",
        "  image_output_medium = cv2.imread(output_medium)\n",
        "  resized_image_output_medium = cv2.resize(image_output_medium, (new_width, new_height))\n",
        "  os.remove(output_medium)\n",
        "  cv2.imwrite(output_medium, resized_image_output_medium)\n",
        "\n",
        "  # Per l'immagine di input di alta qualità\n",
        "  image_input_high = cv2.imread(input_high)\n",
        "  resized_image_input_high = cv2.resize(image_input_high, (new_width, new_height))\n",
        "  os.remove(input_high)\n",
        "  cv2.imwrite(input_high, resized_image_input_high)\n",
        "\n",
        "  # Per l'immagine di output di alta qualità\n",
        "  image_output_high = cv2.imread(output_high)\n",
        "  resized_image_output_high = cv2.resize(image_output_high, (new_width, new_height))\n",
        "  os.remove(output_high)\n",
        "  cv2.imwrite(output_high, resized_image_output_high)\n"
      ],
      "metadata": {
        "id": "G-hi1MWItiof"
      },
      "execution_count": 5,
      "outputs": []
    },
    {
      "cell_type": "code",
      "source": [
        "percorso_destinazione_A = '/content/drive/MyDrive/Haze-Fog-suppression/pix2pixHD/datasets/nebbia/train_A/'\n",
        "input_low = percorso_destinazione_B + \"01301\" + \"_\" + 'high.png'\n",
        "image_input_low = cv2.imread(input_low)\n",
        "print(image_input_low.shape)\n"
      ],
      "metadata": {
        "id": "_l3xubsQUPXp",
        "outputId": "d65e984d-86af-4c95-911d-1776159b3aa5",
        "colab": {
          "base_uri": "https://localhost:8080/"
        }
      },
      "execution_count": null,
      "outputs": [
        {
          "output_type": "stream",
          "name": "stdout",
          "text": [
            "(768, 1024, 3)\n"
          ]
        }
      ]
    }
  ]
}