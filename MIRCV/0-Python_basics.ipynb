{
 "cells": [
  {
   "cell_type": "markdown",
   "metadata": {},
   "source": [
    "# Python basics\n",
    "\n",
    "The objective of this exercise is to help you familiarize yourself with the environment that will be used throughout this course.\n",
    "\n",
    "This course will assume that you have at least a basic familiarity with programming in Python. You can consider this exercise a simple test of your Python knowledge. If you manage to complete the tasks, you should have no issues with the programming side of things; otherwise...\n",
    "\n",
    "Exercises will assume that you have Python 3.7+ installed using the Anaconda distribution.\n",
    "\n",
    "Additionally, you need to install the `ipytest` package, which adds magic commands that make it easier to define tests directly inside a notebook using the standard unittest framework. You can install it either using [conda](https://anaconda.org/conda-forge/ipytest) or using pip: `pip install ipytest`. "
   ]
  },
  {
   "cell_type": "code",
   "execution_count": 3,
   "metadata": {},
   "outputs": [
    {
     "ename": "ModuleNotFoundError",
     "evalue": "No module named 'ipytest'",
     "output_type": "error",
     "traceback": [
      "\u001b[0;31m---------------------------------------------------------------------------\u001b[0m",
      "\u001b[0;31mModuleNotFoundError\u001b[0m                       Traceback (most recent call last)",
      "Input \u001b[0;32mIn [3]\u001b[0m, in \u001b[0;36m<cell line: 4>\u001b[0;34m()\u001b[0m\n\u001b[1;32m      1\u001b[0m \u001b[38;5;66;03m#!pip3 install ipytest\u001b[39;00m\n\u001b[1;32m      3\u001b[0m \u001b[38;5;28;01mfrom\u001b[39;00m \u001b[38;5;21;01mtyping\u001b[39;00m \u001b[38;5;28;01mimport\u001b[39;00m List\n\u001b[0;32m----> 4\u001b[0m \u001b[38;5;28;01mimport\u001b[39;00m \u001b[38;5;21;01mipytest\u001b[39;00m\n\u001b[1;32m      6\u001b[0m ipytest\u001b[38;5;241m.\u001b[39mautoconfig()\n",
      "\u001b[0;31mModuleNotFoundError\u001b[0m: No module named 'ipytest'"
     ]
    }
   ],
   "source": [
    "#!pip3 install ipytest\n",
    "\n",
    "from typing import List\n",
    "import ipytest\n",
    "\n",
    "ipytest.autoconfig()"
   ]
  },
  {
   "cell_type": "markdown",
   "metadata": {},
   "source": [
    "## Task 1\n",
    "\n",
    "Write a method that checks whether a string is a [palindrome](https://en.wikipedia.org/wiki/Palindrome).\n",
    "Testing should be done case-insensitive.\n",
    "(Note: an empty string is also a palindrome, since it \"reads\" the same forward and backward.)"
   ]
  },
  {
   "cell_type": "markdown",
   "metadata": {},
   "source": [
    "### Solution"
   ]
  },
  {
   "cell_type": "code",
   "execution_count": 1,
   "metadata": {},
   "outputs": [],
   "source": [
    "def is_palindrome(text: str) -> bool:\n",
    "    \"\"\"Returns whether text is a palindrome or not.\"\"\"\n",
    "    # Your solution here\n",
    "    if str.lower() == str.lower()[::-1]:\n",
    "        return True\n",
    "    return False"
   ]
  },
  {
   "cell_type": "markdown",
   "metadata": {},
   "source": [
    "Test your implementation."
   ]
  },
  {
   "cell_type": "code",
   "execution_count": 2,
   "metadata": {},
   "outputs": [
    {
     "name": "stderr",
     "output_type": "stream",
     "text": [
      "UsageError: Cell magic `%%ipytest` not found.\n"
     ]
    }
   ],
   "source": [
    "%%ipytest\n",
    "\n",
    "def test_empty_string():\n",
    "    assert is_palindrome(\"\")\n",
    "    \n",
    "def test_single_character():\n",
    "    assert is_palindrome(\"a\")\n",
    "\n",
    "def test_same_characters():\n",
    "    assert is_palindrome(\"aa\")\n",
    "    \n",
    "def test_not_palindrome_even():\n",
    "    assert not is_palindrome(\"ab\")\n",
    "\n",
    "def test_not_palindrome_odd():\n",
    "    assert not is_palindrome(\"abc\")\n",
    "    \n",
    "def test_palindrome_even():\n",
    "    assert is_palindrome(\"abba\")\n",
    "    \n",
    "def test_palindrome_odd():\n",
    "    assert is_palindrome(\"aba\")\n",
    "\n",
    "def test_palindrome_even_cased():\n",
    "    assert is_palindrome(\"AbBa\")\n",
    "    \n",
    "def test_palindrome_odd_cased():\n",
    "    assert is_palindrome(\"abA\")"
   ]
  },
  {
   "cell_type": "markdown",
   "metadata": {},
   "source": [
    "## Task 2\n",
    "\n",
    "Given a list of strings, return the string that appears most frequently in the list. In case there are multiple such strings, return the one that appeared first in the list. For an empty input list, return a None value."
   ]
  },
  {
   "cell_type": "markdown",
   "metadata": {},
   "source": [
    "### Solution"
   ]
  },
  {
   "cell_type": "code",
   "execution_count": null,
   "metadata": {},
   "outputs": [],
   "source": [
    "def get_most_frequent_element(lst: List[str]) -> str:\n",
    "    \"\"\"Returns the most frequent element in a list.\"\"\"\n",
    "    # Your solution here    "
   ]
  },
  {
   "cell_type": "markdown",
   "metadata": {},
   "source": [
    "Test your implementation."
   ]
  },
  {
   "cell_type": "code",
   "execution_count": null,
   "metadata": {},
   "outputs": [],
   "source": [
    "%%run_pytest[clean]\n",
    "\n",
    "def test_empty_list():\n",
    "    assert get_most_frequent_element([]) == None\n",
    "\n",
    "def test_single_element():\n",
    "    assert get_most_frequent_element([\"a\"]) == \"a\"\n",
    "\n",
    "def test_two_elements():\n",
    "    assert get_most_frequent_element([\"a\", \"b\", \"b\"]) == \"b\"\n",
    "\n",
    "def test_ties():\n",
    "    assert get_most_frequent_element([\"a\", \"b\", \"b\", \"c\", \"b\", \"a\", \"d\", \"c\", \"c\"]) == \"b\"    "
   ]
  }
 ],
 "metadata": {
  "kernelspec": {
   "display_name": "Python 3 (ipykernel)",
   "language": "python",
   "name": "python3"
  },
  "language_info": {
   "codemirror_mode": {
    "name": "ipython",
    "version": 3
   },
   "file_extension": ".py",
   "mimetype": "text/x-python",
   "name": "python",
   "nbconvert_exporter": "python",
   "pygments_lexer": "ipython3",
   "version": "3.9.12"
  },
  "vscode": {
   "interpreter": {
    "hash": "6c5e4a7eaa80b8b0cab0ebfd023b62b4fb81ced96acf97d50ef5e35c1384dc27"
   }
  }
 },
 "nbformat": 4,
 "nbformat_minor": 2
}
