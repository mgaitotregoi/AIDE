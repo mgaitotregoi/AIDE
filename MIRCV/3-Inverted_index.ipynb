{
 "cells": [
  {
   "cell_type": "markdown",
   "metadata": {},
   "source": [
    "# Building an inverted index\n",
    "\n",
    "  - You are given a sample (1000 documents) from the [The Reuters-21578 data collection](http://www.daviddlewis.com/resources/testcollections/reuters21578/) in `data/reuters21578-000.xml`\n",
    "  - The code that parses the XML and extract a list of preprocessed terms (tokenized, lowercased, stopwords removed) is already given\n",
    "  - You are also given an `InvertedIndex` class that manages the posting lists operations\n",
    "  - Your task is to build an inverted index from the input collection."
   ]
  },
  {
   "cell_type": "code",
   "execution_count": 121,
   "metadata": {},
   "outputs": [],
   "source": [
    "import ipytest\n",
    "import re\n",
    "import sys\n",
    "\n",
    "from typing import List, Dict, Union, Any, Callable\n",
    "from collections import Counter, defaultdict\n",
    "from xml.dom import minidom\n",
    "from dataclasses import dataclass\n",
    "\n",
    "ipytest.autoconfig()"
   ]
  },
  {
   "cell_type": "markdown",
   "metadata": {},
   "source": [
    "## Parsing documents"
   ]
  },
  {
   "cell_type": "markdown",
   "metadata": {},
   "source": [
    "Stopwords list"
   ]
  },
  {
   "cell_type": "code",
   "execution_count": 122,
   "metadata": {},
   "outputs": [],
   "source": [
    "STOPWORDS = [\"a\", \"an\", \"and\", \"are\", \"as\", \"at\", \"be\", \"but\", \"by\", \"for\", \"if\", \"in\", \"into\", \"is\", \"it\", \"no\", \"not\", \"of\", \"on\", \"or\", \"such\", \"that\", \"the\", \"their\", \"then\", \"there\", \"these\", \"they\", \"this\", \"to\", \"was\", \"will\", \"with\"]"
   ]
  },
  {
   "cell_type": "markdown",
   "metadata": {},
   "source": [
    "Stripping tags inside <> using regex"
   ]
  },
  {
   "cell_type": "code",
   "execution_count": 123,
   "metadata": {},
   "outputs": [],
   "source": [
    "def striptags(text: str) -> str:\n",
    "    \"\"\"Removes xml tags.\n",
    "\n",
    "    Args:\n",
    "        text: Text string with xml tags.\n",
    "\n",
    "    Returns:\n",
    "        String without xml tags.\n",
    "    \"\"\"\n",
    "    p = re.compile(r\"<.*?>\")\n",
    "    return p.sub(\"\", text)"
   ]
  },
  {
   "cell_type": "markdown",
   "metadata": {},
   "source": [
    "Parse input text and return a list of indexable terms"
   ]
  },
  {
   "cell_type": "code",
   "execution_count": 124,
   "metadata": {},
   "outputs": [],
   "source": [
    "def parse(text: str) -> List[str]:\n",
    "    \"\"\"Parses documents and removes xml tags and punctuation.\n",
    "\n",
    "    Args:\n",
    "        text: Text to parse.\n",
    "\n",
    "    Returns:\n",
    "        List of tokens.\n",
    "    \"\"\"\n",
    "    terms = []\n",
    "    # Replace specific characters with space\n",
    "    chars = [\"'\", \".\", \":\", \",\", \"!\", \"?\", \"(\", \")\"]\n",
    "    for ch in chars:\n",
    "        text = text.replace(ch, \" \")\n",
    "\n",
    "    # Remove tags\n",
    "    text = striptags(text)\n",
    "\n",
    "    # Tokenization\n",
    "    # default behavior of the split is to split on one or more whitespaces\n",
    "    return [term.lower() for term in text.split() if term not in STOPWORDS]"
   ]
  },
  {
   "cell_type": "markdown",
   "metadata": {},
   "source": [
    "## Processing the input document collection\n",
    "\n",
    "  - The collection is given as a single XML file. \n",
    "  - Each document is inside `<REUTERS ...> </REUTERS>`.\n",
    "  - We extract the contents of the `<DATE>`, `<TITLE>`, and `<BODY>` tags.\n",
    "  - After each extracted document, the provided callback function is called and all document data is passed in a single dict argument."
   ]
  },
  {
   "cell_type": "code",
   "execution_count": 125,
   "metadata": {},
   "outputs": [],
   "source": [
    "def process_collection(input_file:str, callback: Callable) -> None:\n",
    "    \"\"\"Processes file and calls the callback function for each document in the\n",
    "    file.\n",
    "\n",
    "    Args:\n",
    "        input_file: Path to file to process.\n",
    "        callback: Function that will be called for each document.\n",
    "    \"\"\"\n",
    "    xmldoc = minidom.parse(input_file)\n",
    "    # Iterate documents in the XML file\n",
    "    itemlist = xmldoc.getElementsByTagName(\"REUTERS\")\n",
    "    for doc_id, doc in enumerate(itemlist):\n",
    "        date = doc.getElementsByTagName(\"DATE\")[0].firstChild.nodeValue\n",
    "        # Skip documents without a title or body\n",
    "        if not (doc.getElementsByTagName(\"TITLE\") and doc.getElementsByTagName(\"BODY\")):\n",
    "            continue\n",
    "        title = doc.getElementsByTagName(\"TITLE\")[0].firstChild.nodeValue\n",
    "        body = doc.getElementsByTagName(\"BODY\")[0].firstChild.nodeValue\n",
    "        callback({\n",
    "            \"doc_id\": doc_id+1,\n",
    "            \"date\": date,\n",
    "            \"title\": title,\n",
    "            \"body\": body\n",
    "            })"
   ]
  },
  {
   "cell_type": "markdown",
   "metadata": {},
   "source": [
    "Prints a document\"s contents (used as a callback function passed to `process_collection`)"
   ]
  },
  {
   "cell_type": "code",
   "execution_count": 126,
   "metadata": {},
   "outputs": [],
   "source": [
    "def print_doc(doc: Dict[str, Union[str, int]]) -> None:\n",
    "    \"\"\"Print details of the first 5 documents.\n",
    "\n",
    "    Args:\n",
    "        doc: Dictionary with document details.\n",
    "    \"\"\"\n",
    "    if doc[\"doc_id\"] <= 5:  # print only the first 5 documents\n",
    "        print(\"docID:\", doc[\"doc_id\"])\n",
    "        print(\"date:\", doc[\"date\"])\n",
    "        print(\"title:\", doc[\"title\"])\n",
    "        print(\"body:\", doc[\"body\"])\n",
    "        print(\"--\")"
   ]
  },
  {
   "cell_type": "code",
   "execution_count": 127,
   "metadata": {},
   "outputs": [
    {
     "name": "stdout",
     "output_type": "stream",
     "text": [
      "docID: 1\n",
      "date: 26-FEB-1987 15:01:01.79\n",
      "title: BAHIA COCOA REVIEW\n",
      "body: Showers continued throughout the week in\n",
      "the Bahia cocoa zone, alleviating the drought since early\n",
      "January and improving prospects for the coming temporao,\n",
      "although normal humidity levels have not been restored,\n",
      "Comissaria Smith said in its weekly review.\n",
      "    The dry period means the temporao will be late this year.\n",
      "    Arrivals for the week ended February 22 were 155,221 bags\n",
      "of 60 kilos making a cumulative total for the season of 5.93\n",
      "mln against 5.81 at the same stage last year. Again it seems\n",
      "that cocoa delivered earlier on consignment was included in the\n",
      "arrivals figures.\n",
      "    Comissaria Smith said there is still some doubt as to how\n",
      "much old crop cocoa is still available as harvesting has\n",
      "practically come to an end. With total Bahia crop estimates\n",
      "around 6.4 mln bags and sales standing at almost 6.2 mln there\n",
      "are a few hundred thousand bags still in the hands of farmers,\n",
      "middlemen, exporters and processors.\n",
      "    There are doubts as to how much of this cocoa would be fit\n",
      "for export as shippers are now experiencing dificulties in\n",
      "obtaining +Bahia superior+ certificates.\n",
      "    In view of the lower quality over recent weeks farmers have\n",
      "sold a good part of their cocoa held on consignment.\n",
      "    Comissaria Smith said spot bean prices rose to 340 to 350\n",
      "cruzados per arroba of 15 kilos.\n",
      "    Bean shippers were reluctant to offer nearby shipment and\n",
      "only limited sales were booked for March shipment at 1,750 to\n",
      "1,780 dlrs per tonne to ports to be named.\n",
      "    New crop sales were also light and all to open ports with\n",
      "June/July going at 1,850 and 1,880 dlrs and at 35 and 45 dlrs\n",
      "under New York july, Aug/Sept at 1,870, 1,875 and 1,880 dlrs\n",
      "per tonne FOB.\n",
      "    Routine sales of butter were made. March/April sold at\n",
      "4,340, 4,345 and 4,350 dlrs.\n",
      "    April/May butter went at 2.27 times New York May, June/July\n",
      "at 4,400 and 4,415 dlrs, Aug/Sept at 4,351 to 4,450 dlrs and at\n",
      "2.27 and 2.28 times New York Sept and Oct/Dec at 4,480 dlrs and\n",
      "2.27 times New York Dec, Comissaria Smith said.\n",
      "    Destinations were the U.S., Covertible currency areas,\n",
      "Uruguay and open ports.\n",
      "    Cake sales were registered at 785 to 995 dlrs for\n",
      "March/April, 785 dlrs for May, 753 dlrs for Aug and 0.39 times\n",
      "New York Dec for Oct/Dec.\n",
      "    Buyers were the U.S., Argentina, Uruguay and convertible\n",
      "currency areas.\n",
      "    Liquor sales were limited with March/April selling at 2,325\n",
      "and 2,380 dlrs, June/July at 2,375 dlrs and at 1.25 times New\n",
      "York July, Aug/Sept at 2,400 dlrs and at 1.25 times New York\n",
      "Sept and Oct/Dec at 1.25 times New York Dec, Comissaria Smith\n",
      "said.\n",
      "    Total Bahia sales are currently estimated at 6.13 mln bags\n",
      "against the 1986/87 crop and 1.06 mln bags against the 1987/88\n",
      "crop.\n",
      "    Final figures for the period to February 28 are expected to\n",
      "be published by the Brazilian Cocoa Trade Commission after\n",
      "carnival which ends midday on February 27.\n",
      " Reuter\n",
      "\n",
      "--\n",
      "docID: 2\n",
      "date: 26-FEB-1987 15:02:20.00\n",
      "title: STANDARD OIL <SRD> TO FORM FINANCIAL UNIT\n",
      "body: Standard Oil Co and BP North America\n",
      "Inc said they plan to form a venture to manage the money market\n",
      "borrowing and investment activities of both companies.\n",
      "    BP North America is a subsidiary of British Petroleum Co\n",
      "Plc <BP>, which also owns a 55 pct interest in Standard Oil.\n",
      "    The venture will be called BP/Standard Financial Trading\n",
      "and will be operated by Standard Oil under the oversight of a\n",
      "joint management committee.\n",
      "\n",
      " Reuter\n",
      "\n",
      "--\n",
      "docID: 3\n",
      "date: 26-FEB-1987 15:03:27.51\n",
      "title: TEXAS COMMERCE BANCSHARES <TCB> FILES PLAN\n",
      "body: Texas Commerce Bancshares Inc's Texas\n",
      "Commerce Bank-Houston said it filed an application with the\n",
      "Comptroller of the Currency in an effort to create the largest\n",
      "banking network in Harris County.\n",
      "    The bank said the network would link 31 banks having\n",
      "13.5 billion dlrs in assets and 7.5 billion dlrs in deposits.\n",
      "       \n",
      " Reuter\n",
      "\n",
      "--\n",
      "docID: 4\n",
      "date: 26-FEB-1987 15:07:13.72\n",
      "title: TALKING POINT/BANKAMERICA <BAC> EQUITY OFFER\n",
      "body: BankAmerica Corp is not under\n",
      "pressure to act quickly on its proposed equity offering and\n",
      "would do well to delay it because of the stock's recent poor\n",
      "performance, banking analysts said.\n",
      "    Some analysts said they have recommended BankAmerica delay\n",
      "its up to one-billion-dlr equity offering, which has yet to be\n",
      "approved by the Securities and Exchange Commission.\n",
      "    BankAmerica stock fell this week, along with other banking\n",
      "issues, on the news that Brazil has suspended interest payments\n",
      "on a large portion of its foreign debt.\n",
      "    The stock traded around 12, down 1/8, this afternoon,\n",
      "after falling to 11-1/2 earlier this week on the news.\n",
      "    Banking analysts said that with the immediate threat of the\n",
      "First Interstate Bancorp <I> takeover bid gone, BankAmerica is\n",
      "under no pressure to sell the securities into a market that\n",
      "will be nervous on bank stocks in the near term.\n",
      "    BankAmerica filed the offer on January 26. It was seen as\n",
      "one of the major factors leading the First Interstate\n",
      "withdrawing its takeover bid on February 9.\n",
      "    A BankAmerica spokesman said SEC approval is taking longer\n",
      "than expected and market conditions must now be re-evaluated.\n",
      "    \"The circumstances at the time will determine what we do,\"\n",
      "said Arthur Miller, BankAmerica's Vice President for Financial\n",
      "Communications, when asked if BankAmerica would proceed with\n",
      "the offer immediately after it receives SEC approval.\n",
      "    \"I'd put it off as long as they conceivably could,\" said\n",
      "Lawrence Cohn, analyst with Merrill Lynch, Pierce, Fenner and\n",
      "Smith.\n",
      "    Cohn said the longer BankAmerica waits, the longer they\n",
      "have to show the market an improved financial outlook.\n",
      "    Although BankAmerica has yet to specify the types of\n",
      "equities it would offer, most analysts believed a convertible\n",
      "preferred stock would encompass at least part of it.\n",
      "    Such an offering at a depressed stock price would mean a\n",
      "lower conversion price and more dilution to BankAmerica stock\n",
      "holders, noted Daniel Williams, analyst with Sutro Group.\n",
      "    Several analysts said that while they believe the Brazilian\n",
      "debt problem will continue to hang over the banking industry\n",
      "through the quarter, the initial shock reaction is likely to\n",
      "ease over the coming weeks.\n",
      "    Nevertheless, BankAmerica, which holds about 2.70 billion\n",
      "dlrs in Brazilian loans, stands to lose 15-20 mln dlrs if the\n",
      "interest rate is reduced on the debt, and as much as 200 mln\n",
      "dlrs if Brazil pays no interest for a year, said Joseph\n",
      "Arsenio, analyst with Birr, Wilson and Co.\n",
      "    He noted, however, that any potential losses would not show\n",
      "up in the current quarter.\n",
      "    With other major banks standing to lose even more than\n",
      "BankAmerica if Brazil fails to service its debt, the analysts\n",
      "said they expect the debt will be restructured, similar to way\n",
      "Mexico's debt was, minimizing losses to the creditor banks.\n",
      " Reuter\n",
      "\n",
      "--\n",
      "docID: 5\n",
      "date: 26-FEB-1987 15:10:44.60\n",
      "title: NATIONAL AVERAGE PRICES FOR FARMER-OWNED RESERVE\n",
      "body: The U.S. Agriculture Department\n",
      "reported the farmer-owned reserve national five-day average\n",
      "price through February 25 as follows (Dlrs/Bu-Sorghum Cwt) -\n",
      "         Natl   Loan           Release   Call\n",
      "         Avge   Rate-X  Level    Price  Price\n",
      " Wheat   2.55   2.40       IV     4.65     --\n",
      "                            V     4.65     --\n",
      "                           VI     4.45     --\n",
      " Corn    1.35   1.92       IV     3.15   3.15\n",
      "                            V     3.25     --\n",
      " X - 1986 Rates.\n",
      "\n",
      "          Natl   Loan          Release   Call\n",
      "          Avge   Rate-X  Level   Price  Price\n",
      " Oats     1.24   0.99        V    1.65    -- \n",
      " Barley   n.a.   1.56       IV    2.55   2.55\n",
      "                             V    2.65    -- \n",
      " Sorghum  2.34   3.25-Y     IV    5.36   5.36\n",
      "                             V    5.54    -- \n",
      "    Reserves I, II and III have matured. Level IV reflects\n",
      "grain entered after Oct 6, 1981 for feedgrain and after July\n",
      "23, 1981 for wheat. Level V wheat/barley after 5/14/82,\n",
      "corn/sorghum after 7/1/82. Level VI covers wheat entered after\n",
      "January 19, 1984.  X-1986 rates. Y-dlrs per CWT (100 lbs).\n",
      "n.a.-not available.\n",
      " Reuter\n",
      "\n",
      "--\n"
     ]
    }
   ],
   "source": [
    "process_collection(\"data/reuters21578-000.xml\", print_doc)"
   ]
  },
  {
   "cell_type": "markdown",
   "metadata": {},
   "source": [
    "## Task 1: Complete the inverted index class\n",
    "\n",
    "  - The inverted index is an object with methods for adding and fetching postings.\n",
    "  - The data is stored in a map, where keys are terms and values are lists of postings.\n",
    "  - Each posting is an object that holds the doc_id and an optional payload."
   ]
  },
  {
   "cell_type": "code",
   "execution_count": 128,
   "metadata": {},
   "outputs": [],
   "source": [
    "# Since this is a simple data class, intializing it can be abstracted with\n",
    "# the use of dataclass decorator.\n",
    "# https://docs.python.org/3/library/dataclasses.html\n",
    "\n",
    "@dataclass\n",
    "class Posting:\n",
    "    doc_id: int\n",
    "    payload: Any = None\n",
    "    \n",
    "    def __init__(self, doc_id: int, payload: Any=None):\n",
    "        self.doc_id = doc_id\n",
    "        self.payload = payload"
   ]
  },
  {
   "cell_type": "code",
   "execution_count": 129,
   "metadata": {},
   "outputs": [],
   "source": [
    "class InvertedIndex:\n",
    "\n",
    "    def __init__(self):\n",
    "        self._index = defaultdict(list)\n",
    "    \n",
    "    def add_posting(self, term: str, doc_id: int, payload: Any=None) -> None:\n",
    "        \"\"\"Adds a document to the posting list of a term.\"\"\"\n",
    "        # append new posting to the posting list\n",
    "        # TODO: append new posting to the posting list\n",
    "        post = Posting(doc_id,payload)\n",
    "        self._index[term].append(post)\n",
    "        \n",
    "    def get_postings(self, term: str) -> List[Posting]:\n",
    "        \"\"\"Fetches the posting list for a given term.\"\"\"\n",
    "        # TODO: complete\n",
    "        if term in self._index.keys():\n",
    "            return self._index[term]\n",
    "        return None\n",
    "\n",
    "    def get_terms(self) -> List[str]:\n",
    "        \"\"\"Returns all unique terms in the index.\"\"\"\n",
    "        return self._index.keys() \n",
    "    \n",
    "    def write_to_file(self, filename: str):\n",
    "        f = open(filename, \"w\")\n",
    "        for term in self._index.keys():\n",
    "            line = term + \" \"\n",
    "            posting = self.get_postings(term)\n",
    "            for i in range(len(posting)):\n",
    "                line = line + str(posting[i].doc_id) + \":\" + str(posting[i].payload) + \" \"\n",
    "            line = line + \"\\n\"\n",
    "            f.write(line)\n",
    "        f.close()\n",
    "        \n",
    "    def get_dim(self) -> int:\n",
    "        count = 0\n",
    "        for term in self._index.keys():\n",
    "            line = term + \" \"\n",
    "            posting = self.get_postings(term)\n",
    "            for i in range(len(posting)):\n",
    "                line = line + str(posting[i].doc_id) + \":\" + str(posting[i].payload) + \" \"\n",
    "            count = count + len(line.encode('utf-8'))\n",
    "        return count"
   ]
  },
  {
   "cell_type": "markdown",
   "metadata": {},
   "source": [
    "Tests."
   ]
  },
  {
   "cell_type": "code",
   "execution_count": 130,
   "metadata": {},
   "outputs": [
    {
     "name": "stdout",
     "output_type": "stream",
     "text": [
      "\u001B[32m.\u001B[0m\u001B[32m.\u001B[0m\u001B[32m                                                                                           [100%]\u001B[0m\n",
      "\u001B[32m\u001B[32m\u001B[1m2 passed\u001B[0m\u001B[32m in 0.03s\u001B[0m\u001B[0m\n"
     ]
    }
   ],
   "source": [
    "%%ipytest\n",
    "\n",
    "def test_postings():\n",
    "    ind = InvertedIndex()\n",
    "    ind.add_posting(\"term\", 1, 1)\n",
    "    ind.add_posting(\"term\", 2, 4)\n",
    "    # Testing existing term\n",
    "    postings = ind.get_postings(\"term\")\n",
    "    assert len(postings) == 2\n",
    "    assert postings[0].doc_id == 1\n",
    "    assert postings[0].payload == 1\n",
    "    assert postings[1].doc_id == 2\n",
    "    assert postings[1].payload == 4\n",
    "    # Testing non-existent term\n",
    "    assert ind.get_postings(\"xyx\") is None\n",
    "\n",
    "def test_vocabulary():\n",
    "    ind = InvertedIndex()\n",
    "    ind.add_posting(\"term1\", 1)\n",
    "    ind.add_posting(\"term2\", 1)\n",
    "    ind.add_posting(\"term3\", 2)\n",
    "    ind.add_posting(\"term2\", 3)\n",
    "    assert set(ind.get_terms()) == set([\"term1\", \"term2\", \"term3\"])"
   ]
  },
  {
   "cell_type": "markdown",
   "metadata": {
    "collapsed": true
   },
   "source": [
    "## Task 2: Build an inverted index from the input collection\n",
    "\n",
    "**TODO**: Complete the code to index the entire document collection.  (The content for each document should be the title and body concatenated)"
   ]
  },
  {
   "cell_type": "code",
   "execution_count": 131,
   "metadata": {},
   "outputs": [],
   "source": [
    "ind = InvertedIndex()\n",
    "index_size = []\n",
    "\n",
    "def index_doc(doc: Dict[str, Union[str, int]]) -> None:\n",
    "    \"\"\"Index document by concatenating document title and body.\n",
    "\n",
    "    Args:\n",
    "        doc: Document details.\n",
    "    \"\"\"\n",
    "    inverted_index_dim = InvertedIndex()\n",
    "    \n",
    "    text = doc[\"title\"] + \" \" + doc[\"body\"]\n",
    "    terms = parse(text)  # list of terms in the document\n",
    "    # TODO: index the document (add all terms with freqs using `ind.add_posting()`)\n",
    "    dictionary = {}\n",
    "    for term in terms:\n",
    "        if term not in dictionary.keys():\n",
    "            dictionary[term] = 1\n",
    "        else:\n",
    "            dictionary[term] = dictionary[term] + 1\n",
    "            \n",
    "    for term in dictionary.keys():\n",
    "        inverted_index_dim.add_posting(term,doc[\"doc_id\"],dictionary[term])\n",
    "        ind.add_posting(term,doc[\"doc_id\"],dictionary[term])\n",
    "    index_size.append(inverted_index_dim.get_dim())\n",
    "process_collection(\"data/reuters21578-000.xml\", index_doc)"
   ]
  },
  {
   "cell_type": "markdown",
   "metadata": {},
   "source": [
    "## Task 3: Save the inverted index to a file"
   ]
  },
  {
   "cell_type": "markdown",
   "metadata": {},
   "source": [
    "Save the inverted index to a file (`data/index.dat`). Use a simple text format with `termID docID1:freq1 docID2:freq2 ...` per line, e.g.,\n",
    "\n",
    "```\n",
    "xxx 1:1 2:1 3:2\n",
    "yyy 2:1 4:2\n",
    "zzz 1:3 3:1 5:2\n",
    "...\n",
    "```\n",
    "\n",
    "Implement this by (1) adding a `write_to_file(self, filename)` method to the `InvertedIndex` class and then (2) invoking that method in the cell below."
   ]
  },
  {
   "cell_type": "code",
   "execution_count": 132,
   "metadata": {},
   "outputs": [],
   "source": [
    "# TODO\n",
    "ind.write_to_file(\"data/index.dat\")"
   ]
  },
  {
   "cell_type": "markdown",
   "metadata": {},
   "source": [
    "## Task 4 (advanced, optional): Plot collection size against index size"
   ]
  },
  {
   "cell_type": "markdown",
   "metadata": {},
   "source": [
    "Create a plot that compares the size of the document collection (bytes) against the size of the corresponding index (bytes) on the y-axis vs. with respect to the number of documents on the x-axis. You may use [Matplotlib](https://www.tutorialspoint.com/jupyter/jupyter_notebook_plotting.htm) for plotting."
   ]
  },
  {
   "cell_type": "markdown",
   "metadata": {},
   "source": [
    "In our solution, we create a different callback function and use that one for indexing."
   ]
  },
  {
   "cell_type": "code",
   "execution_count": 133,
   "metadata": {},
   "outputs": [
    {
     "name": "stderr",
     "output_type": "stream",
     "text": [
      "/Users/matteogiorgi/Documents/GitHub/MIRCV/venv/lib/python3.9/site-packages/IPython/core/pylabtools.py:151: UserWarning: This figure includes Axes that are not compatible with tight_layout, so results might be incorrect.\n",
      "  fig.canvas.print_figure(bytes_io, **kw)\n"
     ]
    },
    {
     "data": {
      "image/png": "[encoded data removed]",
      "text/plain": [
       "<Figure size 640x480 with 1 Axes>"
      ]
     },
     "metadata": {},
     "output_type": "display_data"
    }
   ],
   "source": [
    "# TODO\n",
    "doc_size = []\n",
    "def get_doc_size(doc: Dict[str, Union[str, int]]) -> None:\n",
    "    text = doc[\"title\"] + \" \" + doc[\"body\"]\n",
    "    doc_size.append(len(text.encode('utf-8')))\n",
    "    return None\n",
    "#get doc size\n",
    "    \n",
    "#get index size\n",
    "\n",
    "process_collection(\"data/reuters21578-000.xml\", get_doc_size)\n",
    "\n",
    "import matplotlib.pyplot as plt\n",
    "\n",
    "x = doc_size\n",
    "y = index_size\n",
    "index = list(range(len(doc_size)))\n",
    "plt.plot(index, x, label = \"doc_size\")\n",
    "plt.plot(index, y, label = \"index_size\")\n",
    "plt.legend()\n",
    "plt.show()"
   ]
  }
 ],
 "metadata": {
  "interpreter": {
   "hash": "d6a0b9ba27f634b55723b9a72ccf6e1561be2239a81593bce53747f2fee7a1a2"
  },
  "kernelspec": {
   "display_name": "Python 3 (ipykernel)",
   "language": "python",
   "name": "python3"
  },
  "language_info": {
   "codemirror_mode": {
    "name": "ipython",
    "version": 3
   },
   "file_extension": ".py",
   "mimetype": "text/x-python",
   "name": "python",
   "nbconvert_exporter": "python",
   "pygments_lexer": "ipython3",
   "version": "3.9.14"
  }
 },
 "nbformat": 4,
 "nbformat_minor": 1
}